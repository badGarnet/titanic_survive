{
 "cells": [
  {
   "cell_type": "code",
   "execution_count": 1,
   "metadata": {
    "collapsed": false
   },
   "outputs": [
    {
     "data": {
      "text/html": [
       "<div>\n",
       "<table border=\"1\" class=\"dataframe\">\n",
       "  <thead>\n",
       "    <tr style=\"text-align: right;\">\n",
       "      <th></th>\n",
       "      <th>Survived</th>\n",
       "      <th>Pclass</th>\n",
       "      <th>Age</th>\n",
       "      <th>Sex</th>\n",
       "      <th>SibSp</th>\n",
       "      <th>Parch</th>\n",
       "      <th>Fare</th>\n",
       "      <th>Embarked</th>\n",
       "    </tr>\n",
       "  </thead>\n",
       "  <tbody>\n",
       "    <tr>\n",
       "      <th>count</th>\n",
       "      <td>343.000000</td>\n",
       "      <td>343.000000</td>\n",
       "      <td>343.000000</td>\n",
       "      <td>343.000000</td>\n",
       "      <td>343.000000</td>\n",
       "      <td>343.000000</td>\n",
       "      <td>343.000000</td>\n",
       "      <td>343.000000</td>\n",
       "    </tr>\n",
       "    <tr>\n",
       "      <th>mean</th>\n",
       "      <td>0.387755</td>\n",
       "      <td>2.288630</td>\n",
       "      <td>28.544461</td>\n",
       "      <td>0.690962</td>\n",
       "      <td>0.556851</td>\n",
       "      <td>0.425656</td>\n",
       "      <td>34.606231</td>\n",
       "      <td>1.262391</td>\n",
       "    </tr>\n",
       "    <tr>\n",
       "      <th>std</th>\n",
       "      <td>0.487950</td>\n",
       "      <td>0.817258</td>\n",
       "      <td>14.047732</td>\n",
       "      <td>0.243284</td>\n",
       "      <td>1.003854</td>\n",
       "      <td>0.816236</td>\n",
       "      <td>52.494235</td>\n",
       "      <td>0.588349</td>\n",
       "    </tr>\n",
       "    <tr>\n",
       "      <th>min</th>\n",
       "      <td>0.000000</td>\n",
       "      <td>1.000000</td>\n",
       "      <td>0.830000</td>\n",
       "      <td>0.500000</td>\n",
       "      <td>0.000000</td>\n",
       "      <td>0.000000</td>\n",
       "      <td>0.000000</td>\n",
       "      <td>-3.000000</td>\n",
       "    </tr>\n",
       "    <tr>\n",
       "      <th>25%</th>\n",
       "      <td>0.000000</td>\n",
       "      <td>2.000000</td>\n",
       "      <td>20.000000</td>\n",
       "      <td>0.500000</td>\n",
       "      <td>0.000000</td>\n",
       "      <td>0.000000</td>\n",
       "      <td>8.050000</td>\n",
       "      <td>1.000000</td>\n",
       "    </tr>\n",
       "    <tr>\n",
       "      <th>50%</th>\n",
       "      <td>0.000000</td>\n",
       "      <td>3.000000</td>\n",
       "      <td>28.000000</td>\n",
       "      <td>0.500000</td>\n",
       "      <td>0.000000</td>\n",
       "      <td>0.000000</td>\n",
       "      <td>14.500000</td>\n",
       "      <td>1.000000</td>\n",
       "    </tr>\n",
       "    <tr>\n",
       "      <th>75%</th>\n",
       "      <td>1.000000</td>\n",
       "      <td>3.000000</td>\n",
       "      <td>36.000000</td>\n",
       "      <td>1.000000</td>\n",
       "      <td>1.000000</td>\n",
       "      <td>1.000000</td>\n",
       "      <td>31.387500</td>\n",
       "      <td>1.000000</td>\n",
       "    </tr>\n",
       "    <tr>\n",
       "      <th>max</th>\n",
       "      <td>1.000000</td>\n",
       "      <td>3.000000</td>\n",
       "      <td>71.000000</td>\n",
       "      <td>1.000000</td>\n",
       "      <td>5.000000</td>\n",
       "      <td>5.000000</td>\n",
       "      <td>512.329200</td>\n",
       "      <td>3.000000</td>\n",
       "    </tr>\n",
       "  </tbody>\n",
       "</table>\n",
       "</div>"
      ],
      "text/plain": [
       "         Survived      Pclass         Age         Sex       SibSp       Parch  \\\n",
       "count  343.000000  343.000000  343.000000  343.000000  343.000000  343.000000   \n",
       "mean     0.387755    2.288630   28.544461    0.690962    0.556851    0.425656   \n",
       "std      0.487950    0.817258   14.047732    0.243284    1.003854    0.816236   \n",
       "min      0.000000    1.000000    0.830000    0.500000    0.000000    0.000000   \n",
       "25%      0.000000    2.000000   20.000000    0.500000    0.000000    0.000000   \n",
       "50%      0.000000    3.000000   28.000000    0.500000    0.000000    0.000000   \n",
       "75%      1.000000    3.000000   36.000000    1.000000    1.000000    1.000000   \n",
       "max      1.000000    3.000000   71.000000    1.000000    5.000000    5.000000   \n",
       "\n",
       "             Fare    Embarked  \n",
       "count  343.000000  343.000000  \n",
       "mean    34.606231    1.262391  \n",
       "std     52.494235    0.588349  \n",
       "min      0.000000   -3.000000  \n",
       "25%      8.050000    1.000000  \n",
       "50%     14.500000    1.000000  \n",
       "75%     31.387500    1.000000  \n",
       "max    512.329200    3.000000  "
      ]
     },
     "execution_count": 1,
     "metadata": {},
     "output_type": "execute_result"
    }
   ],
   "source": [
    "import scipy.optimize as scop\n",
    "import titanic_project as titan\n",
    "import numpy as np\n",
    "import matplotlib.pyplot as plt\n",
    "\n",
    "features = ['Survived', 'Pclass', 'Age', 'Sex', 'SibSp', 'Parch', 'Fare','Embarked']\n",
    "datain = titan.readdata('train.csv', 0.6, 0.6, features)\n",
    "datain['train'].describe()"
   ]
  },
  {
   "cell_type": "code",
   "execution_count": 2,
   "metadata": {
    "collapsed": false
   },
   "outputs": [],
   "source": [
    "X = np.array(datain['train'].ix[:,1:])\n",
    "y = np.array(datain['train'].ix[:,0])\n",
    "Xvad = np.array(datain['validation'].ix[:,1:])\n",
    "yvad = np.array(datain['validation'].ix[:,0])\n",
    "X = titan.normdata(X)\n",
    "Xvad = titan.normdata(Xvad)"
   ]
  },
  {
   "cell_type": "code",
   "execution_count": 3,
   "metadata": {
    "collapsed": true
   },
   "outputs": [],
   "source": [
    "nfeature = X.shape[1]\n",
    "theta0 = np.zeros(shape = (nfeature, 1))\n",
    "regpara = 1.0"
   ]
  },
  {
   "cell_type": "code",
   "execution_count": 4,
   "metadata": {
    "collapsed": true
   },
   "outputs": [],
   "source": [
    "w = scop.fmin_l_bfgs_b(titan.lfCost, theta0, titan.lfGradient, (X, y, regpara))"
   ]
  },
  {
   "cell_type": "code",
   "execution_count": 5,
   "metadata": {
    "collapsed": true
   },
   "outputs": [],
   "source": [
    "y_predict = titan.sigmoid(np.dot(X,w[0]))"
   ]
  },
  {
   "cell_type": "code",
   "execution_count": 6,
   "metadata": {
    "collapsed": false
   },
   "outputs": [],
   "source": [
    "y_predict[y_predict > 0.5] = 1"
   ]
  },
  {
   "cell_type": "code",
   "execution_count": 7,
   "metadata": {
    "collapsed": true
   },
   "outputs": [],
   "source": [
    "y_predict[y_predict <= 0.5] = 0"
   ]
  },
  {
   "cell_type": "code",
   "execution_count": 8,
   "metadata": {
    "collapsed": false
   },
   "outputs": [
    {
     "data": {
      "text/plain": [
       "0.79300291545189505"
      ]
     },
     "execution_count": 8,
     "metadata": {},
     "output_type": "execute_result"
    }
   ],
   "source": [
    "(y_predict == y).sum()*1.0/y.size"
   ]
  },
  {
   "cell_type": "code",
   "execution_count": 9,
   "metadata": {
    "collapsed": false
   },
   "outputs": [],
   "source": [
    "regpara = np.array([0, 0.01, 0.03, 0.1, 0.3, 1, 3, 10]) * 0.5\n",
    "trainerror = np.zeros(shape = (regpara.size, 1))\n",
    "vaderror = np.zeros(shape = (regpara.size, 1))\n",
    "\n",
    "for i in range(0, regpara.size):\n",
    "    theta = scop.fmin_l_bfgs_b(titan.lfCost, theta0, titan.lfGradient, (X, y, regpara[i]))[0]\n",
    "    trainerror[i] = titan.lfCost(theta, X, y, 0.0)\n",
    "    vaderror[i] = titan.lfCost(theta, Xvad, yvad, 0.0)"
   ]
  },
  {
   "cell_type": "code",
   "execution_count": 10,
   "metadata": {
    "collapsed": false
   },
   "outputs": [
    {
     "data": {
      "image/png": "[encoded data removed]",
      "text/plain": [
       "<matplotlib.figure.Figure at 0x498ff60>"
      ]
     },
     "metadata": {},
     "output_type": "display_data"
    }
   ],
   "source": [
    "plt.plot(regpara, trainerror, '-b', regpara, vaderror,'-r')\n",
    "plt.show()"
   ]
  },
  {
   "cell_type": "code",
   "execution_count": 11,
   "metadata": {
    "collapsed": false
   },
   "outputs": [],
   "source": [
    "tp = np.linspace(0.2, 0.7, 20)"
   ]
  },
  {
   "cell_type": "code",
   "execution_count": 12,
   "metadata": {
    "collapsed": false
   },
   "outputs": [
    {
     "ename": "TypeError",
     "evalue": "readdata() takes exactly 4 arguments (3 given)",
     "output_type": "error",
     "traceback": [
      "\u001b[0;31m---------------------------------------------------------------------------\u001b[0m",
      "\u001b[0;31mTypeError\u001b[0m                                 Traceback (most recent call last)",
      "\u001b[0;32m<ipython-input-12-001a14f270d2>\u001b[0m in \u001b[0;36m<module>\u001b[0;34m()\u001b[0m\n\u001b[1;32m      2\u001b[0m \u001b[0mvaderror\u001b[0m \u001b[1;33m=\u001b[0m \u001b[0mnp\u001b[0m\u001b[1;33m.\u001b[0m\u001b[0mzeros\u001b[0m\u001b[1;33m(\u001b[0m\u001b[0mshape\u001b[0m \u001b[1;33m=\u001b[0m \u001b[1;33m(\u001b[0m\u001b[0mtp\u001b[0m\u001b[1;33m.\u001b[0m\u001b[0msize\u001b[0m\u001b[1;33m,\u001b[0m \u001b[1;36m1\u001b[0m\u001b[1;33m)\u001b[0m\u001b[1;33m)\u001b[0m\u001b[1;33m\u001b[0m\u001b[0m\n\u001b[1;32m      3\u001b[0m \u001b[1;32mfor\u001b[0m \u001b[0mi\u001b[0m \u001b[1;32min\u001b[0m \u001b[0mrange\u001b[0m\u001b[1;33m(\u001b[0m\u001b[1;36m0\u001b[0m\u001b[1;33m,\u001b[0m \u001b[0mtp\u001b[0m\u001b[1;33m.\u001b[0m\u001b[0msize\u001b[0m\u001b[1;33m)\u001b[0m\u001b[1;33m:\u001b[0m\u001b[1;33m\u001b[0m\u001b[0m\n\u001b[0;32m----> 4\u001b[0;31m     \u001b[0mdatain\u001b[0m \u001b[1;33m=\u001b[0m \u001b[0mtitan\u001b[0m\u001b[1;33m.\u001b[0m\u001b[0mreaddata\u001b[0m\u001b[1;33m(\u001b[0m\u001b[1;34m'train.csv'\u001b[0m\u001b[1;33m,\u001b[0m \u001b[0mtp\u001b[0m\u001b[1;33m[\u001b[0m\u001b[0mi\u001b[0m\u001b[1;33m]\u001b[0m\u001b[1;33m,\u001b[0m \u001b[1;36m0.7\u001b[0m\u001b[1;33m)\u001b[0m\u001b[1;33m\u001b[0m\u001b[0m\n\u001b[0m\u001b[1;32m      5\u001b[0m     \u001b[0mX\u001b[0m \u001b[1;33m=\u001b[0m \u001b[0mnp\u001b[0m\u001b[1;33m.\u001b[0m\u001b[0marray\u001b[0m\u001b[1;33m(\u001b[0m\u001b[0mdatain\u001b[0m\u001b[1;33m[\u001b[0m\u001b[1;34m'train'\u001b[0m\u001b[1;33m]\u001b[0m\u001b[1;33m.\u001b[0m\u001b[0mix\u001b[0m\u001b[1;33m[\u001b[0m\u001b[1;33m:\u001b[0m\u001b[1;33m,\u001b[0m\u001b[1;36m1\u001b[0m\u001b[1;33m:\u001b[0m\u001b[1;33m]\u001b[0m\u001b[1;33m)\u001b[0m\u001b[1;33m\u001b[0m\u001b[0m\n\u001b[1;32m      6\u001b[0m     \u001b[0my\u001b[0m \u001b[1;33m=\u001b[0m \u001b[0mnp\u001b[0m\u001b[1;33m.\u001b[0m\u001b[0marray\u001b[0m\u001b[1;33m(\u001b[0m\u001b[0mdatain\u001b[0m\u001b[1;33m[\u001b[0m\u001b[1;34m'train'\u001b[0m\u001b[1;33m]\u001b[0m\u001b[1;33m.\u001b[0m\u001b[0mix\u001b[0m\u001b[1;33m[\u001b[0m\u001b[1;33m:\u001b[0m\u001b[1;33m,\u001b[0m\u001b[1;36m0\u001b[0m\u001b[1;33m]\u001b[0m\u001b[1;33m)\u001b[0m\u001b[1;33m\u001b[0m\u001b[0m\n",
      "\u001b[0;31mTypeError\u001b[0m: readdata() takes exactly 4 arguments (3 given)"
     ]
    }
   ],
   "source": [
    "trainerror = np.zeros(shape = (tp.size, 1))\n",
    "vaderror = np.zeros(shape = (tp.size, 1))\n",
    "for i in range(0, tp.size):\n",
    "    datain = titan.readdata('train.csv', tp[i], 0.7, features)\n",
    "    X = np.array(datain['train'].ix[:,1:])\n",
    "    y = np.array(datain['train'].ix[:,0])\n",
    "    Xvad = np.array(datain['validation'].ix[:,1:])\n",
    "    yvad = np.array(datain['validation'].ix[:,0])\n",
    "    nfeature = X.shape[1]\n",
    "    theta0 = np.zeros(shape = (nfeature, 1))\n",
    "    regpara = 1.5\n",
    "    theta = scop.fmin_l_bfgs_b(titan.lfCost, theta0, titan.lfGradient, (X, y, regpara))[0]\n",
    "    trainerror[i] = titan.lfCost(theta, X, y, 0.0)\n",
    "    vaderror[i] = titan.lfCost(theta, Xvad, yvad, 0.0)\n",
    "plt.plot(tp, trainerror, '-b', tp, vaderror,'-r')\n",
    "plt.xlabel('proportion of data used for training')\n",
    "plt.ylabel('error')\n",
    "plt.legend(['training','validation'])\n",
    "plt.show()"
   ]
  },
  {
   "cell_type": "markdown",
   "metadata": {},
   "source": [
    "The learning curve suggests at leat 60% of the train.csv dataset is needed to produce a reasonable model. "
   ]
  },
  {
   "cell_type": "code",
   "execution_count": null,
   "metadata": {
    "collapsed": false
   },
   "outputs": [],
   "source": [
    "plt.plot(datain['train'].Age[y==0], datain['train'].Pclass[y==0], 'xb')\n",
    "plt.plot(datain['train'].Age[y==1], datain['train'].Pclass[y==1], 'or')\n",
    "plt.xlabel('age')\n",
    "plt.ylabel('SibSp')\n",
    "plt.legend(['not survived', 'survived'])\n",
    "plt.show()"
   ]
  },
  {
   "cell_type": "code",
   "execution_count": null,
   "metadata": {
    "collapsed": false
   },
   "outputs": [],
   "source": [
    "datain = titan.readdata('train.csv', 0.6, 0.6)\n",
    "X = np.array(datain['train'].ix[:,1:])\n",
    "y = np.array(datain['train'].ix[:,0])\n",
    "Xvad = np.array(datain['validation'].ix[:,1:])\n",
    "yvad = np.array(datain['validation'].ix[:,0])\n",
    "\n",
    "Xq = titan.xquad(X)\n",
    "Xvadq = titan.xquad(Xvad)\n",
    "\n",
    "nfeature = Xq.shape[1]\n",
    "theta0 = np.zeros(shape = (nfeature, 1))\n",
    "regpara = 1.0"
   ]
  },
  {
   "cell_type": "code",
   "execution_count": null,
   "metadata": {
    "collapsed": false
   },
   "outputs": [],
   "source": [
    "w = scop.fmin_l_bfgs_b(titan.lfCost, theta0, titan.lfGradient, (Xq, y, regpara))\n",
    "plt.plot(w[0])\n",
    "plt.show()"
   ]
  },
  {
   "cell_type": "code",
   "execution_count": null,
   "metadata": {
    "collapsed": false
   },
   "outputs": [],
   "source": [
    "y_predict = titan.sigmoid(np.dot(Xq,w[0]))\n",
    "y_predict[y_predict > 0.5] = 1\n",
    "y_predict[y_predict <= 0.5] = 0\n",
    "(y_predict == y).sum()*1.0/y.size"
   ]
  },
  {
   "cell_type": "code",
   "execution_count": null,
   "metadata": {
    "collapsed": false
   },
   "outputs": [],
   "source": [
    "regpara = np.array([0, 0.01, 0.03, 0.1, 0.3, 1, 3, 10])\n",
    "trainerror = np.zeros(shape = (regpara.size, 1))\n",
    "vaderror = np.zeros(shape = (regpara.size, 1))\n",
    "\n",
    "for i in range(0, regpara.size):\n",
    "    theta = scop.fmin_l_bfgs_b(titan.lfCost, theta0, titan.lfGradient, (Xq, y, regpara[i]))[0]\n",
    "    trainerror[i] = titan.lfCost(theta, Xq, y, 0.0)\n",
    "    vaderror[i] = titan.lfCost(theta, Xvadq, yvad, 0.0)\n",
    "plt.plot(regpara, trainerror, '-b', regpara, vaderror,'-r')\n",
    "plt.xlabel('proportion of data used for training')\n",
    "plt.ylabel('error')\n",
    "plt.legend(['training','validation'])\n",
    "plt.show()"
   ]
  },
  {
   "cell_type": "code",
   "execution_count": null,
   "metadata": {
    "collapsed": true
   },
   "outputs": [],
   "source": [
    "The learning curve above suggests that adding 2nd order terms makes the model highly variant, i.e., overfitting. "
   ]
  }
 ],
 "metadata": {
  "kernelspec": {
   "display_name": "Python 2",
   "language": "python",
   "name": "python2"
  },
  "language_info": {
   "codemirror_mode": {
    "name": "ipython",
    "version": 2
   },
   "file_extension": ".py",
   "mimetype": "text/x-python",
   "name": "python",
   "nbconvert_exporter": "python",
   "pygments_lexer": "ipython2",
   "version": "2.7.13"
  }
 },
 "nbformat": 4,
 "nbformat_minor": 2
}
