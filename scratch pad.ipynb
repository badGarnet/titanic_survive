{
 "cells": [
  {
   "cell_type": "code",
   "execution_count": 1,
   "metadata": {
    "collapsed": false,
    "scrolled": true
   },
   "outputs": [
    {
     "data": {
      "text/html": [
       "<div>\n",
       "<table border=\"1\" class=\"dataframe\">\n",
       "  <thead>\n",
       "    <tr style=\"text-align: right;\">\n",
       "      <th></th>\n",
       "      <th>Survived</th>\n",
       "      <th>Pclass</th>\n",
       "      <th>Age</th>\n",
       "      <th>Sex</th>\n",
       "      <th>SibSp</th>\n",
       "      <th>Parch</th>\n",
       "      <th>Fare</th>\n",
       "      <th>Embarked</th>\n",
       "      <th>Name</th>\n",
       "      <th>Cabin</th>\n",
       "      <th>Ticket</th>\n",
       "    </tr>\n",
       "  </thead>\n",
       "  <tbody>\n",
       "    <tr>\n",
       "      <th>0</th>\n",
       "      <td>0</td>\n",
       "      <td>3</td>\n",
       "      <td>22.0</td>\n",
       "      <td>-1</td>\n",
       "      <td>1</td>\n",
       "      <td>0</td>\n",
       "      <td>7.2500</td>\n",
       "      <td>1</td>\n",
       "      <td>Braund, Mr. Owen Harris</td>\n",
       "      <td>NaN</td>\n",
       "      <td>A/5 21171</td>\n",
       "    </tr>\n",
       "    <tr>\n",
       "      <th>1</th>\n",
       "      <td>1</td>\n",
       "      <td>1</td>\n",
       "      <td>38.0</td>\n",
       "      <td>1</td>\n",
       "      <td>1</td>\n",
       "      <td>0</td>\n",
       "      <td>71.2833</td>\n",
       "      <td>2</td>\n",
       "      <td>Cumings, Mrs. John Bradley (Florence Briggs Th...</td>\n",
       "      <td>C85</td>\n",
       "      <td>PC 17599</td>\n",
       "    </tr>\n",
       "    <tr>\n",
       "      <th>2</th>\n",
       "      <td>1</td>\n",
       "      <td>3</td>\n",
       "      <td>26.0</td>\n",
       "      <td>1</td>\n",
       "      <td>0</td>\n",
       "      <td>0</td>\n",
       "      <td>7.9250</td>\n",
       "      <td>1</td>\n",
       "      <td>Heikkinen, Miss. Laina</td>\n",
       "      <td>NaN</td>\n",
       "      <td>STON/O2. 3101282</td>\n",
       "    </tr>\n",
       "    <tr>\n",
       "      <th>3</th>\n",
       "      <td>1</td>\n",
       "      <td>1</td>\n",
       "      <td>35.0</td>\n",
       "      <td>1</td>\n",
       "      <td>1</td>\n",
       "      <td>0</td>\n",
       "      <td>53.1000</td>\n",
       "      <td>1</td>\n",
       "      <td>Futrelle, Mrs. Jacques Heath (Lily May Peel)</td>\n",
       "      <td>C123</td>\n",
       "      <td>113803</td>\n",
       "    </tr>\n",
       "    <tr>\n",
       "      <th>4</th>\n",
       "      <td>0</td>\n",
       "      <td>3</td>\n",
       "      <td>35.0</td>\n",
       "      <td>-1</td>\n",
       "      <td>0</td>\n",
       "      <td>0</td>\n",
       "      <td>8.0500</td>\n",
       "      <td>1</td>\n",
       "      <td>Allen, Mr. William Henry</td>\n",
       "      <td>NaN</td>\n",
       "      <td>373450</td>\n",
       "    </tr>\n",
       "  </tbody>\n",
       "</table>\n",
       "</div>"
      ],
      "text/plain": [
       "   Survived  Pclass   Age  Sex  SibSp  Parch     Fare  Embarked  \\\n",
       "0         0       3  22.0   -1      1      0   7.2500         1   \n",
       "1         1       1  38.0    1      1      0  71.2833         2   \n",
       "2         1       3  26.0    1      0      0   7.9250         1   \n",
       "3         1       1  35.0    1      1      0  53.1000         1   \n",
       "4         0       3  35.0   -1      0      0   8.0500         1   \n",
       "\n",
       "                                                Name Cabin            Ticket  \n",
       "0                            Braund, Mr. Owen Harris   NaN         A/5 21171  \n",
       "1  Cumings, Mrs. John Bradley (Florence Briggs Th...   C85          PC 17599  \n",
       "2                             Heikkinen, Miss. Laina   NaN  STON/O2. 3101282  \n",
       "3       Futrelle, Mrs. Jacques Heath (Lily May Peel)  C123            113803  \n",
       "4                           Allen, Mr. William Henry   NaN            373450  "
      ]
     },
     "execution_count": 1,
     "metadata": {},
     "output_type": "execute_result"
    }
   ],
   "source": [
    "import scipy.optimize as scop\n",
    "import titanic_project as titan\n",
    "import numpy as np\n",
    "import matplotlib.pyplot as plt\n",
    "\n",
    "features = ['Survived', 'Pclass', 'Age', 'Sex', 'SibSp', 'Parch', 'Fare','Embarked','Name', 'Cabin', 'Ticket']\n",
    "datain = titan.readdata('train.csv', 0.6, 0.6, features)\n",
    "trainset = datain['train']\n",
    "trainset.head()"
   ]
  },
  {
   "cell_type": "code",
   "execution_count": 5,
   "metadata": {
    "collapsed": false,
    "scrolled": false
   },
   "outputs": [
    {
     "data": {
      "text/plain": [
       "Survived    0.000000\n",
       "Pclass      0.000000\n",
       "Age         0.207477\n",
       "Sex         0.000000\n",
       "SibSp       0.000000\n",
       "Parch       0.000000\n",
       "Fare        0.000000\n",
       "Embarked    0.000000\n",
       "Name        0.000000\n",
       "Cabin       0.773832\n",
       "Ticket      0.000000\n",
       "dtype: float64"
      ]
     },
     "execution_count": 5,
     "metadata": {},
     "output_type": "execute_result"
    }
   ],
   "source": [
    "trainset.isnull().sum() / trainset.shape[0]"
   ]
  },
  {
   "cell_type": "markdown",
   "metadata": {
    "collapsed": false
   },
   "source": [
    "Majority of the Cabin information is missing. "
   ]
  },
  {
   "cell_type": "code",
   "execution_count": 27,
   "metadata": {
    "collapsed": false,
    "scrolled": false
   },
   "outputs": [
    {
     "data": {
      "text/html": [
       "<div>\n",
       "<table border=\"1\" class=\"dataframe\">\n",
       "  <thead>\n",
       "    <tr style=\"text-align: right;\">\n",
       "      <th></th>\n",
       "      <th>Survived</th>\n",
       "      <th>Pclass</th>\n",
       "      <th>Age</th>\n",
       "      <th>Sex</th>\n",
       "      <th>SibSp</th>\n",
       "      <th>Parch</th>\n",
       "      <th>Fare</th>\n",
       "      <th>Embarked</th>\n",
       "      <th>cabclass</th>\n",
       "    </tr>\n",
       "  </thead>\n",
       "  <tbody>\n",
       "    <tr>\n",
       "      <th>Survived</th>\n",
       "      <td>1.000000</td>\n",
       "      <td>-0.270099</td>\n",
       "      <td>-0.094232</td>\n",
       "      <td>0.571729</td>\n",
       "      <td>-0.046940</td>\n",
       "      <td>0.087018</td>\n",
       "      <td>0.205579</td>\n",
       "      <td>0.108864</td>\n",
       "      <td>0.242205</td>\n",
       "    </tr>\n",
       "    <tr>\n",
       "      <th>Pclass</th>\n",
       "      <td>-0.270099</td>\n",
       "      <td>1.000000</td>\n",
       "      <td>-0.359838</td>\n",
       "      <td>-0.115367</td>\n",
       "      <td>0.101060</td>\n",
       "      <td>0.001775</td>\n",
       "      <td>-0.586986</td>\n",
       "      <td>0.054265</td>\n",
       "      <td>-0.529018</td>\n",
       "    </tr>\n",
       "    <tr>\n",
       "      <th>Age</th>\n",
       "      <td>-0.094232</td>\n",
       "      <td>-0.359838</td>\n",
       "      <td>1.000000</td>\n",
       "      <td>-0.091064</td>\n",
       "      <td>-0.353861</td>\n",
       "      <td>-0.238634</td>\n",
       "      <td>0.083645</td>\n",
       "      <td>0.018236</td>\n",
       "      <td>0.137889</td>\n",
       "    </tr>\n",
       "    <tr>\n",
       "      <th>Sex</th>\n",
       "      <td>0.571729</td>\n",
       "      <td>-0.115367</td>\n",
       "      <td>-0.091064</td>\n",
       "      <td>1.000000</td>\n",
       "      <td>0.070997</td>\n",
       "      <td>0.168163</td>\n",
       "      <td>0.180971</td>\n",
       "      <td>0.115029</td>\n",
       "      <td>0.111086</td>\n",
       "    </tr>\n",
       "    <tr>\n",
       "      <th>SibSp</th>\n",
       "      <td>-0.046940</td>\n",
       "      <td>0.101060</td>\n",
       "      <td>-0.353861</td>\n",
       "      <td>0.070997</td>\n",
       "      <td>1.000000</td>\n",
       "      <td>0.440383</td>\n",
       "      <td>0.181967</td>\n",
       "      <td>-0.041111</td>\n",
       "      <td>-0.065250</td>\n",
       "    </tr>\n",
       "    <tr>\n",
       "      <th>Parch</th>\n",
       "      <td>0.087018</td>\n",
       "      <td>0.001775</td>\n",
       "      <td>-0.238634</td>\n",
       "      <td>0.168163</td>\n",
       "      <td>0.440383</td>\n",
       "      <td>1.000000</td>\n",
       "      <td>0.260505</td>\n",
       "      <td>-0.124586</td>\n",
       "      <td>0.054288</td>\n",
       "    </tr>\n",
       "    <tr>\n",
       "      <th>Fare</th>\n",
       "      <td>0.205579</td>\n",
       "      <td>-0.586986</td>\n",
       "      <td>0.083645</td>\n",
       "      <td>0.180971</td>\n",
       "      <td>0.181967</td>\n",
       "      <td>0.260505</td>\n",
       "      <td>1.000000</td>\n",
       "      <td>0.038452</td>\n",
       "      <td>0.325645</td>\n",
       "    </tr>\n",
       "    <tr>\n",
       "      <th>Embarked</th>\n",
       "      <td>0.108864</td>\n",
       "      <td>0.054265</td>\n",
       "      <td>0.018236</td>\n",
       "      <td>0.115029</td>\n",
       "      <td>-0.041111</td>\n",
       "      <td>-0.124586</td>\n",
       "      <td>0.038452</td>\n",
       "      <td>1.000000</td>\n",
       "      <td>-0.005776</td>\n",
       "    </tr>\n",
       "    <tr>\n",
       "      <th>cabclass</th>\n",
       "      <td>0.242205</td>\n",
       "      <td>-0.529018</td>\n",
       "      <td>0.137889</td>\n",
       "      <td>0.111086</td>\n",
       "      <td>-0.065250</td>\n",
       "      <td>0.054288</td>\n",
       "      <td>0.325645</td>\n",
       "      <td>-0.005776</td>\n",
       "      <td>1.000000</td>\n",
       "    </tr>\n",
       "  </tbody>\n",
       "</table>\n",
       "</div>"
      ],
      "text/plain": [
       "          Survived    Pclass       Age       Sex     SibSp     Parch  \\\n",
       "Survived  1.000000 -0.270099 -0.094232  0.571729 -0.046940  0.087018   \n",
       "Pclass   -0.270099  1.000000 -0.359838 -0.115367  0.101060  0.001775   \n",
       "Age      -0.094232 -0.359838  1.000000 -0.091064 -0.353861 -0.238634   \n",
       "Sex       0.571729 -0.115367 -0.091064  1.000000  0.070997  0.168163   \n",
       "SibSp    -0.046940  0.101060 -0.353861  0.070997  1.000000  0.440383   \n",
       "Parch     0.087018  0.001775 -0.238634  0.168163  0.440383  1.000000   \n",
       "Fare      0.205579 -0.586986  0.083645  0.180971  0.181967  0.260505   \n",
       "Embarked  0.108864  0.054265  0.018236  0.115029 -0.041111 -0.124586   \n",
       "cabclass  0.242205 -0.529018  0.137889  0.111086 -0.065250  0.054288   \n",
       "\n",
       "              Fare  Embarked  cabclass  \n",
       "Survived  0.205579  0.108864  0.242205  \n",
       "Pclass   -0.586986  0.054265 -0.529018  \n",
       "Age       0.083645  0.018236  0.137889  \n",
       "Sex       0.180971  0.115029  0.111086  \n",
       "SibSp     0.181967 -0.041111 -0.065250  \n",
       "Parch     0.260505 -0.124586  0.054288  \n",
       "Fare      1.000000  0.038452  0.325645  \n",
       "Embarked  0.038452  1.000000 -0.005776  \n",
       "cabclass  0.325645 -0.005776  1.000000  "
      ]
     },
     "execution_count": 27,
     "metadata": {},
     "output_type": "execute_result"
    }
   ],
   "source": [
    "cabinclass = trainset.Cabin.apply(lambda x: str(x)[0])\n",
    "trainset = trainset.assign(cabclass = cabinclass)\n",
    "ckey = cabinclass.unique()\n",
    "cnum = np.arange(0, ckey.size)\n",
    "ckey2num = dict(zip(ckey, cnum))\n",
    "trainset.cabclass = trainset.cabclass.map(ckey2num)\n",
    "trainset.corr()"
   ]
  },
  {
   "cell_type": "code",
   "execution_count": 28,
   "metadata": {
    "collapsed": false
   },
   "outputs": [
    {
     "data": {
      "text/html": [
       "<div>\n",
       "<table border=\"1\" class=\"dataframe\">\n",
       "  <thead>\n",
       "    <tr style=\"text-align: right;\">\n",
       "      <th></th>\n",
       "      <th>Survived</th>\n",
       "      <th>Pclass</th>\n",
       "      <th>Age</th>\n",
       "      <th>Sex</th>\n",
       "      <th>SibSp</th>\n",
       "      <th>Parch</th>\n",
       "      <th>Fare</th>\n",
       "      <th>Embarked</th>\n",
       "      <th>Name</th>\n",
       "      <th>Cabin</th>\n",
       "      <th>Ticket</th>\n",
       "    </tr>\n",
       "  </thead>\n",
       "  <tbody>\n",
       "    <tr>\n",
       "      <th>0</th>\n",
       "      <td>NaN</td>\n",
       "      <td>3</td>\n",
       "      <td>34.5</td>\n",
       "      <td>-1</td>\n",
       "      <td>0</td>\n",
       "      <td>0</td>\n",
       "      <td>7.8292</td>\n",
       "      <td>3</td>\n",
       "      <td>Kelly, Mr. James</td>\n",
       "      <td>NaN</td>\n",
       "      <td>330911</td>\n",
       "    </tr>\n",
       "    <tr>\n",
       "      <th>1</th>\n",
       "      <td>NaN</td>\n",
       "      <td>3</td>\n",
       "      <td>47.0</td>\n",
       "      <td>1</td>\n",
       "      <td>1</td>\n",
       "      <td>0</td>\n",
       "      <td>7.0000</td>\n",
       "      <td>1</td>\n",
       "      <td>Wilkes, Mrs. James (Ellen Needs)</td>\n",
       "      <td>NaN</td>\n",
       "      <td>363272</td>\n",
       "    </tr>\n",
       "    <tr>\n",
       "      <th>2</th>\n",
       "      <td>NaN</td>\n",
       "      <td>2</td>\n",
       "      <td>62.0</td>\n",
       "      <td>-1</td>\n",
       "      <td>0</td>\n",
       "      <td>0</td>\n",
       "      <td>9.6875</td>\n",
       "      <td>3</td>\n",
       "      <td>Myles, Mr. Thomas Francis</td>\n",
       "      <td>NaN</td>\n",
       "      <td>240276</td>\n",
       "    </tr>\n",
       "    <tr>\n",
       "      <th>3</th>\n",
       "      <td>NaN</td>\n",
       "      <td>3</td>\n",
       "      <td>27.0</td>\n",
       "      <td>-1</td>\n",
       "      <td>0</td>\n",
       "      <td>0</td>\n",
       "      <td>8.6625</td>\n",
       "      <td>1</td>\n",
       "      <td>Wirz, Mr. Albert</td>\n",
       "      <td>NaN</td>\n",
       "      <td>315154</td>\n",
       "    </tr>\n",
       "    <tr>\n",
       "      <th>4</th>\n",
       "      <td>NaN</td>\n",
       "      <td>3</td>\n",
       "      <td>22.0</td>\n",
       "      <td>1</td>\n",
       "      <td>1</td>\n",
       "      <td>1</td>\n",
       "      <td>12.2875</td>\n",
       "      <td>1</td>\n",
       "      <td>Hirvonen, Mrs. Alexander (Helga E Lindqvist)</td>\n",
       "      <td>NaN</td>\n",
       "      <td>3101298</td>\n",
       "    </tr>\n",
       "  </tbody>\n",
       "</table>\n",
       "</div>"
      ],
      "text/plain": [
       "   Survived  Pclass   Age  Sex  SibSp  Parch     Fare  Embarked  \\\n",
       "0       NaN       3  34.5   -1      0      0   7.8292         3   \n",
       "1       NaN       3  47.0    1      1      0   7.0000         1   \n",
       "2       NaN       2  62.0   -1      0      0   9.6875         3   \n",
       "3       NaN       3  27.0   -1      0      0   8.6625         1   \n",
       "4       NaN       3  22.0    1      1      1  12.2875         1   \n",
       "\n",
       "                                           Name Cabin   Ticket  \n",
       "0                              Kelly, Mr. James   NaN   330911  \n",
       "1              Wilkes, Mrs. James (Ellen Needs)   NaN   363272  \n",
       "2                     Myles, Mr. Thomas Francis   NaN   240276  \n",
       "3                              Wirz, Mr. Albert   NaN   315154  \n",
       "4  Hirvonen, Mrs. Alexander (Helga E Lindqvist)   NaN  3101298  "
      ]
     },
     "execution_count": 28,
     "metadata": {},
     "output_type": "execute_result"
    }
   ],
   "source": [
    "features = ['Survived', 'Pclass', 'Age', 'Sex', 'SibSp', 'Parch', 'Fare','Embarked','Name', 'Cabin', 'Ticket']\n",
    "testin = titan.readdata('test.csv', 1, 1, features)\n",
    "testset = testin['train']\n",
    "testset.head()"
   ]
  },
  {
   "cell_type": "code",
   "execution_count": 29,
   "metadata": {
    "collapsed": false
   },
   "outputs": [
    {
     "data": {
      "text/plain": [
       "Survived    1.000000\n",
       "Pclass      0.000000\n",
       "Age         0.205742\n",
       "Sex         0.000000\n",
       "SibSp       0.000000\n",
       "Parch       0.000000\n",
       "Fare        0.002392\n",
       "Embarked    0.000000\n",
       "Name        0.000000\n",
       "Cabin       0.782297\n",
       "Ticket      0.000000\n",
       "dtype: float64"
      ]
     },
     "execution_count": 29,
     "metadata": {},
     "output_type": "execute_result"
    }
   ],
   "source": [
    "testset.isnull().sum() / testset.shape[0]"
   ]
  },
  {
   "cell_type": "code",
   "execution_count": 30,
   "metadata": {
    "collapsed": false
   },
   "outputs": [
    {
     "data": {
      "text/plain": [
       "{'A': 5, 'B': 6, 'C': 1, 'D': 4, 'E': 2, 'F': 7, 'G': 3, 'T': 8, 'n': 0}"
      ]
     },
     "execution_count": 30,
     "metadata": {},
     "output_type": "execute_result"
    }
   ],
   "source": [
    "ckey2num"
   ]
  },
  {
   "cell_type": "code",
   "execution_count": 7,
   "metadata": {
    "collapsed": false
   },
   "outputs": [],
   "source": [
    "y_predict[y_predict > 0.5] = 1"
   ]
  },
  {
   "cell_type": "code",
   "execution_count": 8,
   "metadata": {
    "collapsed": false
   },
   "outputs": [],
   "source": [
    "y_predict[y_predict <= 0.5] = 0"
   ]
  },
  {
   "cell_type": "code",
   "execution_count": 9,
   "metadata": {
    "collapsed": false
   },
   "outputs": [
    {
     "data": {
      "text/plain": [
       "0.79883381924198249"
      ]
     },
     "execution_count": 9,
     "metadata": {},
     "output_type": "execute_result"
    }
   ],
   "source": [
    "(y_predict == y).sum()*1.0/y.size"
   ]
  },
  {
   "cell_type": "code",
   "execution_count": 10,
   "metadata": {
    "collapsed": false
   },
   "outputs": [],
   "source": [
    "regpara = np.array([0, 0.01, 0.03, 0.1, 0.3, 1, 3, 10]) * 0.5\n",
    "trainerror = np.zeros(shape = (regpara.size, 1))\n",
    "vaderror = np.zeros(shape = (regpara.size, 1))\n",
    "\n",
    "for i in range(0, regpara.size):\n",
    "    theta = scop.fmin_l_bfgs_b(titan.lfCost, theta0, titan.lfGradient, (X, y, regpara[i]))[0]\n",
    "    trainerror[i] = titan.lfCost(theta, X, y, 0.0)\n",
    "    vaderror[i] = titan.lfCost(theta, Xvad, yvad, 0.0)"
   ]
  },
  {
   "cell_type": "code",
   "execution_count": 11,
   "metadata": {
    "collapsed": false
   },
   "outputs": [
    {
     "data": {
      "image/png": "[encoded data removed]",
      "text/plain": [
       "<matplotlib.figure.Figure at 0xae69748>"
      ]
     },
     "metadata": {},
     "output_type": "display_data"
    }
   ],
   "source": [
    "plt.plot(regpara, trainerror, '-b', regpara, vaderror,'-r')\n",
    "plt.show()"
   ]
  },
  {
   "cell_type": "code",
   "execution_count": 12,
   "metadata": {
    "collapsed": false
   },
   "outputs": [],
   "source": [
    "tp = np.linspace(0.2, 0.7, 20)"
   ]
  },
  {
   "cell_type": "code",
   "execution_count": 14,
   "metadata": {
    "collapsed": false
   },
   "outputs": [
    {
     "data": {
      "image/png": "[encoded data removed]",
      "text/plain": [
       "<matplotlib.figure.Figure at 0xbde2e80>"
      ]
     },
     "metadata": {},
     "output_type": "display_data"
    }
   ],
   "source": [
    "trainerror = np.zeros(shape = (tp.size, 1))\n",
    "vaderror = np.zeros(shape = (tp.size, 1))\n",
    "for i in range(0, tp.size):\n",
    "    datain = titan.readdata('train.csv', tp[i], 0.7, features)\n",
    "    X = np.array(datain['train'].ix[:,1:])\n",
    "    y = np.array(datain['train'].ix[:,0])\n",
    "    Xvad = np.array(datain['validation'].ix[:,1:])\n",
    "    yvad = np.array(datain['validation'].ix[:,0])\n",
    "    nfeature = X.shape[1]\n",
    "    theta0 = np.zeros(shape = (nfeature, 1))\n",
    "    regpara = 1.0\n",
    "    theta = scop.fmin_l_bfgs_b(titan.lfCost, theta0, titan.lfGradient, (X, y, regpara))[0]\n",
    "    trainerror[i] = titan.lfCost(theta, X, y, 0.0)\n",
    "    vaderror[i] = titan.lfCost(theta, Xvad, yvad, 0.0)\n",
    "plt.plot(tp, trainerror, '-b', tp, vaderror,'-r')\n",
    "plt.xlabel('proportion of data used for training')\n",
    "plt.ylabel('error')\n",
    "plt.legend(['training','validation'])\n",
    "plt.show()"
   ]
  },
  {
   "cell_type": "markdown",
   "metadata": {},
   "source": [
    "The learning curve suggests at leat 60% of the train.csv dataset is needed to produce a reasonable model. "
   ]
  },
  {
   "cell_type": "code",
   "execution_count": 15,
   "metadata": {
    "collapsed": true
   },
   "outputs": [],
   "source": [
    "datain = titan.readdata('train.csv', 0.7, 0.7, features)\n",
    "X = np.array(datain['train'].ix[:,1:])\n",
    "y = np.array(datain['train'].ix[:,0])\n",
    "Xvad = np.array(datain['validation'].ix[:,1:])\n",
    "yvad = np.array(datain['validation'].ix[:,0])"
   ]
  },
  {
   "cell_type": "code",
   "execution_count": 18,
   "metadata": {
    "collapsed": false
   },
   "outputs": [],
   "source": [
    "Xq = titan.normdata(titan.xquad(X))\n",
    "Xvadq = titan.normdata(titan.xquad(Xvad))\n",
    "Xq = np.concatenate((np.ones(shape=(Xq.shape[0], 1)), Xq), axis = 1)\n",
    "Xvadq = np.concatenate((np.ones(shape=(Xvadq.shape[0], 1)), Xvadq), axis = 1)\n",
    "\n",
    "nfeature = Xq.shape[1]\n",
    "theta0 = np.zeros(shape = (nfeature, 1))\n",
    "regpara = 1.0"
   ]
  },
  {
   "cell_type": "code",
   "execution_count": 19,
   "metadata": {
    "collapsed": false
   },
   "outputs": [
    {
     "data": {
      "image/png": "[encoded data removed]",
      "text/plain": [
       "<matplotlib.figure.Figure at 0xbfe16d8>"
      ]
     },
     "metadata": {},
     "output_type": "display_data"
    }
   ],
   "source": [
    "w = scop.fmin_l_bfgs_b(titan.lfCost, theta0, titan.lfGradient, (Xq, y, regpara))\n",
    "plt.plot(w[0])\n",
    "plt.show()"
   ]
  },
  {
   "cell_type": "markdown",
   "metadata": {},
   "source": [
    "The figure above shows the weight of each features used in the 2nd order polynomial model. Some parameters stood out while some have very little contributions to the regression."
   ]
  },
  {
   "cell_type": "code",
   "execution_count": 20,
   "metadata": {
    "collapsed": false
   },
   "outputs": [
    {
     "data": {
      "text/plain": [
       "0.81909547738693467"
      ]
     },
     "execution_count": 20,
     "metadata": {},
     "output_type": "execute_result"
    }
   ],
   "source": [
    "y_predict = titan.sigmoid(np.dot(Xq,w[0]))\n",
    "y_predict[y_predict > 0.5] = 1\n",
    "y_predict[y_predict <= 0.5] = 0\n",
    "(y_predict == y).sum()*1.0/y.size"
   ]
  },
  {
   "cell_type": "code",
   "execution_count": 23,
   "metadata": {
    "collapsed": false
   },
   "outputs": [
    {
     "data": {
      "image/png": "[encoded data removed]",
      "text/plain": [
       "<matplotlib.figure.Figure at 0xbde2d30>"
      ]
     },
     "metadata": {},
     "output_type": "display_data"
    }
   ],
   "source": [
    "trainerror = np.zeros(shape = (tp.size, 1))\n",
    "vaderror = np.zeros(shape = (tp.size, 1))\n",
    "for i in range(0, tp.size):\n",
    "    datain = titan.readdata('train.csv', tp[i], 0.7, features)\n",
    "    X = np.array(datain['train'].ix[:,1:])\n",
    "    y = np.array(datain['train'].ix[:,0])\n",
    "    Xvad = np.array(datain['validation'].ix[:,1:])\n",
    "    yvad = np.array(datain['validation'].ix[:,0])\n",
    "    \n",
    "    Xq = titan.normdata(titan.xquad(X))\n",
    "    Xvadq = titan.normdata(titan.xquad(Xvad))\n",
    "    Xq = np.concatenate((np.ones(shape=(Xq.shape[0], 1)), Xq), axis = 1)\n",
    "    Xvadq = np.concatenate((np.ones(shape=(Xvadq.shape[0], 1)), Xvadq), axis = 1)\n",
    "\n",
    "    nfeature = Xq.shape[1]\n",
    "    theta0 = np.zeros(shape = (nfeature, 1))\n",
    "    regpara = 1.0\n",
    "    theta = scop.fmin_l_bfgs_b(titan.lfCost, theta0, titan.lfGradient, (Xq, y, regpara))[0]\n",
    "    trainerror[i] = titan.lfCost(theta, Xq, y, 0.0)\n",
    "    vaderror[i] = titan.lfCost(theta, Xvadq, yvad, 0.0)\n",
    "plt.plot(tp, trainerror, '-b', tp, vaderror,'-r')\n",
    "plt.xlabel('proportion of data used for training')\n",
    "plt.ylabel('error')\n",
    "plt.legend(['training','validation'])\n",
    "plt.show()"
   ]
  },
  {
   "cell_type": "markdown",
   "metadata": {},
   "source": [
    "The learning curve suggests that with training data more than 50% of the train.csv dataset the model is able to avoid being overfitting, which is a problem with less than 40% of the data used for training. The absolute error for the validation set is smaller compared to the linear model, suggesting adding 2nd order terms improves the performance of the regression. To further reduce the error, we can try more complex set of features or models more advanced than logistic regression."
   ]
  },
  {
   "cell_type": "code",
   "execution_count": 24,
   "metadata": {
    "collapsed": false
   },
   "outputs": [
    {
     "data": {
      "text/plain": [
       "0.81072555205047314"
      ]
     },
     "execution_count": 24,
     "metadata": {},
     "output_type": "execute_result"
    }
   ],
   "source": [
    "yvad_predict = titan.sigmoid(np.dot(Xvadq,w[0]))\n",
    "yvad_predict[yvad_predict > 0.5] = 1\n",
    "yvad_predict[yvad_predict <= 0.5] = 0\n",
    "(yvad_predict == yvad).sum()*1.0/yvad.size"
   ]
  },
  {
   "cell_type": "markdown",
   "metadata": {},
   "source": [
    "The 2nd order terms gives an accuracy of 81% in the validation set."
   ]
  },
  {
   "cell_type": "code",
   "execution_count": 26,
   "metadata": {
    "collapsed": false
   },
   "outputs": [
    {
     "data": {
      "image/png": "[encoded data removed]",
      "text/plain": [
       "<matplotlib.figure.Figure at 0xbc99fd0>"
      ]
     },
     "metadata": {},
     "output_type": "display_data"
    }
   ],
   "source": [
    "regpara = np.array([0, 0.01, 0.03, 0.1, 0.3, 1, 3, 10])\n",
    "trainerror = np.zeros(shape = (regpara.size, 1))\n",
    "vaderror = np.zeros(shape = (regpara.size, 1))\n",
    "\n",
    "for i in range(0, regpara.size):\n",
    "    theta = scop.fmin_l_bfgs_b(titan.lfCost, theta0, titan.lfGradient, (Xq, y, regpara[i]))[0]\n",
    "    trainerror[i] = titan.lfCost(theta, Xq, y, 0.0)\n",
    "    vaderror[i] = titan.lfCost(theta, Xvadq, yvad, 0.0)\n",
    "plt.plot(regpara, trainerror, '-b', regpara, vaderror,'-r')\n",
    "plt.xlabel('regularization parameter value')\n",
    "plt.ylabel('error')\n",
    "plt.legend(['training','validation'])\n",
    "plt.show()"
   ]
  },
  {
   "cell_type": "markdown",
   "metadata": {},
   "source": [
    "The figure above suggests the optimum regularization parameter to use is 3. "
   ]
  },
  {
   "cell_type": "markdown",
   "metadata": {},
   "source": [
    "Now we take Age out of the input features to test the model. A large number of passengers on the list doesn't have age information available. Therefore it is important to find a model works for those passengers."
   ]
  },
  {
   "cell_type": "code",
   "execution_count": 27,
   "metadata": {
    "collapsed": true
   },
   "outputs": [],
   "source": [
    "features = ['Survived', 'Pclass', 'Sex', 'SibSp', 'Parch', 'Fare','Embarked']"
   ]
  },
  {
   "cell_type": "code",
   "execution_count": 28,
   "metadata": {
    "collapsed": false
   },
   "outputs": [
    {
     "data": {
      "image/png": "[encoded data removed]",
      "text/plain": [
       "<matplotlib.figure.Figure at 0xac65160>"
      ]
     },
     "metadata": {},
     "output_type": "display_data"
    }
   ],
   "source": [
    "trainerror = np.zeros(shape = (tp.size, 1))\n",
    "vaderror = np.zeros(shape = (tp.size, 1))\n",
    "for i in range(0, tp.size):\n",
    "    datain = titan.readdata('train.csv', tp[i], 0.7, features)\n",
    "    X = np.array(datain['train'].ix[:,1:])\n",
    "    y = np.array(datain['train'].ix[:,0])\n",
    "    Xvad = np.array(datain['validation'].ix[:,1:])\n",
    "    yvad = np.array(datain['validation'].ix[:,0])\n",
    "    \n",
    "    Xq = titan.normdata(titan.xquad(X))\n",
    "    Xvadq = titan.normdata(titan.xquad(Xvad))\n",
    "    Xq = np.concatenate((np.ones(shape=(Xq.shape[0], 1)), Xq), axis = 1)\n",
    "    Xvadq = np.concatenate((np.ones(shape=(Xvadq.shape[0], 1)), Xvadq), axis = 1)\n",
    "    \n",
    "    nfeature = Xq.shape[1]\n",
    "    theta0 = np.zeros(shape = (nfeature, 1))\n",
    "    regpara = 1.0\n",
    "    theta = scop.fmin_l_bfgs_b(titan.lfCost, theta0, titan.lfGradient, (Xq, y, regpara))[0]\n",
    "    trainerror[i] = titan.lfCost(theta, Xq, y, 0.0)\n",
    "    vaderror[i] = titan.lfCost(theta, Xvadq, yvad, 0.0)\n",
    "plt.plot(tp, trainerror, '-b', tp, vaderror,'-r')\n",
    "plt.xlabel('proportion of data used for training')\n",
    "plt.ylabel('error')\n",
    "plt.legend(['training','validation'])\n",
    "plt.show()"
   ]
  },
  {
   "cell_type": "markdown",
   "metadata": {},
   "source": [
    "As expected, the error increased without Age information. But still close to the original model. The learning curve suggests adding more data improves the performance on training and validation set."
   ]
  },
  {
   "cell_type": "code",
   "execution_count": 29,
   "metadata": {
    "collapsed": true
   },
   "outputs": [],
   "source": [
    "datain = titan.readdata('train.csv', 0.6, 0.6, features)\n",
    "X = np.array(datain['train'].ix[:,1:])\n",
    "y = np.array(datain['train'].ix[:,0])\n",
    "Xvad = np.array(datain['validation'].ix[:,1:])\n",
    "yvad = np.array(datain['validation'].ix[:,0])"
   ]
  },
  {
   "cell_type": "code",
   "execution_count": 31,
   "metadata": {
    "collapsed": false
   },
   "outputs": [],
   "source": [
    "Xq = titan.normdata(titan.xquad(X))\n",
    "Xvadq = titan.normdata(titan.xquad(Xvad))\n",
    "Xq = np.concatenate((np.ones(shape=(Xq.shape[0], 1)), Xq), axis = 1)\n",
    "Xvadq = np.concatenate((np.ones(shape=(Xvadq.shape[0], 1)), Xvadq), axis = 1)\n",
    "\n",
    "nfeature = Xq.shape[1]\n",
    "theta0 = np.zeros(shape = (nfeature, 1))\n",
    "regpara = 1.0"
   ]
  },
  {
   "cell_type": "code",
   "execution_count": 32,
   "metadata": {
    "collapsed": false
   },
   "outputs": [
    {
     "data": {
      "image/png": "[encoded data removed]",
      "text/plain": [
       "<matplotlib.figure.Figure at 0xc0ba5f8>"
      ]
     },
     "metadata": {},
     "output_type": "display_data"
    }
   ],
   "source": [
    "regpara = np.array([0, 0.01, 0.03, 0.1, 0.3, 1, 3, 10]) * 0.1\n",
    "trainerror = np.zeros(shape = (regpara.size, 1))\n",
    "vaderror = np.zeros(shape = (regpara.size, 1))\n",
    "\n",
    "for i in range(0, regpara.size):\n",
    "    theta = scop.fmin_l_bfgs_b(titan.lfCost, theta0, titan.lfGradient, (Xq, y, regpara[i]))[0]\n",
    "    trainerror[i] = titan.lfCost(theta, Xq, y, 0.0)\n",
    "    vaderror[i] = titan.lfCost(theta, Xvadq, yvad, 0.0)\n",
    "plt.plot(regpara, trainerror, '-b', regpara, vaderror,'-r')\n",
    "plt.xlabel('regularization parameter value')\n",
    "plt.ylabel('error')\n",
    "plt.legend(['training','validation'])\n",
    "plt.show()"
   ]
  },
  {
   "cell_type": "markdown",
   "metadata": {},
   "source": [
    "The figure above sugests that the optimum regularization parameter to use is 0.3. Using this value and the optimum training data set size (60% of total data), we estimate the accuracy of the model"
   ]
  },
  {
   "cell_type": "code",
   "execution_count": 33,
   "metadata": {
    "collapsed": true
   },
   "outputs": [],
   "source": [
    "theta = scop.fmin_l_bfgs_b(titan.lfCost, theta0, titan.lfGradient, (Xq, y, 0.3))[0]"
   ]
  },
  {
   "cell_type": "code",
   "execution_count": 34,
   "metadata": {
    "collapsed": false
   },
   "outputs": [
    {
     "data": {
      "text/plain": [
       "0.79551820728291311"
      ]
     },
     "execution_count": 34,
     "metadata": {},
     "output_type": "execute_result"
    }
   ],
   "source": [
    "yvad_predict = titan.sigmoid(np.dot(Xvadq,theta))\n",
    "yvad_predict[yvad_predict > 0.5] = 1\n",
    "yvad_predict[yvad_predict <= 0.5] = 0\n",
    "(yvad_predict == yvad).sum()*1.0/yvad.size"
   ]
  },
  {
   "cell_type": "markdown",
   "metadata": {},
   "source": [
    "Without Age the model accuracy drops by 2-3% in the validation dataset. We try to recover the age information from other information available. After carefully examining the data, it seems a person's title is loosely correlated to the person's age. For example, those with the title 'Master' are usually children and have younger ages. Here I group passengers by sex, social class, and title. For those without age i the data base I assign the median age of the group they belong to as their age.\n",
    "\n",
    "The first step is to parse the name to get titles."
   ]
  },
  {
   "cell_type": "code",
   "execution_count": 5,
   "metadata": {
    "collapsed": true
   },
   "outputs": [],
   "source": [
    "features = ['Survived', 'Pclass', 'Age', 'Sex', 'SibSp', 'Parch', 'Fare','Embarked','Name']\n",
    "datain = titan.readdata('train.csv', 0.6, 0.6, features)"
   ]
  },
  {
   "cell_type": "code",
   "execution_count": 6,
   "metadata": {
    "collapsed": true
   },
   "outputs": [
    {
     "data": {
      "text/plain": [
       "0                                Braund, Mr. Owen Harris\n",
       "1      Cumings, Mrs. John Bradley (Florence Briggs Th...\n",
       "2                                 Heikkinen, Miss. Laina\n",
       "3           Futrelle, Mrs. Jacques Heath (Lily May Peel)\n",
       "4                               Allen, Mr. William Henry\n",
       "5                                       Moran, Mr. James\n",
       "6                                McCarthy, Mr. Timothy J\n",
       "7                         Palsson, Master. Gosta Leonard\n",
       "8      Johnson, Mrs. Oscar W (Elisabeth Vilhelmina Berg)\n",
       "9                    Nasser, Mrs. Nicholas (Adele Achem)\n",
       "10                       Sandstrom, Miss. Marguerite Rut\n",
       "11                              Bonnell, Miss. Elizabeth\n",
       "12                        Saundercock, Mr. William Henry\n",
       "13                           Andersson, Mr. Anders Johan\n",
       "14                  Vestrom, Miss. Hulda Amanda Adolfina\n",
       "15                      Hewlett, Mrs. (Mary D Kingcome) \n",
       "16                                  Rice, Master. Eugene\n",
       "17                          Williams, Mr. Charles Eugene\n",
       "18     Vander Planke, Mrs. Julius (Emelia Maria Vande...\n",
       "19                               Masselmani, Mrs. Fatima\n",
       "20                                  Fynney, Mr. Joseph J\n",
       "21                                 Beesley, Mr. Lawrence\n",
       "22                           McGowan, Miss. Anna \"Annie\"\n",
       "23                          Sloper, Mr. William Thompson\n",
       "24                         Palsson, Miss. Torborg Danira\n",
       "25     Asplund, Mrs. Carl Oscar (Selma Augusta Emilia...\n",
       "26                               Emir, Mr. Farred Chehab\n",
       "27                        Fortune, Mr. Charles Alexander\n",
       "28                         O'Dwyer, Miss. Ellen \"Nellie\"\n",
       "29                                   Todoroff, Mr. Lalio\n",
       "                             ...                        \n",
       "505           Penasco y Castellana, Mr. Victor de Satode\n",
       "506        Quick, Mrs. Frederick Charles (Jane Richards)\n",
       "507        Bradley, Mr. George (\"George Arthur Brayton\")\n",
       "508                             Olsen, Mr. Henry Margido\n",
       "509                                       Lang, Mr. Fang\n",
       "510                             Daly, Mr. Eugene Patrick\n",
       "511                                    Webber, Mr. James\n",
       "512                            McGough, Mr. James Robert\n",
       "513       Rothschild, Mrs. Martin (Elizabeth L. Barrett)\n",
       "514                                    Coleff, Mr. Satio\n",
       "515                         Walker, Mr. William Anderson\n",
       "516                         Lemore, Mrs. (Amelia Milley)\n",
       "517                                    Ryan, Mr. Patrick\n",
       "518    Angle, Mrs. William A (Florence \"Mary\" Agnes H...\n",
       "519                                  Pavlovic, Mr. Stefo\n",
       "520                                Perreault, Miss. Anne\n",
       "521                                      Vovk, Mr. Janko\n",
       "522                                   Lahoud, Mr. Sarkis\n",
       "523      Hippach, Mrs. Louis Albert (Ida Sophia Fischer)\n",
       "524                                    Kassem, Mr. Fared\n",
       "525                                   Farrell, Mr. James\n",
       "526                                 Ridsdale, Miss. Lucy\n",
       "527                                   Farthing, Mr. John\n",
       "528                            Salonen, Mr. Johan Werner\n",
       "529                          Hocking, Mr. Richard George\n",
       "530                             Quick, Miss. Phyllis May\n",
       "531                                    Toufik, Mr. Nakli\n",
       "532                                 Elias, Mr. Joseph Jr\n",
       "533               Peter, Mrs. Catherine (Catherine Rizk)\n",
       "534                                  Cacic, Miss. Marija\n",
       "Name: Name, dtype: object"
      ]
     },
     "execution_count": 6,
     "metadata": {},
     "output_type": "execute_result"
    }
   ],
   "source": [
    "datain['train'].Name"
   ]
  },
  {
   "cell_type": "markdown",
   "metadata": {},
   "source": [
    "The name entry has a fixed format: First name, comma, title, period, last name, then other names.\n",
    "The split() method for string in Python provides an easy way to split the different parts and retain the title. For example:"
   ]
  },
  {
   "cell_type": "code",
   "execution_count": 7,
   "metadata": {
    "collapsed": false
   },
   "outputs": [
    {
     "data": {
      "text/plain": [
       "' Mr'"
      ]
     },
     "execution_count": 7,
     "metadata": {},
     "output_type": "execute_result"
    }
   ],
   "source": [
    "datain['train'].Name[0].split(',')[1].split('.')[0]"
   ]
  },
  {
   "cell_type": "code",
   "execution_count": 8,
   "metadata": {
    "collapsed": false
   },
   "outputs": [],
   "source": [
    "def name2title(name):\n",
    "    return name.split(',')[1].split('.')[0]"
   ]
  },
  {
   "cell_type": "code",
   "execution_count": 9,
   "metadata": {
    "collapsed": true
   },
   "outputs": [],
   "source": [
    "title = datain['train'].Name.apply(name2title)"
   ]
  },
  {
   "cell_type": "code",
   "execution_count": 10,
   "metadata": {
    "collapsed": false
   },
   "outputs": [
    {
     "data": {
      "text/plain": [
       " Mr        302\n",
       " Miss      121\n",
       " Mrs        76\n",
       " Master     26\n",
       " Dr          3\n",
       " Rev         3\n",
       " Ms          1\n",
       " Don         1\n",
       " Mme         1\n",
       " Major       1\n",
       "Name: Name, dtype: int64"
      ]
     },
     "execution_count": 10,
     "metadata": {},
     "output_type": "execute_result"
    }
   ],
   "source": [
    "title.value_counts()"
   ]
  },
  {
   "cell_type": "markdown",
   "metadata": {},
   "source": [
    "Most of the titles are the common Mr., Miss., Mrs., with a small fraction of Master. There are just a handful of others like Dr., Rev., and Don. Due to the small number of those titles compared to the others, it can be misleading to use them as classifier. Mme (according to Wikipedia) is the abbreviation of a female title (likely married since there is another one for unmarried), therefore it to be treated equal to Mrs. Below we look for the correlation of those titles to other features, especially with Age."
   ]
  },
  {
   "cell_type": "code",
   "execution_count": 11,
   "metadata": {
    "collapsed": false
   },
   "outputs": [
    {
     "data": {
      "text/plain": [
       "Name\n",
       " Don       40.0\n",
       " Dr        44.0\n",
       " Major     52.0\n",
       " Master     3.5\n",
       " Miss      21.0\n",
       " Mme       24.0\n",
       " Mr        30.0\n",
       " Mrs       35.0\n",
       " Ms        28.0\n",
       " Rev       51.0\n",
       "Name: Age, dtype: float64"
      ]
     },
     "execution_count": 11,
     "metadata": {},
     "output_type": "execute_result"
    }
   ],
   "source": [
    "a = datain['train'].groupby(title)['Age'].median()\n",
    "a"
   ]
  },
  {
   "cell_type": "markdown",
   "metadata": {},
   "source": [
    "It is obvious that each title group has a distinct median age. This is what we wanted. We can then filling those missing ages by mapping their title to the median age of each title group. The same treatmean will be applied to the test set. There might be a different set of unique titles in the test set but I assume the correlation of title to age still holds. "
   ]
  },
  {
   "cell_type": "code",
   "execution_count": 12,
   "metadata": {
    "collapsed": true
   },
   "outputs": [],
   "source": [
    "import titanic_project as titan"
   ]
  },
  {
   "cell_type": "code",
   "execution_count": 36,
   "metadata": {
    "collapsed": true
   },
   "outputs": [],
   "source": [
    "features = ['Survived', 'Pclass', 'Age', 'Sex', 'SibSp', 'Parch', 'Fare', 'Embarked','Name']\n",
    "datain = titan.readdata('train.csv', 0.6, 0.6, features)"
   ]
  },
  {
   "cell_type": "code",
   "execution_count": 37,
   "metadata": {
    "collapsed": false
   },
   "outputs": [],
   "source": [
    "X = np.array(datain['train'].ix[:,1:-1])\n",
    "y = np.array(datain['train'].ix[:,0])\n",
    "\n",
    "Xvad = np.array(datain['validation'].ix[:,1:-1])\n",
    "yvad = np.array(datain['validation'].ix[:,0])\n",
    "\n",
    "Xq = titan.normdata(titan.xquad(X))\n",
    "Xvadq = titan.normdata(titan.xquad(Xvad))\n",
    "Xq = np.concatenate((np.ones(shape=(Xq.shape[0], 1)), Xq), axis = 1)\n",
    "Xvadq = np.concatenate((np.ones(shape=(Xvadq.shape[0], 1)), Xvadq), axis = 1)\n",
    "\n",
    "nfeature = Xq.shape[1]\n",
    "theta0 = np.zeros(shape = (nfeature, 1))\n",
    "regpara = 1.0"
   ]
  },
  {
   "cell_type": "code",
   "execution_count": 38,
   "metadata": {
    "collapsed": false
   },
   "outputs": [],
   "source": [
    "w = scop.fmin_l_bfgs_b(titan.lfCost, theta0, titan.lfGradient, (Xq, y, regpara))"
   ]
  },
  {
   "cell_type": "code",
   "execution_count": 39,
   "metadata": {
    "collapsed": false
   },
   "outputs": [
    {
     "data": {
      "text/plain": [
       "0.83177570093457942"
      ]
     },
     "execution_count": 39,
     "metadata": {},
     "output_type": "execute_result"
    }
   ],
   "source": [
    "y_predict = titan.sigmoid(np.dot(Xq,w[0]))\n",
    "y_predict[y_predict > 0.5] = 1\n",
    "y_predict[y_predict <= 0.5] = 0\n",
    "(y_predict == y).sum()*1.0/y.size"
   ]
  },
  {
   "cell_type": "code",
   "execution_count": 40,
   "metadata": {
    "collapsed": false
   },
   "outputs": [
    {
     "data": {
      "text/plain": [
       "0.81792717086834732"
      ]
     },
     "execution_count": 40,
     "metadata": {},
     "output_type": "execute_result"
    }
   ],
   "source": [
    "yvad_predict = titan.sigmoid(np.dot(Xvadq,w[0]))\n",
    "yvad_predict[yvad_predict > 0.5] = 1\n",
    "yvad_predict[yvad_predict <= 0.5] = 0\n",
    "(yvad_predict == yvad).sum()*1.0/yvad.size"
   ]
  },
  {
   "cell_type": "markdown",
   "metadata": {},
   "source": [
    "As expected, the validation set accuracy is improved."
   ]
  },
  {
   "cell_type": "code",
   "execution_count": 41,
   "metadata": {
    "collapsed": false
   },
   "outputs": [
    {
     "data": {
      "image/png": "[encoded data removed]",
      "text/plain": [
       "<matplotlib.figure.Figure at 0xb566ac8>"
      ]
     },
     "metadata": {},
     "output_type": "display_data"
    }
   ],
   "source": [
    "regpara = np.array([0, 0.01, 0.03, 0.1, 0.3, 1, 3, 10]) * 0.1\n",
    "trainerror = np.zeros(shape = (regpara.size, 1))\n",
    "vaderror = np.zeros(shape = (regpara.size, 1))\n",
    "trainacu = np.zeros(shape = (regpara.size, 1))\n",
    "vadacu = np.zeros(shape = (regpara.size, 1))\n",
    "\n",
    "for i in range(0, regpara.size):\n",
    "    theta = scop.fmin_l_bfgs_b(titan.lfCost, theta0, titan.lfGradient, (Xq, y, regpara[i]))[0]\n",
    "    trainerror[i] = titan.lfCost(theta, Xq, y, regpara[i])\n",
    "    vaderror[i] = titan.lfCost(theta, Xvadq, yvad, regpara[i])\n",
    "    trainacu[i] = titan.getacu(theta, Xq, y)\n",
    "    vadacu[i] = titan.getacu(theta, Xvadq, yvad)\n",
    "plt.semilogx(regpara, trainerror, '-b', regpara, vaderror,'-r')\n",
    "plt.xlabel('regularization parameter value')\n",
    "plt.ylabel('error')\n",
    "plt.legend(['training','validation'])\n",
    "plt.show()"
   ]
  },
  {
   "cell_type": "code",
   "execution_count": 42,
   "metadata": {
    "collapsed": false
   },
   "outputs": [
    {
     "data": {
      "image/png": "[encoded data removed]",
      "text/plain": [
       "<matplotlib.figure.Figure at 0x9ce3518>"
      ]
     },
     "metadata": {},
     "output_type": "display_data"
    }
   ],
   "source": [
    "plt.semilogx(regpara, trainacu, '-b', regpara, vadacu,'-r')\n",
    "plt.xlabel('regularization parameter value')\n",
    "plt.ylabel('accuracy')\n",
    "plt.legend(['training','validation'])\n",
    "plt.show()"
   ]
  },
  {
   "cell_type": "code",
   "execution_count": 43,
   "metadata": {
    "collapsed": true
   },
   "outputs": [],
   "source": [
    "w = scop.fmin_l_bfgs_b(titan.lfCost, theta0, titan.lfGradient, (Xq, y, 0.1))"
   ]
  },
  {
   "cell_type": "code",
   "execution_count": 44,
   "metadata": {
    "collapsed": false
   },
   "outputs": [
    {
     "data": {
      "text/plain": [
       "0.82352941176470584"
      ]
     },
     "execution_count": 44,
     "metadata": {},
     "output_type": "execute_result"
    }
   ],
   "source": [
    "yvad_predict = titan.sigmoid(np.dot(Xvadq,w[0]))\n",
    "yvad_predict[yvad_predict > 0.5] = 1\n",
    "yvad_predict[yvad_predict <= 0.5] = 0\n",
    "(yvad_predict == yvad).sum()*1.0/yvad.size"
   ]
  },
  {
   "cell_type": "markdown",
   "metadata": {},
   "source": [
    "With the optimum regularization parameter the accuracy for the validation set is 82%."
   ]
  },
  {
   "cell_type": "markdown",
   "metadata": {},
   "source": [
    "I now take a closer look at the features to further improve the model."
   ]
  },
  {
   "cell_type": "code",
   "execution_count": 17,
   "metadata": {
    "collapsed": false
   },
   "outputs": [
    {
     "name": "stderr",
     "output_type": "stream",
     "text": [
      "C:\\Users\\theya\\Anaconda2\\lib\\site-packages\\ipykernel\\__main__.py:2: SettingWithCopyWarning: \n",
      "A value is trying to be set on a copy of a slice from a DataFrame\n",
      "\n",
      "See the caveats in the documentation: http://pandas.pydata.org/pandas-docs/stable/indexing.html#indexing-view-versus-copy\n",
      "  from ipykernel import kernelapp as app\n"
     ]
    }
   ],
   "source": [
    "age_gender = datain['train'].loc[:,'Age']\n",
    "age_gender[datain['train'].Sex == -1] = -age_gender[datain['train'].Sex == -1]"
   ]
  },
  {
   "cell_type": "code",
   "execution_count": 18,
   "metadata": {
    "collapsed": false
   },
   "outputs": [
    {
     "data": {
      "image/png": "[encoded data removed]",
      "text/plain": [
       "<matplotlib.figure.Figure at 0xb948cc0>"
      ]
     },
     "metadata": {},
     "output_type": "display_data"
    }
   ],
   "source": [
    "plt.plot(age_gender[y == 0], datain['train'].Pclass[y == 0], 'xr')\n",
    "plt.plot(age_gender[y == 1], datain['train'].Pclass[y == 1], 'ob')\n",
    "plt.show()"
   ]
  },
  {
   "cell_type": "code",
   "execution_count": 68,
   "metadata": {
    "collapsed": false
   },
   "outputs": [
    {
     "data": {
      "image/png": "[encoded data removed]",
      "text/plain": [
       "<matplotlib.figure.Figure at 0xb5664a8>"
      ]
     },
     "metadata": {},
     "output_type": "display_data"
    }
   ],
   "source": [
    "pclass_gender = datain['train'].loc[:,'Pclass']\n",
    "pclass_gender[datain['train'].Sex == 0.5] = -pclass_gender[datain['train'].Sex == 0.5]\n",
    "plt.plot(age_gender[y == 0], pclass_gender[y == 0], 'xr')\n",
    "plt.plot(age_gender[y == 1], pclass_gender[y == 1], 'ob')\n",
    "plt.show()"
   ]
  },
  {
   "cell_type": "markdown",
   "metadata": {},
   "source": [
    "In the plot above the age is multipled with gender (male = -1, female = 1) and the resulting separation for survived (blue dots) and not survived (red x) is much more clearer than before. The figure above is probably the reason why the second order poly model works better than linear model.\n",
    "\n",
    "In the orginal model Sex is mapped with {'female': 1; 'male': 0.5} but that doesnt give enough separation between the two genders when multiplied to other terms. Below I change the mapping to {'female': 1; 'male': -1}."
   ]
  },
  {
   "cell_type": "code",
   "execution_count": 2,
   "metadata": {
    "collapsed": true
   },
   "outputs": [],
   "source": [
    "import titanic_project as titan"
   ]
  },
  {
   "cell_type": "code",
   "execution_count": 5,
   "metadata": {
    "collapsed": true
   },
   "outputs": [],
   "source": [
    "features = ['Survived', 'Pclass', 'Age', 'Sex', 'SibSp', 'Parch', 'Fare', 'Embarked','Name']\n",
    "datain = titan.readdata('train.csv', 0.6, 0.6, features)"
   ]
  },
  {
   "cell_type": "code",
   "execution_count": 3,
   "metadata": {
    "collapsed": true
   },
   "outputs": [],
   "source": [
    "X = np.array(datain['train'].ix[:,1:-1])\n",
    "y = np.array(datain['train'].ix[:,0])\n",
    "\n",
    "Xvad = np.array(datain['validation'].ix[:,1:-1])\n",
    "yvad = np.array(datain['validation'].ix[:,0])\n",
    "\n",
    "Xq = titan.normdata(titan.xquad(X))\n",
    "Xvadq = titan.normdata(titan.xquad(Xvad))\n",
    "Xq = np.concatenate((np.ones(shape=(Xq.shape[0], 1)), Xq), axis = 1)\n",
    "Xvadq = np.concatenate((np.ones(shape=(Xvadq.shape[0], 1)), Xvadq), axis = 1)\n",
    "\n",
    "nfeature = Xq.shape[1]\n",
    "theta0 = np.zeros(shape = (nfeature, 1))\n",
    "regpara = 1.0"
   ]
  },
  {
   "cell_type": "code",
   "execution_count": 4,
   "metadata": {
    "collapsed": true
   },
   "outputs": [],
   "source": [
    "w = scop.fmin_l_bfgs_b(titan.lfCost, theta0, titan.lfGradient, (Xq, y, regpara))"
   ]
  },
  {
   "cell_type": "code",
   "execution_count": 5,
   "metadata": {
    "collapsed": false
   },
   "outputs": [
    {
     "data": {
      "text/plain": [
       "0.83738317757009351"
      ]
     },
     "execution_count": 5,
     "metadata": {},
     "output_type": "execute_result"
    }
   ],
   "source": [
    "y_predict = titan.sigmoid(np.dot(Xq,w[0]))\n",
    "y_predict[y_predict > 0.5] = 1\n",
    "y_predict[y_predict <= 0.5] = 0\n",
    "(y_predict == y).sum()*1.0/y.size"
   ]
  },
  {
   "cell_type": "code",
   "execution_count": 6,
   "metadata": {
    "collapsed": false
   },
   "outputs": [
    {
     "data": {
      "text/plain": [
       "0.82072829131652658"
      ]
     },
     "execution_count": 6,
     "metadata": {},
     "output_type": "execute_result"
    }
   ],
   "source": [
    "yvad_predict = titan.sigmoid(np.dot(Xvadq,w[0]))\n",
    "yvad_predict[yvad_predict > 0.5] = 1\n",
    "yvad_predict[yvad_predict <= 0.5] = 0\n",
    "(yvad_predict == yvad).sum()*1.0/yvad.size"
   ]
  },
  {
   "cell_type": "code",
   "execution_count": 7,
   "metadata": {
    "collapsed": false
   },
   "outputs": [
    {
     "data": {
      "image/png": "[encoded data removed]",
      "text/plain": [
       "<matplotlib.figure.Figure at 0x4832c50>"
      ]
     },
     "metadata": {},
     "output_type": "display_data"
    }
   ],
   "source": [
    "regpara = np.array([0, 0.01, 0.03, 0.1, 0.3, 1, 3, 10]) * 0.1\n",
    "trainerror = np.zeros(shape = (regpara.size, 1))\n",
    "vaderror = np.zeros(shape = (regpara.size, 1))\n",
    "trainacu = np.zeros(shape = (regpara.size, 1))\n",
    "vadacu = np.zeros(shape = (regpara.size, 1))\n",
    "\n",
    "for i in range(0, regpara.size):\n",
    "    theta = scop.fmin_l_bfgs_b(titan.lfCost, theta0, titan.lfGradient, (Xq, y, regpara[i]))[0]\n",
    "    trainerror[i] = titan.lfCost(theta, Xq, y, regpara[i])\n",
    "    vaderror[i] = titan.lfCost(theta, Xvadq, yvad, regpara[i])\n",
    "    trainacu[i] = titan.getacu(theta, Xq, y)\n",
    "    vadacu[i] = titan.getacu(theta, Xvadq, yvad)\n",
    "plt.semilogx(regpara, trainerror, '-b', regpara, vaderror,'-r')\n",
    "plt.xlabel('regularization parameter value')\n",
    "plt.ylabel('error')\n",
    "plt.legend(['training','validation'])\n",
    "plt.show()"
   ]
  },
  {
   "cell_type": "code",
   "execution_count": 8,
   "metadata": {
    "collapsed": true
   },
   "outputs": [],
   "source": [
    "w = scop.fmin_l_bfgs_b(titan.lfCost, theta0, titan.lfGradient, (Xq, y, 0.3))"
   ]
  },
  {
   "cell_type": "code",
   "execution_count": 9,
   "metadata": {
    "collapsed": false
   },
   "outputs": [
    {
     "data": {
      "text/plain": [
       "0.8263305322128851"
      ]
     },
     "execution_count": 9,
     "metadata": {},
     "output_type": "execute_result"
    }
   ],
   "source": [
    "yvad_predict = titan.sigmoid(np.dot(Xvadq,w[0]))\n",
    "yvad_predict[yvad_predict > 0.5] = 1\n",
    "yvad_predict[yvad_predict <= 0.5] = 0\n",
    "(yvad_predict == yvad).sum()*1.0/yvad.size"
   ]
  },
  {
   "cell_type": "markdown",
   "metadata": {},
   "source": [
    "The model improves slightly. However, the accuracy is still only around 80%. The figure with age and pclass (above) illustates the difficulties even 2nd order polynomial could face: large overlap of data with different results (survivied or not). For example, female with smaller family size and aged between 20 and 40 has a large number of survived and unsurvived passengers. Decision boundary can not separate them apart easily. "
   ]
  },
  {
   "cell_type": "code",
   "execution_count": 13,
   "metadata": {
    "collapsed": false
   },
   "outputs": [],
   "source": [
    "X = np.array(datain['train'].ix[:,1:-1])\n",
    "y = np.array(datain['train'].ix[:,0])\n",
    "\n",
    "Xvad = np.array(datain['validation'].ix[:,1:-1])\n",
    "yvad = np.array(datain['validation'].ix[:,0])"
   ]
  },
  {
   "cell_type": "code",
   "execution_count": 107,
   "metadata": {
    "collapsed": true
   },
   "outputs": [],
   "source": []
  },
  {
   "cell_type": "code",
   "execution_count": 14,
   "metadata": {
    "collapsed": false
   },
   "outputs": [],
   "source": [
    "\"\"\"\n",
    "gender = X[:, 2]\n",
    "vadgender = Xvad[:, 2]\n",
    "X[gender == -1, :] = -X[gender == -1, :]\n",
    "Xvad[vadgender == -1, :] = -Xvad[vadgender == -1, :]\n",
    "X[:, 2] = gender\n",
    "Xvad[:, 2] = vadgender\n",
    "\"\"\"\n",
    "\n",
    "regpara = 1.0\n",
    "order = np.arange(1, 10)"
   ]
  },
  {
   "cell_type": "code",
   "execution_count": 15,
   "metadata": {
    "collapsed": false
   },
   "outputs": [
    {
     "data": {
      "image/png": "[encoded data removed]",
      "text/plain": [
       "<matplotlib.figure.Figure at 0x6189048>"
      ]
     },
     "metadata": {},
     "output_type": "display_data"
    }
   ],
   "source": [
    "trainerror = np.zeros(shape = (order.size, 1))\n",
    "vaderror = np.zeros(shape = (order.size, 1))\n",
    "\n",
    "for i in range(0, order.size):\n",
    "    Xp = titan.normdata(titan.polyx(X, order[i]))\n",
    "    Xvadp = titan.normdata(titan.polyx(Xvad, order[i]))\n",
    "    Xp = np.concatenate((np.ones(shape=(Xp.shape[0], 1)), Xp), axis = 1)\n",
    "    Xvadp = np.concatenate((np.ones(shape=(Xvadp.shape[0], 1)), Xvadp), axis = 1)\n",
    "    theta0 = np.zeros(shape = (Xp.shape[1], 1))\n",
    "    theta = scop.fmin_l_bfgs_b(titan.lfCost, theta0, titan.lfGradient, (Xp, y, regpara))[0]\n",
    "    trainerror[i] = titan.lfCost(theta, Xp, y, 0.0)\n",
    "    vaderror[i] = titan.lfCost(theta, Xvadp, yvad, 0.0)\n",
    "plt.plot(order, trainerror, '-b', order, vaderror,'-r')\n",
    "plt.xlabel('order of polynomials')\n",
    "plt.ylabel('error')\n",
    "plt.legend(['training','validation'])\n",
    "plt.show()"
   ]
  },
  {
   "cell_type": "markdown",
   "metadata": {},
   "source": [
    "It suggests that order = 7 is optimum. With polynomial orders higher than 2 the model becomes highly variant."
   ]
  },
  {
   "cell_type": "code",
   "execution_count": 16,
   "metadata": {
    "collapsed": false
   },
   "outputs": [],
   "source": [
    "order = 7\n",
    "Xp = titan.normdata(titan.polyx(X, order))\n",
    "Xvadp = titan.normdata(titan.polyx(Xvad, order))\n",
    "Xp = np.concatenate((np.ones(shape=(Xp.shape[0], 1)), Xp), axis = 1)\n",
    "Xvadp = np.concatenate((np.ones(shape=(Xvadp.shape[0], 1)), Xvadp), axis = 1)\n",
    "theta0 = np.zeros(shape = (Xp.shape[1], 1))\n",
    "w = scop.fmin_l_bfgs_b(titan.lfCost, theta0, titan.lfGradient, (Xp, y, 1.0))"
   ]
  },
  {
   "cell_type": "code",
   "execution_count": 17,
   "metadata": {
    "collapsed": false
   },
   "outputs": [
    {
     "data": {
      "text/plain": [
       "0.80112044817927175"
      ]
     },
     "execution_count": 17,
     "metadata": {},
     "output_type": "execute_result"
    }
   ],
   "source": [
    "yvad_predict = titan.sigmoid(np.dot(Xvadp,w[0]))\n",
    "yvad_predict[yvad_predict > 0.5] = 1\n",
    "yvad_predict[yvad_predict <= 0.5] = 0\n",
    "(yvad_predict == yvad).sum()*1.0/yvad.size"
   ]
  },
  {
   "cell_type": "markdown",
   "metadata": {},
   "source": [
    "The performance is not better than the full second order polynomial terms (including cross terms) where the accuracy was 82.6%. The reason is again illustrated in the crossplots of different features above. When gender is considered as an independent feature the separation between survived and not survived is not great. Higher order polynomials can help but ultimately the feature is not good enough. When combining gender and other features the separation is much better. "
   ]
  },
  {
   "cell_type": "code",
   "execution_count": 18,
   "metadata": {
    "collapsed": false
   },
   "outputs": [],
   "source": [
    "X = np.array(datain['train'].ix[:,1:-1])\n",
    "y = np.array(datain['train'].ix[:,0])\n",
    "\n",
    "Xvad = np.array(datain['validation'].ix[:,1:-1])\n",
    "yvad = np.array(datain['validation'].ix[:,0])\n",
    "gender = X[:, 2]\n",
    "vadgender = Xvad[:, 2]"
   ]
  },
  {
   "cell_type": "code",
   "execution_count": 19,
   "metadata": {
    "collapsed": false
   },
   "outputs": [],
   "source": [
    "gender_age = np.copy(X[:, 1])\n",
    "gender_age[X[:,2] == -1] = -gender_age[X[:,2] == -1]\n",
    "X = np.concatenate((X, gender_age.reshape(X.shape[0], 1)), axis = 1)\n",
    "gender_age = np.copy(Xvad[:, 1])\n",
    "gender_age[Xvad[:,2] == -1] = -gender_age[Xvad[:,2] == -1]\n",
    "Xvad = np.concatenate((Xvad, gender_age.reshape(Xvad.shape[0], 1)), axis = 1)"
   ]
  },
  {
   "cell_type": "code",
   "execution_count": 20,
   "metadata": {
    "collapsed": false
   },
   "outputs": [
    {
     "data": {
      "image/png": "[encoded data removed]",
      "text/plain": [
       "<matplotlib.figure.Figure at 0xb5c16d8>"
      ]
     },
     "metadata": {},
     "output_type": "display_data"
    }
   ],
   "source": [
    "regpara = 1.0\n",
    "order = np.arange(1, 10)\n",
    "trainerror = np.zeros(shape = (order.size, 1))\n",
    "vaderror = np.zeros(shape = (order.size, 1))\n",
    "\n",
    "for i in range(0, order.size):\n",
    "    Xp = titan.normdata(titan.polyx(X, order[i]))\n",
    "    Xvadp = titan.normdata(titan.polyx(Xvad, order[i]))\n",
    "    Xp = np.concatenate((np.ones(shape=(Xp.shape[0], 1)), Xp), axis = 1)\n",
    "    Xvadp = np.concatenate((np.ones(shape=(Xvadp.shape[0], 1)), Xvadp), axis = 1)\n",
    "    theta0 = np.zeros(shape = (Xp.shape[1], 1))\n",
    "    theta = scop.fmin_l_bfgs_b(titan.lfCost, theta0, titan.lfGradient, (Xp, y, regpara))[0]\n",
    "    trainerror[i] = titan.lfCost(theta, Xp, y, 0.0)\n",
    "    vaderror[i] = titan.lfCost(theta, Xvadp, yvad, 0.0)\n",
    "plt.plot(order, trainerror, '-b', order, vaderror,'-r')\n",
    "plt.xlabel('order of polynomials')\n",
    "plt.ylabel('error')\n",
    "plt.legend(['training','validation'])\n",
    "plt.show()"
   ]
  },
  {
   "cell_type": "code",
   "execution_count": 36,
   "metadata": {
    "collapsed": false
   },
   "outputs": [],
   "source": [
    "order = 2\n",
    "Xp = titan.normdata(titan.polyx(X, order))\n",
    "Xvadp = titan.normdata(titan.polyx(Xvad, order))\n",
    "Xp = np.concatenate((np.ones(shape=(Xp.shape[0], 1)), Xp), axis = 1)\n",
    "Xvadp = np.concatenate((np.ones(shape=(Xvadp.shape[0], 1)), Xvadp), axis = 1)\n",
    "theta0 = np.zeros(shape = (Xp.shape[1], 1))\n",
    "w = scop.fmin_l_bfgs_b(titan.lfCost, theta0, titan.lfGradient, (Xp, y, 1.0))"
   ]
  },
  {
   "cell_type": "code",
   "execution_count": 37,
   "metadata": {
    "collapsed": false
   },
   "outputs": [
    {
     "data": {
      "text/plain": [
       "0.79271708683473385"
      ]
     },
     "execution_count": 37,
     "metadata": {},
     "output_type": "execute_result"
    }
   ],
   "source": [
    "yvad_predict = titan.sigmoid(np.dot(Xvadp,w[0]))\n",
    "yvad_predict[yvad_predict > 0.5] = 1\n",
    "yvad_predict[yvad_predict <= 0.5] = 0\n",
    "(yvad_predict == yvad).sum()*1.0/yvad.size"
   ]
  },
  {
   "cell_type": "code",
   "execution_count": 64,
   "metadata": {
    "collapsed": false
   },
   "outputs": [
    {
     "data": {
      "image/png": "[encoded data removed]",
      "text/plain": [
       "<matplotlib.figure.Figure at 0xc144f28>"
      ]
     },
     "metadata": {},
     "output_type": "display_data"
    }
   ],
   "source": [
    "X = np.array(datain['train'].ix[:,1:-1])\n",
    "y = np.array(datain['train'].ix[:,0])\n",
    "Xvad = np.array(datain['validation'].ix[:,1:-1])\n",
    "yvad = np.array(datain['validation'].ix[:,0])\n",
    "\n",
    "Xq = titan.normdata(titan.xquad(X))\n",
    "Xvadq = titan.normdata(titan.xquad(Xvad))\n",
    "\n",
    "regpara = 0.1\n",
    "order = np.arange(1, 10)\n",
    "trainerror = np.zeros(shape = (order.size, 1))\n",
    "vaderror = np.zeros(shape = (order.size, 1))\n",
    "\n",
    "for i in range(0, order.size):\n",
    "    Xp = titan.normdata(titan.polyx(X, order[i]))\n",
    "    Xvadp = titan.normdata(titan.polyx(Xvad, order[i]))\n",
    "    Xp = np.concatenate((np.ones(shape=(Xp.shape[0], 1)), Xp), axis = 1)\n",
    "    Xvadp = np.concatenate((np.ones(shape=(Xvadp.shape[0], 1)), Xvadp), axis = 1)\n",
    "    Xp = np.concatenate((Xp, Xq[:, 7:]), axis = 1)\n",
    "    Xvadp = np.concatenate((Xvadp, Xvadq[:, 7:]), axis = 1)\n",
    "    theta0 = np.zeros(shape = (Xp.shape[1], 1))\n",
    "    theta = scop.fmin_l_bfgs_b(titan.lfCost, theta0, titan.lfGradient, (Xp, y, regpara))[0]\n",
    "    trainerror[i] = titan.lfCost(theta, Xp, y, 0.0)\n",
    "    vaderror[i] = titan.lfCost(theta, Xvadp, yvad, 0.0)\n",
    "plt.plot(order, trainerror, '-b', order, vaderror,'-r')\n",
    "plt.xlabel('order of polynomials')\n",
    "plt.ylabel('error')\n",
    "plt.legend(['training','validation'])\n",
    "plt.show()"
   ]
  },
  {
   "cell_type": "code",
   "execution_count": 80,
   "metadata": {
    "collapsed": true
   },
   "outputs": [],
   "source": [
    "order = 2\n",
    "Xp = titan.normdata(titan.polyx(Xq, order))\n",
    "Xvadp = titan.normdata(titan.polyx(Xvadq, order))\n",
    "Xp = np.concatenate((np.ones(shape=(Xp.shape[0], 1)), Xp), axis = 1)\n",
    "Xvadp = np.concatenate((np.ones(shape=(Xvadp.shape[0], 1)), Xvadp), axis = 1)\n",
    "Xp = np.concatenate((Xp, Xq[:, 7:]), axis = 1)\n",
    "Xvadp = np.concatenate((Xvadp, Xvadq[:, 7:]), axis = 1)\n",
    "theta0 = np.zeros(shape = (Xp.shape[1], 1))\n",
    "w = scop.fmin_l_bfgs_b(titan.lfCost, theta0, titan.lfGradient, (Xp, y, 1.0))"
   ]
  },
  {
   "cell_type": "code",
   "execution_count": 81,
   "metadata": {
    "collapsed": false
   },
   "outputs": [
    {
     "data": {
      "text/plain": [
       "0.8263305322128851"
      ]
     },
     "execution_count": 81,
     "metadata": {},
     "output_type": "execute_result"
    }
   ],
   "source": [
    "yvad_predict = titan.sigmoid(np.dot(Xvadp,w[0]))\n",
    "yvad_predict[yvad_predict > 0.5] = 1\n",
    "yvad_predict[yvad_predict <= 0.5] = 0\n",
    "(yvad_predict == yvad).sum()*1.0/yvad.size"
   ]
  },
  {
   "cell_type": "code",
   "execution_count": null,
   "metadata": {
    "collapsed": true
   },
   "outputs": [],
   "source": []
  }
 ],
 "metadata": {
  "kernelspec": {
   "display_name": "Python 2",
   "language": "python",
   "name": "python2"
  },
  "language_info": {
   "codemirror_mode": {
    "name": "ipython",
    "version": 2
   },
   "file_extension": ".py",
   "mimetype": "text/x-python",
   "name": "python",
   "nbconvert_exporter": "python",
   "pygments_lexer": "ipython2",
   "version": "2.7.13"
  }
 },
 "nbformat": 4,
 "nbformat_minor": 2
}
