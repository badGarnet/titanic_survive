{
 "cells": [
  {
   "cell_type": "code",
   "execution_count": 1,
   "metadata": {
    "collapsed": false
   },
   "outputs": [
    {
     "data": {
      "text/html": [
       "<div>\n",
       "<table border=\"1\" class=\"dataframe\">\n",
       "  <thead>\n",
       "    <tr style=\"text-align: right;\">\n",
       "      <th></th>\n",
       "      <th>Survived</th>\n",
       "      <th>Pclass</th>\n",
       "      <th>Age</th>\n",
       "      <th>Sex</th>\n",
       "      <th>SibSp</th>\n",
       "      <th>Parch</th>\n",
       "      <th>Fare</th>\n",
       "      <th>Embarked</th>\n",
       "    </tr>\n",
       "  </thead>\n",
       "  <tbody>\n",
       "    <tr>\n",
       "      <th>count</th>\n",
       "      <td>343.000000</td>\n",
       "      <td>343.000000</td>\n",
       "      <td>343.000000</td>\n",
       "      <td>343.000000</td>\n",
       "      <td>343.000000</td>\n",
       "      <td>343.000000</td>\n",
       "      <td>343.000000</td>\n",
       "      <td>343.000000</td>\n",
       "    </tr>\n",
       "    <tr>\n",
       "      <th>mean</th>\n",
       "      <td>0.387755</td>\n",
       "      <td>0.061957</td>\n",
       "      <td>-0.079486</td>\n",
       "      <td>-0.033985</td>\n",
       "      <td>0.047588</td>\n",
       "      <td>-0.006699</td>\n",
       "      <td>-0.001668</td>\n",
       "      <td>0.023068</td>\n",
       "    </tr>\n",
       "    <tr>\n",
       "      <th>std</th>\n",
       "      <td>0.487950</td>\n",
       "      <td>0.974958</td>\n",
       "      <td>0.967042</td>\n",
       "      <td>1.009643</td>\n",
       "      <td>1.079665</td>\n",
       "      <td>0.956575</td>\n",
       "      <td>0.991975</td>\n",
       "      <td>1.036742</td>\n",
       "    </tr>\n",
       "    <tr>\n",
       "      <th>min</th>\n",
       "      <td>0.000000</td>\n",
       "      <td>-1.475329</td>\n",
       "      <td>-1.987342</td>\n",
       "      <td>-1.316511</td>\n",
       "      <td>-0.551317</td>\n",
       "      <td>-0.505541</td>\n",
       "      <td>-0.655616</td>\n",
       "      <td>-7.487777</td>\n",
       "    </tr>\n",
       "    <tr>\n",
       "      <th>25%</th>\n",
       "      <td>0.000000</td>\n",
       "      <td>-0.282368</td>\n",
       "      <td>-0.667685</td>\n",
       "      <td>-1.316511</td>\n",
       "      <td>-0.551317</td>\n",
       "      <td>-0.505541</td>\n",
       "      <td>-0.503497</td>\n",
       "      <td>-0.439296</td>\n",
       "    </tr>\n",
       "    <tr>\n",
       "      <th>50%</th>\n",
       "      <td>0.000000</td>\n",
       "      <td>0.910594</td>\n",
       "      <td>-0.116967</td>\n",
       "      <td>0.758520</td>\n",
       "      <td>-0.551317</td>\n",
       "      <td>-0.505541</td>\n",
       "      <td>-0.381612</td>\n",
       "      <td>-0.439296</td>\n",
       "    </tr>\n",
       "    <tr>\n",
       "      <th>75%</th>\n",
       "      <td>1.000000</td>\n",
       "      <td>0.910594</td>\n",
       "      <td>0.433751</td>\n",
       "      <td>0.758520</td>\n",
       "      <td>0.524203</td>\n",
       "      <td>0.666395</td>\n",
       "      <td>-0.062492</td>\n",
       "      <td>-0.439296</td>\n",
       "    </tr>\n",
       "    <tr>\n",
       "      <th>max</th>\n",
       "      <td>1.000000</td>\n",
       "      <td>0.910594</td>\n",
       "      <td>2.843141</td>\n",
       "      <td>0.758520</td>\n",
       "      <td>4.826280</td>\n",
       "      <td>5.354136</td>\n",
       "      <td>9.025781</td>\n",
       "      <td>3.084944</td>\n",
       "    </tr>\n",
       "  </tbody>\n",
       "</table>\n",
       "</div>"
      ],
      "text/plain": [
       "         Survived      Pclass         Age         Sex       SibSp       Parch  \\\n",
       "count  343.000000  343.000000  343.000000  343.000000  343.000000  343.000000   \n",
       "mean     0.387755    0.061957   -0.079486   -0.033985    0.047588   -0.006699   \n",
       "std      0.487950    0.974958    0.967042    1.009643    1.079665    0.956575   \n",
       "min      0.000000   -1.475329   -1.987342   -1.316511   -0.551317   -0.505541   \n",
       "25%      0.000000   -0.282368   -0.667685   -1.316511   -0.551317   -0.505541   \n",
       "50%      0.000000    0.910594   -0.116967    0.758520   -0.551317   -0.505541   \n",
       "75%      1.000000    0.910594    0.433751    0.758520    0.524203    0.666395   \n",
       "max      1.000000    0.910594    2.843141    0.758520    4.826280    5.354136   \n",
       "\n",
       "             Fare    Embarked  \n",
       "count  343.000000  343.000000  \n",
       "mean    -0.001668    0.023068  \n",
       "std      0.991975    1.036742  \n",
       "min     -0.655616   -7.487777  \n",
       "25%     -0.503497   -0.439296  \n",
       "50%     -0.381612   -0.439296  \n",
       "75%     -0.062492   -0.439296  \n",
       "max      9.025781    3.084944  "
      ]
     },
     "execution_count": 1,
     "metadata": {},
     "output_type": "execute_result"
    }
   ],
   "source": [
    "import scipy.optimize as scop\n",
    "import titanic_project as titan\n",
    "import numpy as np\n",
    "import matplotlib.pyplot as plt\n",
    "\n",
    "datain = titan.readdata('train.csv', 0.6, 0.6)\n",
    "datain['train'].describe()"
   ]
  },
  {
   "cell_type": "code",
   "execution_count": 2,
   "metadata": {
    "collapsed": true
   },
   "outputs": [],
   "source": [
    "X = np.array(datain['train'].ix[:,1:])\n",
    "y = np.array(datain['train'].ix[:,0])\n",
    "Xvad = np.array(datain['validation'].ix[:,1:])\n",
    "yvad = np.array(datain['validation'].ix[:,0])"
   ]
  },
  {
   "cell_type": "code",
   "execution_count": 3,
   "metadata": {
    "collapsed": true
   },
   "outputs": [],
   "source": [
    "nfeature = X.shape[1]\n",
    "theta0 = np.zeros(shape = (nfeature, 1))\n",
    "regpara = 0.0"
   ]
  },
  {
   "cell_type": "code",
   "execution_count": 4,
   "metadata": {
    "collapsed": true
   },
   "outputs": [],
   "source": [
    "w = scop.fmin_l_bfgs_b(titan.lfCost, theta0, titan.lfGradient, (X, y, regpara))"
   ]
  },
  {
   "cell_type": "code",
   "execution_count": 7,
   "metadata": {
    "collapsed": true
   },
   "outputs": [],
   "source": [
    "y_predict = titan.sigmoid(np.dot(X,w[0]))"
   ]
  },
  {
   "cell_type": "code",
   "execution_count": 8,
   "metadata": {
    "collapsed": false
   },
   "outputs": [],
   "source": [
    "y_predict[y_predict > 0.5] = 1"
   ]
  },
  {
   "cell_type": "code",
   "execution_count": 9,
   "metadata": {
    "collapsed": true
   },
   "outputs": [],
   "source": [
    "y_predict[y_predict <= 0.5] = 0"
   ]
  },
  {
   "cell_type": "code",
   "execution_count": 10,
   "metadata": {
    "collapsed": false
   },
   "outputs": [
    {
     "data": {
      "text/plain": [
       "0.79591836734693877"
      ]
     },
     "execution_count": 10,
     "metadata": {},
     "output_type": "execute_result"
    }
   ],
   "source": [
    "(y_predict == y).sum()*1.0/y.size"
   ]
  },
  {
   "cell_type": "code",
   "execution_count": 11,
   "metadata": {
    "collapsed": false
   },
   "outputs": [],
   "source": [
    "regpara = np.array([0, 0.01, 0.03, 0.1, 0.3, 1, 3, 10])\n",
    "trainerror = np.zeros(shape = (regpara.size, 1))\n",
    "vaderror = np.zeros(shape = (regpara.size, 1))\n",
    "\n",
    "for i in range(0, regpara.size):\n",
    "    theta = scop.fmin_l_bfgs_b(titan.lfCost, theta0, titan.lfGradient, (X, y, regpara[i]))[0]\n",
    "    trainerror[i] = titan.lfCost(theta, X, y, 0.0)\n",
    "    vaderror[i] = titan.lfCost(theta, Xvad, yvad, 0.0)"
   ]
  },
  {
   "cell_type": "code",
   "execution_count": 12,
   "metadata": {
    "collapsed": false
   },
   "outputs": [
    {
     "data": {
      "image/png": "[encoded data removed]",
      "text/plain": [
       "<matplotlib.figure.Figure at 0xab5c2b0>"
      ]
     },
     "metadata": {},
     "output_type": "display_data"
    }
   ],
   "source": [
    "plt.plot(regpara, trainerror, '-b', regpara, vaderror,'-r')\n",
    "plt.show()"
   ]
  },
  {
   "cell_type": "code",
   "execution_count": 13,
   "metadata": {
    "collapsed": false
   },
   "outputs": [],
   "source": [
    "tp = np.linspace(0.2, 0.7, 20)"
   ]
  },
  {
   "cell_type": "code",
   "execution_count": 14,
   "metadata": {
    "collapsed": false
   },
   "outputs": [
    {
     "data": {
      "image/png": "[encoded data removed]",
      "text/plain": [
       "<matplotlib.figure.Figure at 0xac6cf28>"
      ]
     },
     "metadata": {},
     "output_type": "display_data"
    }
   ],
   "source": [
    "trainerror = np.zeros(shape = (tp.size, 1))\n",
    "vaderror = np.zeros(shape = (tp.size, 1))\n",
    "for i in range(0, tp.size):\n",
    "    datain = titan.readdata('train.csv', tp[i], 0.7)\n",
    "    X = np.array(datain['train'].ix[:,1:])\n",
    "    y = np.array(datain['train'].ix[:,0])\n",
    "    Xvad = np.array(datain['validation'].ix[:,1:])\n",
    "    yvad = np.array(datain['validation'].ix[:,0])\n",
    "    nfeature = X.shape[1]\n",
    "    theta0 = np.zeros(shape = (nfeature, 1))\n",
    "    regpara = 3.0\n",
    "    theta = scop.fmin_l_bfgs_b(titan.lfCost, theta0, titan.lfGradient, (X, y, regpara))[0]\n",
    "    trainerror[i] = titan.lfCost(theta, X, y, 0.0)\n",
    "    vaderror[i] = titan.lfCost(theta, Xvad, yvad, 0.0)\n",
    "plt.plot(tp, trainerror, '-b', tp, vaderror,'-r')\n",
    "plt.xlabel('proportion of data used for training')\n",
    "plt.ylabel('error')\n",
    "plt.legend(['training','validation'])\n",
    "plt.show()"
   ]
  },
  {
   "cell_type": "markdown",
   "metadata": {},
   "source": [
    "It seems the training set error is relatively unchanged with different dataset sizes. It could suggest that there is not enough features to properly train the logistic functions. The plot below illustrates that simple linear decision boundaries may not work well. The two features, age and Pclass, are two features with relatively large parameters. Therefore they are the most telling parameters. It is clear from the plot below that linear decision boundaries are likely to fail.\n",
    "\n",
    "The discrete nature of important features like Pclass and Sex may have contributed to the poor performance of linear logistic function. Those features have a small number of discrete values. When used alone they show heavy overlap between survived and not survived lists. \n",
    "\n",
    "Therefore, we add second order terms for additional features. Terms such as *Age\\times Pclass*. The additional features can create more complex decision boundaries and could mitigate the problems created by features with a small set of discrete values."
   ]
  },
  {
   "cell_type": "code",
   "execution_count": 15,
   "metadata": {
    "collapsed": false
   },
   "outputs": [
    {
     "data": {
      "image/png": "[encoded data removed]",
      "text/plain": [
       "<matplotlib.figure.Figure at 0xad11240>"
      ]
     },
     "metadata": {},
     "output_type": "display_data"
    }
   ],
   "source": [
    "plt.plot(datain['train'].Age[y==0], datain['train'].Pclass[y==0], 'xb')\n",
    "plt.plot(datain['train'].Age[y==1], datain['train'].Pclass[y==1], 'or')\n",
    "plt.xlabel('Normalized age')\n",
    "plt.ylabel('Normalized SibSp')\n",
    "plt.legend(['not survived', 'survived'])\n",
    "plt.show()"
   ]
  },
  {
   "cell_type": "code",
   "execution_count": 26,
   "metadata": {
    "collapsed": true
   },
   "outputs": [],
   "source": [
    "Xq = titan.xquad(X)\n",
    "Xvadq = titan.xquad(Xvad)\n",
    "nfeature = Xq.shape[1]\n",
    "theta0 = np.zeros(shape = (nfeature, 1))\n",
    "regpara = 1.0"
   ]
  },
  {
   "cell_type": "code",
   "execution_count": 27,
   "metadata": {
    "collapsed": false
   },
   "outputs": [],
   "source": [
    "w = scop.fmin_l_bfgs_b(titan.lfCost, theta0, titan.lfGradient, (Xq, y, regpara))"
   ]
  },
  {
   "cell_type": "code",
   "execution_count": 28,
   "metadata": {
    "collapsed": false
   },
   "outputs": [
    {
     "data": {
      "text/plain": [
       "0.72110552763819091"
      ]
     },
     "execution_count": 28,
     "metadata": {},
     "output_type": "execute_result"
    }
   ],
   "source": [
    "y_predict = titan.sigmoid(np.dot(Xq,w[0]))\n",
    "y_predict[y_predict > 0.5] = 1\n",
    "y_predict[y_predict <= 0.5] = 0\n",
    "(y_predict == y).sum()*1.0/y.size"
   ]
  },
  {
   "cell_type": "code",
   "execution_count": 29,
   "metadata": {
    "collapsed": false
   },
   "outputs": [
    {
     "data": {
      "image/png": "[encoded data removed]",
      "text/plain": [
       "<matplotlib.figure.Figure at 0xbb3a940>"
      ]
     },
     "metadata": {},
     "output_type": "display_data"
    }
   ],
   "source": [
    "regpara = np.array([0, 0.01, 0.03, 0.1, 0.3, 1, 3, 10])\n",
    "trainerror = np.zeros(shape = (regpara.size, 1))\n",
    "vaderror = np.zeros(shape = (regpara.size, 1))\n",
    "\n",
    "for i in range(0, regpara.size):\n",
    "    theta = scop.fmin_l_bfgs_b(titan.lfCost, theta0, titan.lfGradient, (Xq, y, regpara[i]))[0]\n",
    "    trainerror[i] = titan.lfCost(theta, Xq, y, 0.0)\n",
    "    vaderror[i] = titan.lfCost(theta, Xvadq, yvad, 0.0)\n",
    "plt.plot(regpara, trainerror, '-b', regpara, vaderror,'-r')\n",
    "plt.show()"
   ]
  },
  {
   "cell_type": "code",
   "execution_count": null,
   "metadata": {
    "collapsed": true
   },
   "outputs": [],
   "source": []
  }
 ],
 "metadata": {
  "kernelspec": {
   "display_name": "Python 2",
   "language": "python",
   "name": "python2"
  },
  "language_info": {
   "codemirror_mode": {
    "name": "ipython",
    "version": 2
   },
   "file_extension": ".py",
   "mimetype": "text/x-python",
   "name": "python",
   "nbconvert_exporter": "python",
   "pygments_lexer": "ipython2",
   "version": "2.7.13"
  }
 },
 "nbformat": 4,
 "nbformat_minor": 2
}
