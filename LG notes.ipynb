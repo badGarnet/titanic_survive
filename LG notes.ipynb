{
 "cells": [
  {
   "cell_type": "code",
   "execution_count": 3,
   "metadata": {
    "collapsed": false
   },
   "outputs": [
    {
     "data": {
      "text/html": [
       "<div>\n",
       "<table border=\"1\" class=\"dataframe\">\n",
       "  <thead>\n",
       "    <tr style=\"text-align: right;\">\n",
       "      <th></th>\n",
       "      <th>Survived</th>\n",
       "      <th>Pclass</th>\n",
       "      <th>Age</th>\n",
       "      <th>Sex</th>\n",
       "      <th>SibSp</th>\n",
       "      <th>Parch</th>\n",
       "      <th>Fare</th>\n",
       "      <th>Embarked</th>\n",
       "    </tr>\n",
       "  </thead>\n",
       "  <tbody>\n",
       "    <tr>\n",
       "      <th>count</th>\n",
       "      <td>343.000000</td>\n",
       "      <td>343.000000</td>\n",
       "      <td>343.000000</td>\n",
       "      <td>343.000000</td>\n",
       "      <td>343.000000</td>\n",
       "      <td>343.000000</td>\n",
       "      <td>343.000000</td>\n",
       "      <td>343.000000</td>\n",
       "    </tr>\n",
       "    <tr>\n",
       "      <th>mean</th>\n",
       "      <td>0.387755</td>\n",
       "      <td>2.288630</td>\n",
       "      <td>28.544461</td>\n",
       "      <td>0.690962</td>\n",
       "      <td>0.556851</td>\n",
       "      <td>0.425656</td>\n",
       "      <td>34.606231</td>\n",
       "      <td>1.262391</td>\n",
       "    </tr>\n",
       "    <tr>\n",
       "      <th>std</th>\n",
       "      <td>0.487950</td>\n",
       "      <td>0.817258</td>\n",
       "      <td>14.047732</td>\n",
       "      <td>0.243284</td>\n",
       "      <td>1.003854</td>\n",
       "      <td>0.816236</td>\n",
       "      <td>52.494235</td>\n",
       "      <td>0.588349</td>\n",
       "    </tr>\n",
       "    <tr>\n",
       "      <th>min</th>\n",
       "      <td>0.000000</td>\n",
       "      <td>1.000000</td>\n",
       "      <td>0.830000</td>\n",
       "      <td>0.500000</td>\n",
       "      <td>0.000000</td>\n",
       "      <td>0.000000</td>\n",
       "      <td>0.000000</td>\n",
       "      <td>-3.000000</td>\n",
       "    </tr>\n",
       "    <tr>\n",
       "      <th>25%</th>\n",
       "      <td>0.000000</td>\n",
       "      <td>2.000000</td>\n",
       "      <td>20.000000</td>\n",
       "      <td>0.500000</td>\n",
       "      <td>0.000000</td>\n",
       "      <td>0.000000</td>\n",
       "      <td>8.050000</td>\n",
       "      <td>1.000000</td>\n",
       "    </tr>\n",
       "    <tr>\n",
       "      <th>50%</th>\n",
       "      <td>0.000000</td>\n",
       "      <td>3.000000</td>\n",
       "      <td>28.000000</td>\n",
       "      <td>0.500000</td>\n",
       "      <td>0.000000</td>\n",
       "      <td>0.000000</td>\n",
       "      <td>14.500000</td>\n",
       "      <td>1.000000</td>\n",
       "    </tr>\n",
       "    <tr>\n",
       "      <th>75%</th>\n",
       "      <td>1.000000</td>\n",
       "      <td>3.000000</td>\n",
       "      <td>36.000000</td>\n",
       "      <td>1.000000</td>\n",
       "      <td>1.000000</td>\n",
       "      <td>1.000000</td>\n",
       "      <td>31.387500</td>\n",
       "      <td>1.000000</td>\n",
       "    </tr>\n",
       "    <tr>\n",
       "      <th>max</th>\n",
       "      <td>1.000000</td>\n",
       "      <td>3.000000</td>\n",
       "      <td>71.000000</td>\n",
       "      <td>1.000000</td>\n",
       "      <td>5.000000</td>\n",
       "      <td>5.000000</td>\n",
       "      <td>512.329200</td>\n",
       "      <td>3.000000</td>\n",
       "    </tr>\n",
       "  </tbody>\n",
       "</table>\n",
       "</div>"
      ],
      "text/plain": [
       "         Survived      Pclass         Age         Sex       SibSp       Parch  \\\n",
       "count  343.000000  343.000000  343.000000  343.000000  343.000000  343.000000   \n",
       "mean     0.387755    2.288630   28.544461    0.690962    0.556851    0.425656   \n",
       "std      0.487950    0.817258   14.047732    0.243284    1.003854    0.816236   \n",
       "min      0.000000    1.000000    0.830000    0.500000    0.000000    0.000000   \n",
       "25%      0.000000    2.000000   20.000000    0.500000    0.000000    0.000000   \n",
       "50%      0.000000    3.000000   28.000000    0.500000    0.000000    0.000000   \n",
       "75%      1.000000    3.000000   36.000000    1.000000    1.000000    1.000000   \n",
       "max      1.000000    3.000000   71.000000    1.000000    5.000000    5.000000   \n",
       "\n",
       "             Fare    Embarked  \n",
       "count  343.000000  343.000000  \n",
       "mean    34.606231    1.262391  \n",
       "std     52.494235    0.588349  \n",
       "min      0.000000   -3.000000  \n",
       "25%      8.050000    1.000000  \n",
       "50%     14.500000    1.000000  \n",
       "75%     31.387500    1.000000  \n",
       "max    512.329200    3.000000  "
      ]
     },
     "execution_count": 3,
     "metadata": {},
     "output_type": "execute_result"
    }
   ],
   "source": [
    "import scipy.optimize as scop\n",
    "import titanic_project as titan\n",
    "import numpy as np\n",
    "import matplotlib.pyplot as plt\n",
    "\n",
    "features = ['Survived', 'Pclass', 'Age', 'Sex', 'SibSp', 'Parch', 'Fare','Embarked']\n",
    "datain = titan.readdata('train.csv', 0.6, 0.6, features)\n",
    "datain['train'].describe()"
   ]
  },
  {
   "cell_type": "code",
   "execution_count": 4,
   "metadata": {
    "collapsed": false
   },
   "outputs": [],
   "source": [
    "X = np.array(datain['train'].ix[:,1:])\n",
    "y = np.array(datain['train'].ix[:,0])\n",
    "Xvad = np.array(datain['validation'].ix[:,1:])\n",
    "yvad = np.array(datain['validation'].ix[:,0])\n",
    "X = titan.normdata(X)\n",
    "Xvad = titan.normdata(Xvad)"
   ]
  },
  {
   "cell_type": "code",
   "execution_count": 5,
   "metadata": {
    "collapsed": true
   },
   "outputs": [],
   "source": [
    "nfeature = X.shape[1]\n",
    "theta0 = np.zeros(shape = (nfeature, 1))\n",
    "regpara = 1.0"
   ]
  },
  {
   "cell_type": "code",
   "execution_count": 6,
   "metadata": {
    "collapsed": true
   },
   "outputs": [],
   "source": [
    "w = scop.fmin_l_bfgs_b(titan.lfCost, theta0, titan.lfGradient, (X, y, regpara))"
   ]
  },
  {
   "cell_type": "code",
   "execution_count": 7,
   "metadata": {
    "collapsed": true
   },
   "outputs": [],
   "source": [
    "y_predict = titan.sigmoid(np.dot(X,w[0]))"
   ]
  },
  {
   "cell_type": "code",
   "execution_count": 8,
   "metadata": {
    "collapsed": false
   },
   "outputs": [],
   "source": [
    "y_predict[y_predict > 0.5] = 1"
   ]
  },
  {
   "cell_type": "code",
   "execution_count": 9,
   "metadata": {
    "collapsed": true
   },
   "outputs": [],
   "source": [
    "y_predict[y_predict <= 0.5] = 0"
   ]
  },
  {
   "cell_type": "code",
   "execution_count": 10,
   "metadata": {
    "collapsed": false
   },
   "outputs": [
    {
     "data": {
      "text/plain": [
       "0.79300291545189505"
      ]
     },
     "execution_count": 10,
     "metadata": {},
     "output_type": "execute_result"
    }
   ],
   "source": [
    "(y_predict == y).sum()*1.0/y.size"
   ]
  },
  {
   "cell_type": "code",
   "execution_count": 11,
   "metadata": {
    "collapsed": false
   },
   "outputs": [],
   "source": [
    "regpara = np.array([0, 0.01, 0.03, 0.1, 0.3, 1, 3, 10]) * 0.5\n",
    "trainerror = np.zeros(shape = (regpara.size, 1))\n",
    "vaderror = np.zeros(shape = (regpara.size, 1))\n",
    "\n",
    "for i in range(0, regpara.size):\n",
    "    theta = scop.fmin_l_bfgs_b(titan.lfCost, theta0, titan.lfGradient, (X, y, regpara[i]))[0]\n",
    "    trainerror[i] = titan.lfCost(theta, X, y, 0.0)\n",
    "    vaderror[i] = titan.lfCost(theta, Xvad, yvad, 0.0)"
   ]
  },
  {
   "cell_type": "code",
   "execution_count": 12,
   "metadata": {
    "collapsed": false
   },
   "outputs": [
    {
     "data": {
      "image/png": "[encoded data removed]",
      "text/plain": [
       "<matplotlib.figure.Figure at 0x4761c50>"
      ]
     },
     "metadata": {},
     "output_type": "display_data"
    }
   ],
   "source": [
    "plt.plot(regpara, trainerror, '-b', regpara, vaderror,'-r')\n",
    "plt.show()"
   ]
  },
  {
   "cell_type": "code",
   "execution_count": 11,
   "metadata": {
    "collapsed": false
   },
   "outputs": [],
   "source": [
    "tp = np.linspace(0.2, 0.7, 20)"
   ]
  },
  {
   "cell_type": "code",
   "execution_count": 22,
   "metadata": {
    "collapsed": false
   },
   "outputs": [
    {
     "data": {
      "image/png": "[encoded data removed]",
      "text/plain": [
       "<matplotlib.figure.Figure at 0xc442048>"
      ]
     },
     "metadata": {},
     "output_type": "display_data"
    }
   ],
   "source": [
    "trainerror = np.zeros(shape = (tp.size, 1))\n",
    "vaderror = np.zeros(shape = (tp.size, 1))\n",
    "for i in range(0, tp.size):\n",
    "    datain = titan.readdata('train.csv', tp[i], 0.7)\n",
    "    X = np.array(datain['train'].ix[:,1:])\n",
    "    y = np.array(datain['train'].ix[:,0])\n",
    "    Xvad = np.array(datain['validation'].ix[:,1:])\n",
    "    yvad = np.array(datain['validation'].ix[:,0])\n",
    "    nfeature = X.shape[1]\n",
    "    theta0 = np.zeros(shape = (nfeature, 1))\n",
    "    regpara = 1.5\n",
    "    theta = scop.fmin_l_bfgs_b(titan.lfCost, theta0, titan.lfGradient, (X, y, regpara))[0]\n",
    "    trainerror[i] = titan.lfCost(theta, X, y, 0.0)\n",
    "    vaderror[i] = titan.lfCost(theta, Xvad, yvad, 0.0)\n",
    "plt.plot(tp, trainerror, '-b', tp, vaderror,'-r')\n",
    "plt.xlabel('proportion of data used for training')\n",
    "plt.ylabel('error')\n",
    "plt.legend(['training','validation'])\n",
    "plt.show()"
   ]
  },
  {
   "cell_type": "markdown",
   "metadata": {},
   "source": [
    "The learning curve suggests at leat 60% of the train.csv dataset is needed to produce a reasonable model. "
   ]
  },
  {
   "cell_type": "code",
   "execution_count": 23,
   "metadata": {
    "collapsed": false
   },
   "outputs": [
    {
     "data": {
      "image/png": "[encoded data removed]",
      "text/plain": [
       "<matplotlib.figure.Figure at 0xbe80a90>"
      ]
     },
     "metadata": {},
     "output_type": "display_data"
    }
   ],
   "source": [
    "plt.plot(datain['train'].Age[y==0], datain['train'].Pclass[y==0], 'xb')\n",
    "plt.plot(datain['train'].Age[y==1], datain['train'].Pclass[y==1], 'or')\n",
    "plt.xlabel('age')\n",
    "plt.ylabel('SibSp')\n",
    "plt.legend(['not survived', 'survived'])\n",
    "plt.show()"
   ]
  },
  {
   "cell_type": "code",
   "execution_count": 24,
   "metadata": {
    "collapsed": false
   },
   "outputs": [],
   "source": [
    "datain = titan.readdata('train.csv', 0.6, 0.6)\n",
    "X = np.array(datain['train'].ix[:,1:])\n",
    "y = np.array(datain['train'].ix[:,0])\n",
    "Xvad = np.array(datain['validation'].ix[:,1:])\n",
    "yvad = np.array(datain['validation'].ix[:,0])\n",
    "\n",
    "Xq = titan.xquad(X)\n",
    "Xvadq = titan.xquad(Xvad)\n",
    "\n",
    "nfeature = Xq.shape[1]\n",
    "theta0 = np.zeros(shape = (nfeature, 1))\n",
    "regpara = 1.0"
   ]
  },
  {
   "cell_type": "code",
   "execution_count": 25,
   "metadata": {
    "collapsed": false
   },
   "outputs": [
    {
     "data": {
      "text/plain": [
       "array([  3.37967906e+00,   3.47953899e+01,   7.55268057e-01,\n",
       "         2.84195703e+00,   2.17928030e+00,   5.16970037e+01,\n",
       "         1.66148020e+00,   3.47953899e+01,   9.22893428e+02,\n",
       "         1.16935072e+01,   1.83862572e+01,   2.48554392e+01,\n",
       "         1.82288123e+03,   2.77877786e+01,   7.55268057e-01,\n",
       "         1.16935072e+01,   3.64393584e-01,   7.42167206e-01,\n",
       "         6.65866491e-01,   4.80866332e+01,   5.80207890e-01,\n",
       "         2.84195703e+00,   1.83862572e+01,   7.42167206e-01,\n",
       "         3.81572402e+00,   1.66644537e+00,   8.65275151e+01,\n",
       "         1.50799618e+00,   2.17928030e+00,   2.48554392e+01,\n",
       "         6.65866491e-01,   1.66644537e+00,   2.55596855e+00,\n",
       "         7.36686746e+01,   9.71506267e-01,   5.16970037e+01,\n",
       "         1.82288123e+03,   4.80866332e+01,   8.65275151e+01,\n",
       "         7.36686746e+01,   1.72325953e+04,   9.46297567e+01,\n",
       "         1.66148020e+00,   2.77877786e+01,   5.80207890e-01,\n",
       "         1.50799618e+00,   9.71506267e-01,   9.46297567e+01,\n",
       "         1.97927622e+00])"
      ]
     },
     "execution_count": 25,
     "metadata": {},
     "output_type": "execute_result"
    }
   ],
   "source": [
    "Xq.std(axis=0)"
   ]
  },
  {
   "cell_type": "code",
   "execution_count": 26,
   "metadata": {
    "collapsed": false
   },
   "outputs": [],
   "source": [
    "w = scop.fmin_l_bfgs_b(titan.lfCost, theta0, titan.lfGradient, (Xq, y, regpara))"
   ]
  },
  {
   "cell_type": "code",
   "execution_count": 27,
   "metadata": {
    "collapsed": false
   },
   "outputs": [
    {
     "data": {
      "text/plain": [
       "0.83090379008746351"
      ]
     },
     "execution_count": 27,
     "metadata": {},
     "output_type": "execute_result"
    }
   ],
   "source": [
    "y_predict = titan.sigmoid(np.dot(Xq,w[0]))\n",
    "y_predict[y_predict > 0.5] = 1\n",
    "y_predict[y_predict <= 0.5] = 0\n",
    "(y_predict == y).sum()*1.0/y.size"
   ]
  },
  {
   "cell_type": "code",
   "execution_count": 29,
   "metadata": {
    "collapsed": false
   },
   "outputs": [
    {
     "data": {
      "image/png": "[encoded data removed]",
      "text/plain": [
       "<matplotlib.figure.Figure at 0xbc032b0>"
      ]
     },
     "metadata": {},
     "output_type": "display_data"
    }
   ],
   "source": [
    "regpara = np.array([0, 0.01, 0.03, 0.1, 0.3, 1, 3, 10])\n",
    "trainerror = np.zeros(shape = (regpara.size, 1))\n",
    "vaderror = np.zeros(shape = (regpara.size, 1))\n",
    "\n",
    "for i in range(0, regpara.size):\n",
    "    theta = scop.fmin_l_bfgs_b(titan.lfCost, theta0, titan.lfGradient, (Xq, y, regpara[i]))[0]\n",
    "    trainerror[i] = titan.lfCost(theta, Xq, y, 0.0)\n",
    "    vaderror[i] = titan.lfCost(theta, Xvadq, yvad, 0.0)\n",
    "plt.plot(regpara, trainerror, '-b', regpara, vaderror,'-r')\n",
    "plt.xlabel('proportion of data used for training')\n",
    "plt.ylabel('error')\n",
    "plt.legend(['training','validation'])\n",
    "plt.show()"
   ]
  },
  {
   "cell_type": "markdown",
   "metadata": {},
   "source": [
    "The learning curve above suggests that adding 2nd order terms makes the model highly variant, i.e., overfitting. \n",
    "\n",
    "Below we experiment with taking features out from the original linear model, starting with Age. A large number of passengers in the databae does not have an age on the record."
   ]
  },
  {
   "cell_type": "code",
   "execution_count": 16,
   "metadata": {
    "collapsed": true
   },
   "outputs": [],
   "source": [
    "features = ['Survived', 'Pclass', 'Sex', 'SibSp', 'Parch', 'Fare','Embarked']\n",
    "datain = titan.readdata('train.csv', 0.6, 0.6, features)\n",
    "X = np.array(datain['train'].ix[:,1:])\n",
    "y = np.array(datain['train'].ix[:,0])\n",
    "Xvad = np.array(datain['validation'].ix[:,1:])\n",
    "yvad = np.array(datain['validation'].ix[:,0])\n",
    "X = titan.normdata(X)\n",
    "Xvad = titan.normdata(Xvad)\n",
    "\n",
    "nfeature = X.shape[1]\n",
    "theta0 = np.zeros(shape = (nfeature, 1))\n",
    "regpara = 1.0"
   ]
  },
  {
   "cell_type": "code",
   "execution_count": 18,
   "metadata": {
    "collapsed": false
   },
   "outputs": [
    {
     "data": {
      "text/plain": [
       "0.77009345794392525"
      ]
     },
     "execution_count": 18,
     "metadata": {},
     "output_type": "execute_result"
    }
   ],
   "source": [
    "w = scop.fmin_l_bfgs_b(titan.lfCost, theta0, titan.lfGradient, (X, y, regpara))\n",
    "y_predict = titan.sigmoid(np.dot(X, w[0]))\n",
    "y_predict[y_predict > 0.5] = 1\n",
    "y_predict[y_predict <= 0.5] = 0\n",
    "(y_predict == y).sum()*1.0/y.size"
   ]
  },
  {
   "cell_type": "code",
   "execution_count": 21,
   "metadata": {
    "collapsed": false
   },
   "outputs": [
    {
     "data": {
      "image/png": "[encoded data removed]",
      "text/plain": [
       "<matplotlib.figure.Figure at 0xbecdba8>"
      ]
     },
     "metadata": {},
     "output_type": "display_data"
    }
   ],
   "source": [
    "tp = np.linspace(0.2, 0.7, 20)\n",
    "trainerror = np.zeros(shape = (tp.size, 1))\n",
    "vaderror = np.zeros(shape = (tp.size, 1))\n",
    "for i in range(0, tp.size):\n",
    "    datain = titan.readdata('train.csv', tp[i], 0.7, features)\n",
    "    X = np.array(datain['train'].ix[:,1:])\n",
    "    y = np.array(datain['train'].ix[:,0])\n",
    "    Xvad = np.array(datain['validation'].ix[:,1:])\n",
    "    yvad = np.array(datain['validation'].ix[:,0])\n",
    "    nfeature = X.shape[1]\n",
    "    theta0 = np.zeros(shape = (nfeature, 1))\n",
    "    regpara = 1.0\n",
    "    theta = scop.fmin_l_bfgs_b(titan.lfCost, theta0, titan.lfGradient, (X, y, regpara))[0]\n",
    "    trainerror[i] = titan.lfCost(theta, X, y, 0.0)\n",
    "    vaderror[i] = titan.lfCost(theta, Xvad, yvad, 0.0)\n",
    "plt.plot(tp, trainerror, '-b', tp, vaderror,'-r')\n",
    "plt.xlabel('proportion of data used for training')\n",
    "plt.ylabel('error')\n",
    "plt.legend(['training','validation'])\n",
    "plt.show()"
   ]
  },
  {
   "cell_type": "code",
   "execution_count": null,
   "metadata": {
    "collapsed": true
   },
   "outputs": [],
   "source": [
    "As expected, the learning curve shows that without Age the error increased for all sizes of datasets. "
   ]
  }
 ],
 "metadata": {
  "kernelspec": {
   "display_name": "Python 2",
   "language": "python",
   "name": "python2"
  },
  "language_info": {
   "codemirror_mode": {
    "name": "ipython",
    "version": 2
   },
   "file_extension": ".py",
   "mimetype": "text/x-python",
   "name": "python",
   "nbconvert_exporter": "python",
   "pygments_lexer": "ipython2",
   "version": "2.7.13"
  }
 },
 "nbformat": 4,
 "nbformat_minor": 2
}
