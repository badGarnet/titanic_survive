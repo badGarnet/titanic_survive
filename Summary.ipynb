{
 "cells": [
  {
   "cell_type": "markdown",
   "metadata": {},
   "source": [
    "This note book summarizes the results of using logistic regression to determine the whether a passenger on board of the Titanic survives or not, given their social economical class, age, sex, etc. Analysis show a passengers gender, age, and social economical class are the three most important factors (in decending order). The decision boundary between survived and not survived is potentially highly nonlinear due to the nature of the data. A simple linear function (with the inputs as is) gives 79% accuracy on a validation set that consists 40% of the total training data. A 2nd order polynormial function can improve the accuracy to around 84%. In the model, missing age was filled by mapping the title (extracted from name) to the median age in the title group. The qudratic logistic regression model is limited in its accuracy due to discrete nature of most of the features."
   ]
  },
  {
   "cell_type": "code",
   "execution_count": 1,
   "metadata": {
    "collapsed": false
   },
   "outputs": [
    {
     "data": {
      "text/html": [
       "<div>\n",
       "<table border=\"1\" class=\"dataframe\">\n",
       "  <thead>\n",
       "    <tr style=\"text-align: right;\">\n",
       "      <th></th>\n",
       "      <th>Survived</th>\n",
       "      <th>Pclass</th>\n",
       "      <th>Age</th>\n",
       "      <th>Sex</th>\n",
       "      <th>SibSp</th>\n",
       "      <th>Parch</th>\n",
       "      <th>Fare</th>\n",
       "      <th>Embarked</th>\n",
       "    </tr>\n",
       "  </thead>\n",
       "  <tbody>\n",
       "    <tr>\n",
       "      <th>count</th>\n",
       "      <td>535.000000</td>\n",
       "      <td>535.000000</td>\n",
       "      <td>424.000000</td>\n",
       "      <td>535.000000</td>\n",
       "      <td>535.000000</td>\n",
       "      <td>535.000000</td>\n",
       "      <td>535.000000</td>\n",
       "      <td>535.000000</td>\n",
       "    </tr>\n",
       "    <tr>\n",
       "      <th>mean</th>\n",
       "      <td>0.386916</td>\n",
       "      <td>2.325234</td>\n",
       "      <td>29.266509</td>\n",
       "      <td>-0.256075</td>\n",
       "      <td>0.549533</td>\n",
       "      <td>0.370093</td>\n",
       "      <td>31.716035</td>\n",
       "      <td>1.366355</td>\n",
       "    </tr>\n",
       "    <tr>\n",
       "      <th>std</th>\n",
       "      <td>0.487500</td>\n",
       "      <td>0.829477</td>\n",
       "      <td>14.434267</td>\n",
       "      <td>0.967562</td>\n",
       "      <td>1.125494</td>\n",
       "      <td>0.767702</td>\n",
       "      <td>47.259528</td>\n",
       "      <td>0.676234</td>\n",
       "    </tr>\n",
       "    <tr>\n",
       "      <th>min</th>\n",
       "      <td>0.000000</td>\n",
       "      <td>1.000000</td>\n",
       "      <td>0.750000</td>\n",
       "      <td>-1.000000</td>\n",
       "      <td>0.000000</td>\n",
       "      <td>0.000000</td>\n",
       "      <td>0.000000</td>\n",
       "      <td>-3.000000</td>\n",
       "    </tr>\n",
       "    <tr>\n",
       "      <th>25%</th>\n",
       "      <td>0.000000</td>\n",
       "      <td>2.000000</td>\n",
       "      <td>20.875000</td>\n",
       "      <td>-1.000000</td>\n",
       "      <td>0.000000</td>\n",
       "      <td>0.000000</td>\n",
       "      <td>7.925000</td>\n",
       "      <td>1.000000</td>\n",
       "    </tr>\n",
       "    <tr>\n",
       "      <th>50%</th>\n",
       "      <td>0.000000</td>\n",
       "      <td>3.000000</td>\n",
       "      <td>28.000000</td>\n",
       "      <td>-1.000000</td>\n",
       "      <td>0.000000</td>\n",
       "      <td>0.000000</td>\n",
       "      <td>14.454200</td>\n",
       "      <td>1.000000</td>\n",
       "    </tr>\n",
       "    <tr>\n",
       "      <th>75%</th>\n",
       "      <td>1.000000</td>\n",
       "      <td>3.000000</td>\n",
       "      <td>37.250000</td>\n",
       "      <td>1.000000</td>\n",
       "      <td>1.000000</td>\n",
       "      <td>0.000000</td>\n",
       "      <td>29.885400</td>\n",
       "      <td>2.000000</td>\n",
       "    </tr>\n",
       "    <tr>\n",
       "      <th>max</th>\n",
       "      <td>1.000000</td>\n",
       "      <td>3.000000</td>\n",
       "      <td>71.000000</td>\n",
       "      <td>1.000000</td>\n",
       "      <td>8.000000</td>\n",
       "      <td>5.000000</td>\n",
       "      <td>512.329200</td>\n",
       "      <td>3.000000</td>\n",
       "    </tr>\n",
       "  </tbody>\n",
       "</table>\n",
       "</div>"
      ],
      "text/plain": [
       "         Survived      Pclass         Age         Sex       SibSp       Parch  \\\n",
       "count  535.000000  535.000000  424.000000  535.000000  535.000000  535.000000   \n",
       "mean     0.386916    2.325234   29.266509   -0.256075    0.549533    0.370093   \n",
       "std      0.487500    0.829477   14.434267    0.967562    1.125494    0.767702   \n",
       "min      0.000000    1.000000    0.750000   -1.000000    0.000000    0.000000   \n",
       "25%      0.000000    2.000000   20.875000   -1.000000    0.000000    0.000000   \n",
       "50%      0.000000    3.000000   28.000000   -1.000000    0.000000    0.000000   \n",
       "75%      1.000000    3.000000   37.250000    1.000000    1.000000    0.000000   \n",
       "max      1.000000    3.000000   71.000000    1.000000    8.000000    5.000000   \n",
       "\n",
       "             Fare    Embarked  \n",
       "count  535.000000  535.000000  \n",
       "mean    31.716035    1.366355  \n",
       "std     47.259528    0.676234  \n",
       "min      0.000000   -3.000000  \n",
       "25%      7.925000    1.000000  \n",
       "50%     14.454200    1.000000  \n",
       "75%     29.885400    2.000000  \n",
       "max    512.329200    3.000000  "
      ]
     },
     "execution_count": 1,
     "metadata": {},
     "output_type": "execute_result"
    }
   ],
   "source": [
    "import scipy.optimize as scop\n",
    "import titanic_project as titan\n",
    "import numpy as np\n",
    "import matplotlib.pyplot as plt\n",
    "\n",
    "features = ['Survived', 'Pclass', 'Age', 'Sex', 'SibSp', 'Parch', 'Fare','Embarked','Name']\n",
    "datain = titan.readdata('train.csv', 0.6, 0.6, features)\n",
    "datain['train'].describe()"
   ]
  },
  {
   "cell_type": "code",
   "execution_count": 2,
   "metadata": {
    "collapsed": false
   },
   "outputs": [
    {
     "data": {
      "text/html": [
       "<div>\n",
       "<table border=\"1\" class=\"dataframe\">\n",
       "  <thead>\n",
       "    <tr style=\"text-align: right;\">\n",
       "      <th></th>\n",
       "      <th>Survived</th>\n",
       "      <th>Pclass</th>\n",
       "      <th>Age</th>\n",
       "      <th>Sex</th>\n",
       "      <th>SibSp</th>\n",
       "      <th>Parch</th>\n",
       "      <th>Fare</th>\n",
       "      <th>Embarked</th>\n",
       "    </tr>\n",
       "  </thead>\n",
       "  <tbody>\n",
       "    <tr>\n",
       "      <th>Survived</th>\n",
       "      <td>1.000000</td>\n",
       "      <td>-0.285660</td>\n",
       "      <td>-0.094232</td>\n",
       "      <td>0.559736</td>\n",
       "      <td>-0.029968</td>\n",
       "      <td>0.101782</td>\n",
       "      <td>0.210668</td>\n",
       "      <td>0.074648</td>\n",
       "    </tr>\n",
       "    <tr>\n",
       "      <th>Pclass</th>\n",
       "      <td>-0.285660</td>\n",
       "      <td>1.000000</td>\n",
       "      <td>-0.359838</td>\n",
       "      <td>-0.140481</td>\n",
       "      <td>0.085795</td>\n",
       "      <td>0.008385</td>\n",
       "      <td>-0.587926</td>\n",
       "      <td>-0.094167</td>\n",
       "    </tr>\n",
       "    <tr>\n",
       "      <th>Age</th>\n",
       "      <td>-0.094232</td>\n",
       "      <td>-0.359838</td>\n",
       "      <td>1.000000</td>\n",
       "      <td>-0.091064</td>\n",
       "      <td>-0.353861</td>\n",
       "      <td>-0.238634</td>\n",
       "      <td>0.083645</td>\n",
       "      <td>0.018236</td>\n",
       "    </tr>\n",
       "    <tr>\n",
       "      <th>Sex</th>\n",
       "      <td>0.559736</td>\n",
       "      <td>-0.140481</td>\n",
       "      <td>-0.091064</td>\n",
       "      <td>1.000000</td>\n",
       "      <td>0.069462</td>\n",
       "      <td>0.167201</td>\n",
       "      <td>0.183197</td>\n",
       "      <td>0.061273</td>\n",
       "    </tr>\n",
       "    <tr>\n",
       "      <th>SibSp</th>\n",
       "      <td>-0.029968</td>\n",
       "      <td>0.085795</td>\n",
       "      <td>-0.353861</td>\n",
       "      <td>0.069462</td>\n",
       "      <td>1.000000</td>\n",
       "      <td>0.414155</td>\n",
       "      <td>0.167069</td>\n",
       "      <td>0.021752</td>\n",
       "    </tr>\n",
       "    <tr>\n",
       "      <th>Parch</th>\n",
       "      <td>0.101782</td>\n",
       "      <td>0.008385</td>\n",
       "      <td>-0.238634</td>\n",
       "      <td>0.167201</td>\n",
       "      <td>0.414155</td>\n",
       "      <td>1.000000</td>\n",
       "      <td>0.252656</td>\n",
       "      <td>-0.072881</td>\n",
       "    </tr>\n",
       "    <tr>\n",
       "      <th>Fare</th>\n",
       "      <td>0.210668</td>\n",
       "      <td>-0.587926</td>\n",
       "      <td>0.083645</td>\n",
       "      <td>0.183197</td>\n",
       "      <td>0.167069</td>\n",
       "      <td>0.252656</td>\n",
       "      <td>1.000000</td>\n",
       "      <td>0.142913</td>\n",
       "    </tr>\n",
       "    <tr>\n",
       "      <th>Embarked</th>\n",
       "      <td>0.074648</td>\n",
       "      <td>-0.094167</td>\n",
       "      <td>0.018236</td>\n",
       "      <td>0.061273</td>\n",
       "      <td>0.021752</td>\n",
       "      <td>-0.072881</td>\n",
       "      <td>0.142913</td>\n",
       "      <td>1.000000</td>\n",
       "    </tr>\n",
       "  </tbody>\n",
       "</table>\n",
       "</div>"
      ],
      "text/plain": [
       "          Survived    Pclass       Age       Sex     SibSp     Parch  \\\n",
       "Survived  1.000000 -0.285660 -0.094232  0.559736 -0.029968  0.101782   \n",
       "Pclass   -0.285660  1.000000 -0.359838 -0.140481  0.085795  0.008385   \n",
       "Age      -0.094232 -0.359838  1.000000 -0.091064 -0.353861 -0.238634   \n",
       "Sex       0.559736 -0.140481 -0.091064  1.000000  0.069462  0.167201   \n",
       "SibSp    -0.029968  0.085795 -0.353861  0.069462  1.000000  0.414155   \n",
       "Parch     0.101782  0.008385 -0.238634  0.167201  0.414155  1.000000   \n",
       "Fare      0.210668 -0.587926  0.083645  0.183197  0.167069  0.252656   \n",
       "Embarked  0.074648 -0.094167  0.018236  0.061273  0.021752 -0.072881   \n",
       "\n",
       "              Fare  Embarked  \n",
       "Survived  0.210668  0.074648  \n",
       "Pclass   -0.587926 -0.094167  \n",
       "Age       0.083645  0.018236  \n",
       "Sex       0.183197  0.061273  \n",
       "SibSp     0.167069  0.021752  \n",
       "Parch     0.252656 -0.072881  \n",
       "Fare      1.000000  0.142913  \n",
       "Embarked  0.142913  1.000000  "
      ]
     },
     "execution_count": 2,
     "metadata": {},
     "output_type": "execute_result"
    }
   ],
   "source": [
    "datain['train'].dropna(how='any').corr()"
   ]
  },
  {
   "cell_type": "markdown",
   "metadata": {},
   "source": [
    "The correlation table shows that the most important features are the gender (Sex), social economical class (Pclass and to some extent Fare, those two features are closely correlated). Where the passenger embarked and the sibling spouse count doesn't matter too much. Age is not insignificant, however it is missing in 26% of the training records as shown here. All other features contains no NaN values in the training set."
   ]
  },
  {
   "cell_type": "code",
   "execution_count": 3,
   "metadata": {
    "collapsed": false
   },
   "outputs": [
    {
     "data": {
      "text/plain": [
       "Survived    0.000000\n",
       "Pclass      0.000000\n",
       "Age         0.261792\n",
       "Sex         0.000000\n",
       "SibSp       0.000000\n",
       "Parch       0.000000\n",
       "Fare        0.000000\n",
       "Embarked    0.000000\n",
       "Name        0.000000\n",
       "dtype: float64"
      ]
     },
     "execution_count": 3,
     "metadata": {},
     "output_type": "execute_result"
    }
   ],
   "source": [
    "datain['train'].isnull().sum() * 1.0 / datain['train'].count()"
   ]
  },
  {
   "cell_type": "markdown",
   "metadata": {},
   "source": [
    "Given the potential important of Age I attempt to correlate it to other parameters to improve the final model. The correlation table shows that Age correlates well with Pclass, SibSp, and Parch. After examining the names I find the title in the names, e.g., Mr, could also be used to correlate to age because each title group seem to have a distinct median age."
   ]
  },
  {
   "cell_type": "code",
   "execution_count": 4,
   "metadata": {
    "collapsed": false
   },
   "outputs": [],
   "source": [
    "tmap = {' Mr':0, ' Mrs':1, ' Miss':2, ' Mme':1, ' Master':3}\n",
    "title = datain['train'].Name.apply(titan.name2title).map(tmap).fillna(4).astype(int)"
   ]
  },
  {
   "cell_type": "code",
   "execution_count": 5,
   "metadata": {
    "collapsed": false
   },
   "outputs": [
    {
     "data": {
      "text/html": [
       "<div>\n",
       "<table border=\"1\" class=\"dataframe\">\n",
       "  <thead>\n",
       "    <tr style=\"text-align: right;\">\n",
       "      <th></th>\n",
       "      <th>Survived</th>\n",
       "      <th>Pclass</th>\n",
       "      <th>Age</th>\n",
       "      <th>Sex</th>\n",
       "      <th>SibSp</th>\n",
       "      <th>Parch</th>\n",
       "      <th>Fare</th>\n",
       "      <th>Embarked</th>\n",
       "      <th>title</th>\n",
       "    </tr>\n",
       "  </thead>\n",
       "  <tbody>\n",
       "    <tr>\n",
       "      <th>Survived</th>\n",
       "      <td>1.000000</td>\n",
       "      <td>-0.270099</td>\n",
       "      <td>-0.094232</td>\n",
       "      <td>0.571729</td>\n",
       "      <td>-0.046940</td>\n",
       "      <td>0.087018</td>\n",
       "      <td>0.205579</td>\n",
       "      <td>0.108864</td>\n",
       "      <td>0.411510</td>\n",
       "    </tr>\n",
       "    <tr>\n",
       "      <th>Pclass</th>\n",
       "      <td>-0.270099</td>\n",
       "      <td>1.000000</td>\n",
       "      <td>-0.359838</td>\n",
       "      <td>-0.115367</td>\n",
       "      <td>0.101060</td>\n",
       "      <td>0.001775</td>\n",
       "      <td>-0.586986</td>\n",
       "      <td>0.054265</td>\n",
       "      <td>-0.051237</td>\n",
       "    </tr>\n",
       "    <tr>\n",
       "      <th>Age</th>\n",
       "      <td>-0.094232</td>\n",
       "      <td>-0.359838</td>\n",
       "      <td>1.000000</td>\n",
       "      <td>-0.091064</td>\n",
       "      <td>-0.353861</td>\n",
       "      <td>-0.238634</td>\n",
       "      <td>0.083645</td>\n",
       "      <td>0.018236</td>\n",
       "      <td>-0.314928</td>\n",
       "    </tr>\n",
       "    <tr>\n",
       "      <th>Sex</th>\n",
       "      <td>0.571729</td>\n",
       "      <td>-0.115367</td>\n",
       "      <td>-0.091064</td>\n",
       "      <td>1.000000</td>\n",
       "      <td>0.070997</td>\n",
       "      <td>0.168163</td>\n",
       "      <td>0.180971</td>\n",
       "      <td>0.115029</td>\n",
       "      <td>0.597094</td>\n",
       "    </tr>\n",
       "    <tr>\n",
       "      <th>SibSp</th>\n",
       "      <td>-0.046940</td>\n",
       "      <td>0.101060</td>\n",
       "      <td>-0.353861</td>\n",
       "      <td>0.070997</td>\n",
       "      <td>1.000000</td>\n",
       "      <td>0.440383</td>\n",
       "      <td>0.181967</td>\n",
       "      <td>-0.041111</td>\n",
       "      <td>0.309132</td>\n",
       "    </tr>\n",
       "    <tr>\n",
       "      <th>Parch</th>\n",
       "      <td>0.087018</td>\n",
       "      <td>0.001775</td>\n",
       "      <td>-0.238634</td>\n",
       "      <td>0.168163</td>\n",
       "      <td>0.440383</td>\n",
       "      <td>1.000000</td>\n",
       "      <td>0.260505</td>\n",
       "      <td>-0.124586</td>\n",
       "      <td>0.261974</td>\n",
       "    </tr>\n",
       "    <tr>\n",
       "      <th>Fare</th>\n",
       "      <td>0.205579</td>\n",
       "      <td>-0.586986</td>\n",
       "      <td>0.083645</td>\n",
       "      <td>0.180971</td>\n",
       "      <td>0.181967</td>\n",
       "      <td>0.260505</td>\n",
       "      <td>1.000000</td>\n",
       "      <td>0.038452</td>\n",
       "      <td>0.147810</td>\n",
       "    </tr>\n",
       "    <tr>\n",
       "      <th>Embarked</th>\n",
       "      <td>0.108864</td>\n",
       "      <td>0.054265</td>\n",
       "      <td>0.018236</td>\n",
       "      <td>0.115029</td>\n",
       "      <td>-0.041111</td>\n",
       "      <td>-0.124586</td>\n",
       "      <td>0.038452</td>\n",
       "      <td>1.000000</td>\n",
       "      <td>0.103845</td>\n",
       "    </tr>\n",
       "    <tr>\n",
       "      <th>title</th>\n",
       "      <td>0.411510</td>\n",
       "      <td>-0.051237</td>\n",
       "      <td>-0.314928</td>\n",
       "      <td>0.597094</td>\n",
       "      <td>0.309132</td>\n",
       "      <td>0.261974</td>\n",
       "      <td>0.147810</td>\n",
       "      <td>0.103845</td>\n",
       "      <td>1.000000</td>\n",
       "    </tr>\n",
       "  </tbody>\n",
       "</table>\n",
       "</div>"
      ],
      "text/plain": [
       "          Survived    Pclass       Age       Sex     SibSp     Parch  \\\n",
       "Survived  1.000000 -0.270099 -0.094232  0.571729 -0.046940  0.087018   \n",
       "Pclass   -0.270099  1.000000 -0.359838 -0.115367  0.101060  0.001775   \n",
       "Age      -0.094232 -0.359838  1.000000 -0.091064 -0.353861 -0.238634   \n",
       "Sex       0.571729 -0.115367 -0.091064  1.000000  0.070997  0.168163   \n",
       "SibSp    -0.046940  0.101060 -0.353861  0.070997  1.000000  0.440383   \n",
       "Parch     0.087018  0.001775 -0.238634  0.168163  0.440383  1.000000   \n",
       "Fare      0.205579 -0.586986  0.083645  0.180971  0.181967  0.260505   \n",
       "Embarked  0.108864  0.054265  0.018236  0.115029 -0.041111 -0.124586   \n",
       "title     0.411510 -0.051237 -0.314928  0.597094  0.309132  0.261974   \n",
       "\n",
       "              Fare  Embarked     title  \n",
       "Survived  0.205579  0.108864  0.411510  \n",
       "Pclass   -0.586986  0.054265 -0.051237  \n",
       "Age       0.083645  0.018236 -0.314928  \n",
       "Sex       0.180971  0.115029  0.597094  \n",
       "SibSp     0.181967 -0.041111  0.309132  \n",
       "Parch     0.260505 -0.124586  0.261974  \n",
       "Fare      1.000000  0.038452  0.147810  \n",
       "Embarked  0.038452  1.000000  0.103845  \n",
       "title     0.147810  0.103845  1.000000  "
      ]
     },
     "execution_count": 5,
     "metadata": {},
     "output_type": "execute_result"
    }
   ],
   "source": [
    "datain['train'] = datain['train'].assign(title = title.values)\n",
    "title = datain['validation'].Name.apply(titan.name2title).map(tmap).fillna(4).astype(int)\n",
    "datain['validation'] = datain['validation'].assign(title = title.values)\n",
    "\n",
    "datain['train'].corr()"
   ]
  },
  {
   "cell_type": "markdown",
   "metadata": {},
   "source": [
    "The new correlation matrix show that title is second to Sex in correlation to survived. The reason is title contains Sex information, e.g., Mr is male and Miss is female. It also contains Age information, e.g., Masters are children and have younger ages. I treat it as a new class of feature. The SibSp, while not very correlatable to Survived, does correlate well to Age. However, it does have a very large spread at a given SibSp value (figure below)"
   ]
  },
  {
   "cell_type": "code",
   "execution_count": 6,
   "metadata": {
    "collapsed": false
   },
   "outputs": [
    {
     "data": {
      "image/png": "[encoded data removed]",
      "text/plain": [
       "<matplotlib.figure.Figure at 0xacabf60>"
      ]
     },
     "metadata": {},
     "output_type": "display_data"
    }
   ],
   "source": [
    "plt.plot(datain['train'].SibSp, datain['train'].Age, '.b')\n",
    "plt.xlabel('SibSp: number of sibling + spouse')\n",
    "plt.ylabel('Age')\n",
    "plt.show()"
   ]
  },
  {
   "cell_type": "code",
   "execution_count": 7,
   "metadata": {
    "collapsed": false
   },
   "outputs": [
    {
     "data": {
      "image/png": "[encoded data removed]",
      "text/plain": [
       "<matplotlib.figure.Figure at 0xac44550>"
      ]
     },
     "metadata": {},
     "output_type": "display_data"
    }
   ],
   "source": [
    "plt.plot(datain['train'].title, datain['train'].Age, '.b')\n",
    "plt.xlabel('title category')\n",
    "plt.ylabel('Age')\n",
    "plt.show()"
   ]
  },
  {
   "cell_type": "markdown",
   "metadata": {},
   "source": [
    "Compared to SibSp the title feature has less a spread at a given category therefore I map age to each title category. Furthermore, title is better at separating younger and older ages. For those missing Age in the database I use the median age for respective titles (extracted from the figure above) to fill in the blank."
   ]
  },
  {
   "cell_type": "code",
   "execution_count": 8,
   "metadata": {
    "collapsed": false
   },
   "outputs": [],
   "source": [
    "import pandas as pd\n",
    "def readdata(fname, tp, vstart, features):\n",
    "    train = pd.read_csv(fname)\n",
    "    \"\"\" only use a small subset of features for now\"\"\"\n",
    "    trainlean = train.loc[:, features]\n",
    "    \"\"\" digitize string values \"\"\"\n",
    "    trainlean.loc[:, 'Sex'] = trainlean.loc[:, 'Sex'].apply(titan.gendertonum)\n",
    "    trainlean.loc[:, 'Embarked'] = trainlean.loc[:, 'Embarked'].apply(titan.embarknum)\n",
    "    \n",
    "    \"\"\" extract titles and map titles to age for those missing age in db \"\"\"\n",
    "    tmap = {' Mr':0, ' Mrs':1, ' Miss':2, ' Mme':1, ' Master':3}\n",
    "    title = trainlean.Name.apply(titan.name2title).map(tmap).fillna(4).astype(int)\n",
    "    medage = trainlean.groupby(title)['Age'].median()\n",
    "    trainlean.loc[trainlean.Age.isnull(), 'Age'] = \\\n",
    "                  title[trainlean['Age'].isnull()].map(medage)\n",
    "    trainlean = trainlean.assign(title = title.values)\n",
    "    del trainlean['Name']   \n",
    "  \n",
    "    m = trainlean.shape[0]\n",
    "    trainset = trainlean.loc[:int(tp * m), :]\n",
    "    vadset = trainlean.loc[int(vstart * m):, :]\n",
    "    \n",
    "    return {'train':trainset, 'validation':vadset}"
   ]
  },
  {
   "cell_type": "code",
   "execution_count": 9,
   "metadata": {
    "collapsed": false
   },
   "outputs": [
    {
     "data": {
      "text/html": [
       "<div>\n",
       "<table border=\"1\" class=\"dataframe\">\n",
       "  <thead>\n",
       "    <tr style=\"text-align: right;\">\n",
       "      <th></th>\n",
       "      <th>Survived</th>\n",
       "      <th>Pclass</th>\n",
       "      <th>Age</th>\n",
       "      <th>Sex</th>\n",
       "      <th>SibSp</th>\n",
       "      <th>Parch</th>\n",
       "      <th>Fare</th>\n",
       "      <th>Embarked</th>\n",
       "      <th>title</th>\n",
       "    </tr>\n",
       "  </thead>\n",
       "  <tbody>\n",
       "    <tr>\n",
       "      <th>count</th>\n",
       "      <td>535.000000</td>\n",
       "      <td>535.000000</td>\n",
       "      <td>535.000000</td>\n",
       "      <td>535.000000</td>\n",
       "      <td>535.000000</td>\n",
       "      <td>535.000000</td>\n",
       "      <td>535.000000</td>\n",
       "      <td>535.000000</td>\n",
       "      <td>535.000000</td>\n",
       "    </tr>\n",
       "    <tr>\n",
       "      <th>mean</th>\n",
       "      <td>0.386916</td>\n",
       "      <td>2.325234</td>\n",
       "      <td>28.997196</td>\n",
       "      <td>-0.256075</td>\n",
       "      <td>0.549533</td>\n",
       "      <td>0.370093</td>\n",
       "      <td>31.716035</td>\n",
       "      <td>1.366355</td>\n",
       "      <td>0.809346</td>\n",
       "    </tr>\n",
       "    <tr>\n",
       "      <th>std</th>\n",
       "      <td>0.487500</td>\n",
       "      <td>0.829477</td>\n",
       "      <td>13.141558</td>\n",
       "      <td>0.967562</td>\n",
       "      <td>1.125494</td>\n",
       "      <td>0.767702</td>\n",
       "      <td>47.259528</td>\n",
       "      <td>0.676234</td>\n",
       "      <td>1.049838</td>\n",
       "    </tr>\n",
       "    <tr>\n",
       "      <th>min</th>\n",
       "      <td>0.000000</td>\n",
       "      <td>1.000000</td>\n",
       "      <td>0.750000</td>\n",
       "      <td>-1.000000</td>\n",
       "      <td>0.000000</td>\n",
       "      <td>0.000000</td>\n",
       "      <td>0.000000</td>\n",
       "      <td>-3.000000</td>\n",
       "      <td>0.000000</td>\n",
       "    </tr>\n",
       "    <tr>\n",
       "      <th>25%</th>\n",
       "      <td>0.000000</td>\n",
       "      <td>2.000000</td>\n",
       "      <td>21.000000</td>\n",
       "      <td>-1.000000</td>\n",
       "      <td>0.000000</td>\n",
       "      <td>0.000000</td>\n",
       "      <td>7.925000</td>\n",
       "      <td>1.000000</td>\n",
       "      <td>0.000000</td>\n",
       "    </tr>\n",
       "    <tr>\n",
       "      <th>50%</th>\n",
       "      <td>0.000000</td>\n",
       "      <td>3.000000</td>\n",
       "      <td>30.000000</td>\n",
       "      <td>-1.000000</td>\n",
       "      <td>0.000000</td>\n",
       "      <td>0.000000</td>\n",
       "      <td>14.454200</td>\n",
       "      <td>1.000000</td>\n",
       "      <td>0.000000</td>\n",
       "    </tr>\n",
       "    <tr>\n",
       "      <th>75%</th>\n",
       "      <td>1.000000</td>\n",
       "      <td>3.000000</td>\n",
       "      <td>35.000000</td>\n",
       "      <td>1.000000</td>\n",
       "      <td>1.000000</td>\n",
       "      <td>0.000000</td>\n",
       "      <td>29.885400</td>\n",
       "      <td>2.000000</td>\n",
       "      <td>2.000000</td>\n",
       "    </tr>\n",
       "    <tr>\n",
       "      <th>max</th>\n",
       "      <td>1.000000</td>\n",
       "      <td>3.000000</td>\n",
       "      <td>71.000000</td>\n",
       "      <td>1.000000</td>\n",
       "      <td>8.000000</td>\n",
       "      <td>5.000000</td>\n",
       "      <td>512.329200</td>\n",
       "      <td>3.000000</td>\n",
       "      <td>4.000000</td>\n",
       "    </tr>\n",
       "  </tbody>\n",
       "</table>\n",
       "</div>"
      ],
      "text/plain": [
       "         Survived      Pclass         Age         Sex       SibSp       Parch  \\\n",
       "count  535.000000  535.000000  535.000000  535.000000  535.000000  535.000000   \n",
       "mean     0.386916    2.325234   28.997196   -0.256075    0.549533    0.370093   \n",
       "std      0.487500    0.829477   13.141558    0.967562    1.125494    0.767702   \n",
       "min      0.000000    1.000000    0.750000   -1.000000    0.000000    0.000000   \n",
       "25%      0.000000    2.000000   21.000000   -1.000000    0.000000    0.000000   \n",
       "50%      0.000000    3.000000   30.000000   -1.000000    0.000000    0.000000   \n",
       "75%      1.000000    3.000000   35.000000    1.000000    1.000000    0.000000   \n",
       "max      1.000000    3.000000   71.000000    1.000000    8.000000    5.000000   \n",
       "\n",
       "             Fare    Embarked       title  \n",
       "count  535.000000  535.000000  535.000000  \n",
       "mean    31.716035    1.366355    0.809346  \n",
       "std     47.259528    0.676234    1.049838  \n",
       "min      0.000000   -3.000000    0.000000  \n",
       "25%      7.925000    1.000000    0.000000  \n",
       "50%     14.454200    1.000000    0.000000  \n",
       "75%     29.885400    2.000000    2.000000  \n",
       "max    512.329200    3.000000    4.000000  "
      ]
     },
     "execution_count": 9,
     "metadata": {},
     "output_type": "execute_result"
    }
   ],
   "source": [
    "features = ['Survived', 'Pclass', 'Age', 'Sex', 'SibSp', 'Parch', 'Fare','Embarked','Name']\n",
    "datain = readdata('train.csv', 0.6, 0.6, features)\n",
    "datain['train'].describe()"
   ]
  },
  {
   "cell_type": "markdown",
   "metadata": {},
   "source": [
    "First, I use just linear terms (features as is) to train a logistic regression model with the training set data then I find the accuracy on the validation set. "
   ]
  },
  {
   "cell_type": "code",
   "execution_count": 28,
   "metadata": {
    "collapsed": false
   },
   "outputs": [
    {
     "data": {
      "image/png": "[encoded data removed]",
      "text/plain": [
       "<matplotlib.figure.Figure at 0xacab7b8>"
      ]
     },
     "metadata": {},
     "output_type": "display_data"
    }
   ],
   "source": [
    "X = np.array(datain['train'].ix[:,1:])\n",
    "y = np.array(datain['train'].ix[:,0])\n",
    "\n",
    "Xvad = np.array(datain['validation'].ix[:,1:])\n",
    "yvad = np.array(datain['validation'].ix[:,0])\n",
    "\n",
    "m = X.shape[0]\n",
    "Xfull = titan.normdata(np.concatenate((X, Xvad)))\n",
    "\n",
    "X = np.concatenate((np.ones(shape=(X.shape[0], 1)), Xfull[:m, :]), axis = 1)\n",
    "Xvad = np.concatenate((np.ones(shape=(Xvad.shape[0], 1)), Xfull[m:, :]), axis = 1)\n",
    "\n",
    "plt.plot(datain['train'].title[y==0], datain['train'].Pclass[y==0], 'xb')\n",
    "plt.plot(datain['train'].title[y==1], datain['train'].Pclass[y==1], 'or')\n",
    "plt.xlabel('title')\n",
    "plt.ylabel('Pclass')\n",
    "plt.legend(['not survived', 'survived'])\n",
    "plt.show()"
   ]
  },
  {
   "cell_type": "markdown",
   "metadata": {},
   "source": [
    "The figure above shows the potential difficulty of a linear logistic regression. Most of the important features, like Sex, title, and Pclass are discrete sets of small numbers. As a result, there is heavy overlap of the outcome (survived or not) that makes drawing of decision boundary very difficult. "
   ]
  },
  {
   "cell_type": "code",
   "execution_count": 29,
   "metadata": {
    "collapsed": false
   },
   "outputs": [
    {
     "data": {
      "image/png": "[encoded data removed]",
      "text/plain": [
       "<matplotlib.figure.Figure at 0xb7eab00>"
      ]
     },
     "metadata": {},
     "output_type": "display_data"
    }
   ],
   "source": [
    "plt.plot(datain['train'].Age[y==0], datain['train'].Pclass[y==0], 'xb')\n",
    "plt.plot(datain['train'].Age[y==1], datain['train'].Pclass[y==1], 'or')\n",
    "plt.xlabel('Age')\n",
    "plt.ylabel('Pclass')\n",
    "plt.legend(['not survived', 'survived'])\n",
    "plt.show()"
   ]
  },
  {
   "cell_type": "markdown",
   "metadata": {},
   "source": [
    "Continous features like Age helps separatong the outcomes (Figure above) but still suffers from heavy overlap"
   ]
  },
  {
   "cell_type": "code",
   "execution_count": 30,
   "metadata": {
    "collapsed": false
   },
   "outputs": [
    {
     "data": {
      "text/plain": [
       "0.81121495327102799"
      ]
     },
     "execution_count": 30,
     "metadata": {},
     "output_type": "execute_result"
    }
   ],
   "source": [
    "theta0 = np.zeros(shape = (X.shape[1], 1))\n",
    "regpara = 1.0\n",
    "w = scop.fmin_l_bfgs_b(titan.lfCost, theta0, titan.lfGradient, (X, y, regpara))\n",
    "titan.getacu(w[0], X, y)"
   ]
  },
  {
   "cell_type": "markdown",
   "metadata": {},
   "source": [
    "The linear model scores a 81% accuracy on the training set."
   ]
  },
  {
   "cell_type": "code",
   "execution_count": 31,
   "metadata": {
    "collapsed": false
   },
   "outputs": [
    {
     "data": {
      "text/plain": [
       "0.79271708683473385"
      ]
     },
     "execution_count": 31,
     "metadata": {},
     "output_type": "execute_result"
    }
   ],
   "source": [
    "titan.getacu(w[0], Xvad, yvad)"
   ]
  },
  {
   "cell_type": "markdown",
   "metadata": {},
   "source": [
    "And 79% on the validation set. Below I calculate the learning curve for the model."
   ]
  },
  {
   "cell_type": "code",
   "execution_count": 32,
   "metadata": {
    "collapsed": false
   },
   "outputs": [
    {
     "data": {
      "image/png": "[encoded data removed]",
      "text/plain": [
       "<matplotlib.figure.Figure at 0xad66ef0>"
      ]
     },
     "metadata": {},
     "output_type": "display_data"
    }
   ],
   "source": [
    "tp = np.linspace(0.2, 0.7, 20)\n",
    "trainerror = np.zeros(shape = (tp.size, 1))\n",
    "vaderror = np.zeros(shape = (tp.size, 1))\n",
    "for i in range(0, tp.size):\n",
    "    datain = readdata('train.csv', tp[i], 0.7, features)\n",
    "    X = np.array(datain['train'].ix[:,1:])\n",
    "    y = np.array(datain['train'].ix[:,0])\n",
    "    Xvad = np.array(datain['validation'].ix[:,1:])\n",
    "    yvad = np.array(datain['validation'].ix[:,0])\n",
    "    m = X.shape[0]\n",
    "    Xfull = titan.normdata(np.concatenate((X, Xvad)))\n",
    "    X = np.concatenate((np.ones(shape=(X.shape[0], 1)), Xfull[:m, :]), axis = 1)\n",
    "    Xvad = np.concatenate((np.ones(shape=(Xvad.shape[0], 1)), Xfull[m:, :]), axis = 1)\n",
    "\n",
    "    theta0 = np.zeros(shape = (X.shape[1], 1))\n",
    "    regpara = 1.0\n",
    "    theta = scop.fmin_l_bfgs_b(titan.lfCost, theta0, titan.lfGradient, (X, y, regpara))[0]\n",
    "    trainerror[i] = titan.lfCost(theta, X, y, 0.0)\n",
    "    vaderror[i] = titan.lfCost(theta, Xvad, yvad, 0.0)\n",
    "plt.plot(tp, trainerror, '-b', tp, vaderror,'-r')\n",
    "plt.xlabel('proportion of data used for training')\n",
    "plt.ylabel('error')\n",
    "plt.legend(['training','validation'])\n",
    "plt.show()"
   ]
  },
  {
   "cell_type": "markdown",
   "metadata": {},
   "source": [
    "The plot above shows that the errors are quite large in the model. Suggesting there is room for more features to improve the model.\n",
    "\n",
    "As mentioned above, important features like Sex are discrete numbers that makes drawing decision boundary difficult. Combining those features with other continous ones could potentially improve the results. For example, if we multiple Age with Sex (f=1, m=-1) and plot the result we can see much better separation of the outcomes (figure below)"
   ]
  },
  {
   "cell_type": "code",
   "execution_count": 33,
   "metadata": {
    "collapsed": false
   },
   "outputs": [],
   "source": [
    "age_gender = pd.Series.copy(datain['train'].loc[:,'Age'])\n",
    "age_gender[datain['train'].Sex == -1] = -age_gender[datain['train'].Sex == -1]"
   ]
  },
  {
   "cell_type": "code",
   "execution_count": 34,
   "metadata": {
    "collapsed": false
   },
   "outputs": [
    {
     "data": {
      "image/png": "[encoded data removed]",
      "text/plain": [
       "<matplotlib.figure.Figure at 0xb0bb630>"
      ]
     },
     "metadata": {},
     "output_type": "display_data"
    }
   ],
   "source": [
    "plt.plot(age_gender[y == 0], datain['train'].Pclass[y == 0], 'xr')\n",
    "plt.plot(age_gender[y == 1], datain['train'].Pclass[y == 1], 'ob')\n",
    "plt.xlabel('Age x gender (m=-1, f=1)')\n",
    "plt.ylabel('Pclass')\n",
    "plt.legend(['not survivied', 'survived'])\n",
    "plt.show()"
   ]
  },
  {
   "cell_type": "markdown",
   "metadata": {},
   "source": [
    "As a result, I consider a full 2nd order polynomail function that contains terms like $Age^2$ and $Age*Sex$ as features as well as the linear terms."
   ]
  },
  {
   "cell_type": "code",
   "execution_count": 35,
   "metadata": {
    "collapsed": true
   },
   "outputs": [],
   "source": [
    "datain = readdata('train.csv', 0.6, 0.6, features)\n",
    "\n",
    "X = np.array(datain['train'].ix[:,1:])\n",
    "y = np.array(datain['train'].ix[:,0])\n",
    "\n",
    "Xvad = np.array(datain['validation'].ix[:,1:])\n",
    "yvad = np.array(datain['validation'].ix[:,0])\n",
    "\n",
    "Xq = titan.xquad(X)\n",
    "Xvadq = titan.xquad(Xvad)\n",
    "m = Xq.shape[0]\n",
    "Xfull = titan.normdata(np.concatenate((Xq, Xvadq)))\n",
    "Xq = np.concatenate((np.ones(shape=(Xq.shape[0], 1)), Xfull[:m, :]), axis = 1)\n",
    "Xvadq = np.concatenate((np.ones(shape=(Xvadq.shape[0], 1)), Xfull[m:, :]), axis = 1)\n",
    "\n",
    "theta0 = np.zeros(shape = (Xq.shape[1], 1))\n",
    "regpara = 1.0\n",
    "w = scop.fmin_l_bfgs_b(titan.lfCost, theta0, titan.lfGradient, (Xq, y, regpara))"
   ]
  },
  {
   "cell_type": "markdown",
   "metadata": {},
   "source": [
    "Before evaluating the results I visulize the parameters for all the quadratic terms below"
   ]
  },
  {
   "cell_type": "code",
   "execution_count": 36,
   "metadata": {
    "collapsed": false
   },
   "outputs": [
    {
     "data": {
      "image/png": "[encoded data removed]",
      "text/plain": [
       "<matplotlib.figure.Figure at 0xd1b3d30>"
      ]
     },
     "metadata": {},
     "output_type": "display_data"
    }
   ],
   "source": [
    "fullw = np.zeros(shape=(X.shape[1], X.shape[1]))\n",
    "fullw[np.triu_indices(8)] = w[0][9:]\n",
    "plt.imshow(np.abs(fullw))\n",
    "plt.colorbar()\n",
    "plt.show()"
   ]
  },
  {
   "cell_type": "markdown",
   "metadata": {},
   "source": [
    "The plot above shows the relative magnitude (absolute values) of the model parameters for the quadratic terms. The item (row=1, col=2), i.e., (normalized) $Age * Sex$, has a much larger weight than other parameters. Some other unexpected parameters that has relatively harge weight are $Pclass * SibSp$ (0, 3), and $Parch * title$ (4, 7). "
   ]
  },
  {
   "cell_type": "code",
   "execution_count": 37,
   "metadata": {
    "collapsed": false
   },
   "outputs": [
    {
     "data": {
      "text/plain": [
       "0.83551401869158881"
      ]
     },
     "execution_count": 37,
     "metadata": {},
     "output_type": "execute_result"
    }
   ],
   "source": [
    "y_predict = titan.sigmoid(np.dot(Xqn,w[0]))\n",
    "y_predict[y_predict > 0.5] = 1\n",
    "y_predict[y_predict <= 0.5] = 0\n",
    "(y_predict == y).sum()*1.0/y.size"
   ]
  },
  {
   "cell_type": "code",
   "execution_count": 38,
   "metadata": {
    "collapsed": false
   },
   "outputs": [
    {
     "data": {
      "text/plain": [
       "0.82352941176470584"
      ]
     },
     "execution_count": 38,
     "metadata": {},
     "output_type": "execute_result"
    }
   ],
   "source": [
    "yvad_predict = titan.sigmoid(np.dot(Xvadq, w[0]))\n",
    "yvad_predict[yvad_predict > 0.5] = 1\n",
    "yvad_predict[yvad_predict <= 0.5] = 0\n",
    "(yvad_predict == yvad).sum()*1.0/yvad.size"
   ]
  },
  {
   "cell_type": "markdown",
   "metadata": {},
   "source": [
    "Both the test set and the validation set accuracies are improved in this quadratic model. Next we analyze the model by investigating the learning curve for training set size and regularization parameter value.\n",
    "\n",
    "For the learning curve of dataset size I use different training set sizes and a fixed validation set."
   ]
  },
  {
   "cell_type": "code",
   "execution_count": 43,
   "metadata": {
    "collapsed": false
   },
   "outputs": [
    {
     "data": {
      "image/png": "[encoded data removed]",
      "text/plain": [
       "<matplotlib.figure.Figure at 0xaf80f60>"
      ]
     },
     "metadata": {},
     "output_type": "display_data"
    }
   ],
   "source": [
    "tp = np.linspace(0.2, 0.7, 20)\n",
    "trainerror = np.zeros(shape = (tp.size, 1))\n",
    "vaderror = np.zeros(shape = (tp.size, 1))\n",
    "for i in range(0, tp.size):\n",
    "    datain = readdata('train.csv', tp[i], 0.7, features)\n",
    "    X = np.array(datain['train'].ix[:,1:])\n",
    "    y = np.array(datain['train'].ix[:,0])\n",
    "    Xvad = np.array(datain['validation'].ix[:,1:])\n",
    "    yvad = np.array(datain['validation'].ix[:,0])\n",
    "    \n",
    "    Xq = titan.xquad(X)\n",
    "    Xvadq = titan.xquad(Xvad)\n",
    "    m = X.shape[0]\n",
    "    Xfull = titan.normdata(np.concatenate((Xq, Xvadq)))\n",
    "    Xq = np.concatenate((np.ones(shape=(Xq.shape[0], 1)), Xfull[:m, :]), axis = 1)\n",
    "    Xvadq = np.concatenate((np.ones(shape=(Xvadq.shape[0], 1)), Xfull[m:, :]), axis = 1)\n",
    "\n",
    "    nfeature = Xq.shape[1]\n",
    "    theta0 = np.zeros(shape = (nfeature, 1))\n",
    "    regpara = 1.0\n",
    "    theta = scop.fmin_l_bfgs_b(titan.lfCost, theta0, titan.lfGradient, (Xq, y, regpara))[0]\n",
    "    trainerror[i] = titan.lfCost(theta, Xq, y, 0.0)\n",
    "    vaderror[i] = titan.lfCost(theta, Xvadq, yvad, 0.0)\n",
    "plt.plot(tp, trainerror, '-b', tp, vaderror,'-r')\n",
    "plt.xlabel('proportion of data used for training')\n",
    "plt.ylabel('error')\n",
    "plt.legend(['training','validation'])\n",
    "plt.grid()\n",
    "plt.show()"
   ]
  },
  {
   "cell_type": "markdown",
   "metadata": {},
   "source": [
    "The learning curve indicates the model can benefit from more training examples as the gap between validation error and training error reduces with more training sets. Additionally, the training set error is smaller than the linear model, showing adding quadratic terms improves the model. The remaining gap between training and validation errors could suggest the model suffers from high variance (overfitting). I now use the 60/40 split on training/validation sets to test the learning curve for the regularization parameter. When the validation set is less than 40% the validation error starts to behave unpredictably, possibly due to small dataset size."
   ]
  },
  {
   "cell_type": "code",
   "execution_count": 51,
   "metadata": {
    "collapsed": false
   },
   "outputs": [
    {
     "data": {
      "image/png": "[encoded data removed]",
      "text/plain": [
       "<matplotlib.figure.Figure at 0xd4a5128>"
      ]
     },
     "metadata": {},
     "output_type": "display_data"
    }
   ],
   "source": [
    "datain = readdata('train.csv', 0.6, 0.6, features)\n",
    "X = np.array(datain['train'].ix[:,1:])\n",
    "y = np.array(datain['train'].ix[:,0])\n",
    "Xvad = np.array(datain['validation'].ix[:,1:])\n",
    "yvad = np.array(datain['validation'].ix[:,0])\n",
    "    \n",
    "Xq = titan.xquad(X)\n",
    "Xvadq = titan.xquad(Xvad)\n",
    "m = X.shape[0]\n",
    "Xfull = titan.normdata(np.concatenate((Xq, Xvadq)))\n",
    "Xq = np.concatenate((np.ones(shape=(Xq.shape[0], 1)), Xfull[:m, :]), axis = 1)\n",
    "Xvadq = np.concatenate((np.ones(shape=(Xvadq.shape[0], 1)), Xfull[m:, :]), axis = 1)\n",
    "\n",
    "theta0 = np.zeros(shape = (Xq.shape[1], 1))  \n",
    "regpara = np.array([0, 0.001, 0.003, 0.01, 0.03, 0.1, 0.3, 1, 3, 6, 10, 30])\n",
    "trainerror = np.zeros(shape = (regpara.size, 1))\n",
    "vaderror = np.zeros(shape = (regpara.size, 1))\n",
    "\n",
    "for i in range(0, regpara.size):\n",
    "    theta = scop.fmin_l_bfgs_b(titan.lfCost, theta0, titan.lfGradient, (Xq, y, regpara[i]))[0]\n",
    "    trainerror[i] = titan.lfCost(theta, Xq, y, 0.0)\n",
    "    vaderror[i] = titan.lfCost(theta, Xvadq, yvad, 0.0)\n",
    "plt.semilogx(regpara, trainerror, '-b', regpara, vaderror,'-r')\n",
    "plt.xlabel('regularization parameter value')\n",
    "plt.ylabel('error')\n",
    "plt.legend(['training','validation'])\n",
    "plt.show()"
   ]
  },
  {
   "cell_type": "markdown",
   "metadata": {},
   "source": [
    "The regularization learning curve suggests the model needs a relatively large regularization parameter (3.0), i.e., the model could be suffering from high variance with a small regularization parameter like 1.0. This agrees with results from the learning curve on training set size. \n",
    "\n",
    "Below I set up the model with the optimum parameters (70% training set and regularization parameter is 3.0) and the resulting accuracy is improved from the initial model."
   ]
  },
  {
   "cell_type": "code",
   "execution_count": 58,
   "metadata": {
    "collapsed": false
   },
   "outputs": [
    {
     "data": {
      "text/plain": [
       "0.83173076923076927"
      ]
     },
     "execution_count": 58,
     "metadata": {},
     "output_type": "execute_result"
    }
   ],
   "source": [
    "datain = readdata('train.csv', 0.7, 0.7, features)\n",
    "X = np.array(datain['train'].ix[:,1:])\n",
    "y = np.array(datain['train'].ix[:,0])\n",
    "Xvad = np.array(datain['validation'].ix[:,1:])\n",
    "yvad = np.array(datain['validation'].ix[:,0])\n",
    "    \n",
    "Xq = titan.xquad(X)\n",
    "Xvadq = titan.xquad(Xvad)\n",
    "m = X.shape[0]\n",
    "Xfull = titan.normdata(np.concatenate((Xq, Xvadq)))\n",
    "Xq = np.concatenate((np.ones(shape=(Xq.shape[0], 1)), Xfull[:m, :]), axis = 1)\n",
    "Xvadq = np.concatenate((np.ones(shape=(Xvadq.shape[0], 1)), Xfull[m:, :]), axis = 1)\n",
    "\n",
    "theta0 = np.zeros(shape = (Xq.shape[1], 1))  \n",
    "\n",
    "w = scop.fmin_l_bfgs_b(titan.lfCost, theta0, titan.lfGradient, (Xq, y, 3.0))\n",
    "titan.getacu(w[0], Xq, y)"
   ]
  },
  {
   "cell_type": "code",
   "execution_count": 59,
   "metadata": {
    "collapsed": false
   },
   "outputs": [
    {
     "data": {
      "text/plain": [
       "0.84701492537313428"
      ]
     },
     "execution_count": 59,
     "metadata": {},
     "output_type": "execute_result"
    }
   ],
   "source": [
    "\"\"\"vadliation accuracy\"\"\"\n",
    "titan.getacu(w[0], Xvadq, yvad) "
   ]
  },
  {
   "cell_type": "markdown",
   "metadata": {},
   "source": [
    "Finally, to predict the results for the given test set I use all training set data with a regularization parameter of 3.0 to obtain the model parameters. Then I use those model parameters to estimate the outcome for the test set passengers."
   ]
  },
  {
   "cell_type": "code",
   "execution_count": 67,
   "metadata": {
    "collapsed": false
   },
   "outputs": [],
   "source": [
    "features = ['Survived', 'Pclass', 'Age', 'Sex', 'SibSp', 'Parch', 'Fare','Embarked','Name']\n",
    "datain = readdata('train.csv', 1.0, 1.0, features)\n",
    "X = np.array(datain['train'].ix[:,1:])\n",
    "y = np.array(datain['train'].ix[:,0])"
   ]
  },
  {
   "cell_type": "code",
   "execution_count": 68,
   "metadata": {
    "collapsed": false
   },
   "outputs": [
    {
     "data": {
      "text/html": [
       "<div>\n",
       "<table border=\"1\" class=\"dataframe\">\n",
       "  <thead>\n",
       "    <tr style=\"text-align: right;\">\n",
       "      <th></th>\n",
       "      <th>PassengerId</th>\n",
       "      <th>Survived</th>\n",
       "      <th>Pclass</th>\n",
       "      <th>Age</th>\n",
       "      <th>Sex</th>\n",
       "      <th>SibSp</th>\n",
       "      <th>Parch</th>\n",
       "      <th>Fare</th>\n",
       "      <th>Embarked</th>\n",
       "    </tr>\n",
       "  </thead>\n",
       "  <tbody>\n",
       "    <tr>\n",
       "      <th>count</th>\n",
       "      <td>418.000000</td>\n",
       "      <td>0.0</td>\n",
       "      <td>418.000000</td>\n",
       "      <td>332.000000</td>\n",
       "      <td>418.000000</td>\n",
       "      <td>418.000000</td>\n",
       "      <td>418.000000</td>\n",
       "      <td>417.000000</td>\n",
       "      <td>418.000000</td>\n",
       "    </tr>\n",
       "    <tr>\n",
       "      <th>mean</th>\n",
       "      <td>1100.500000</td>\n",
       "      <td>NaN</td>\n",
       "      <td>2.265550</td>\n",
       "      <td>30.272590</td>\n",
       "      <td>-0.272727</td>\n",
       "      <td>0.447368</td>\n",
       "      <td>0.392344</td>\n",
       "      <td>35.627188</td>\n",
       "      <td>1.464115</td>\n",
       "    </tr>\n",
       "    <tr>\n",
       "      <th>std</th>\n",
       "      <td>120.810458</td>\n",
       "      <td>NaN</td>\n",
       "      <td>0.841838</td>\n",
       "      <td>14.181209</td>\n",
       "      <td>0.963244</td>\n",
       "      <td>0.896760</td>\n",
       "      <td>0.981429</td>\n",
       "      <td>55.907576</td>\n",
       "      <td>0.685516</td>\n",
       "    </tr>\n",
       "    <tr>\n",
       "      <th>min</th>\n",
       "      <td>892.000000</td>\n",
       "      <td>NaN</td>\n",
       "      <td>1.000000</td>\n",
       "      <td>0.170000</td>\n",
       "      <td>-1.000000</td>\n",
       "      <td>0.000000</td>\n",
       "      <td>0.000000</td>\n",
       "      <td>0.000000</td>\n",
       "      <td>1.000000</td>\n",
       "    </tr>\n",
       "    <tr>\n",
       "      <th>25%</th>\n",
       "      <td>996.250000</td>\n",
       "      <td>NaN</td>\n",
       "      <td>1.000000</td>\n",
       "      <td>21.000000</td>\n",
       "      <td>-1.000000</td>\n",
       "      <td>0.000000</td>\n",
       "      <td>0.000000</td>\n",
       "      <td>7.895800</td>\n",
       "      <td>1.000000</td>\n",
       "    </tr>\n",
       "    <tr>\n",
       "      <th>50%</th>\n",
       "      <td>1100.500000</td>\n",
       "      <td>NaN</td>\n",
       "      <td>3.000000</td>\n",
       "      <td>27.000000</td>\n",
       "      <td>-1.000000</td>\n",
       "      <td>0.000000</td>\n",
       "      <td>0.000000</td>\n",
       "      <td>14.454200</td>\n",
       "      <td>1.000000</td>\n",
       "    </tr>\n",
       "    <tr>\n",
       "      <th>75%</th>\n",
       "      <td>1204.750000</td>\n",
       "      <td>NaN</td>\n",
       "      <td>3.000000</td>\n",
       "      <td>39.000000</td>\n",
       "      <td>1.000000</td>\n",
       "      <td>1.000000</td>\n",
       "      <td>0.000000</td>\n",
       "      <td>31.500000</td>\n",
       "      <td>2.000000</td>\n",
       "    </tr>\n",
       "    <tr>\n",
       "      <th>max</th>\n",
       "      <td>1309.000000</td>\n",
       "      <td>NaN</td>\n",
       "      <td>3.000000</td>\n",
       "      <td>76.000000</td>\n",
       "      <td>1.000000</td>\n",
       "      <td>8.000000</td>\n",
       "      <td>9.000000</td>\n",
       "      <td>512.329200</td>\n",
       "      <td>3.000000</td>\n",
       "    </tr>\n",
       "  </tbody>\n",
       "</table>\n",
       "</div>"
      ],
      "text/plain": [
       "       PassengerId  Survived      Pclass         Age         Sex       SibSp  \\\n",
       "count   418.000000       0.0  418.000000  332.000000  418.000000  418.000000   \n",
       "mean   1100.500000       NaN    2.265550   30.272590   -0.272727    0.447368   \n",
       "std     120.810458       NaN    0.841838   14.181209    0.963244    0.896760   \n",
       "min     892.000000       NaN    1.000000    0.170000   -1.000000    0.000000   \n",
       "25%     996.250000       NaN    1.000000   21.000000   -1.000000    0.000000   \n",
       "50%    1100.500000       NaN    3.000000   27.000000   -1.000000    0.000000   \n",
       "75%    1204.750000       NaN    3.000000   39.000000    1.000000    1.000000   \n",
       "max    1309.000000       NaN    3.000000   76.000000    1.000000    8.000000   \n",
       "\n",
       "            Parch        Fare    Embarked  \n",
       "count  418.000000  417.000000  418.000000  \n",
       "mean     0.392344   35.627188    1.464115  \n",
       "std      0.981429   55.907576    0.685516  \n",
       "min      0.000000    0.000000    1.000000  \n",
       "25%      0.000000    7.895800    1.000000  \n",
       "50%      0.000000   14.454200    1.000000  \n",
       "75%      0.000000   31.500000    2.000000  \n",
       "max      9.000000  512.329200    3.000000  "
      ]
     },
     "execution_count": 68,
     "metadata": {},
     "output_type": "execute_result"
    }
   ],
   "source": [
    "features = ['PassengerId', 'Survived', 'Pclass', 'Age', 'Sex', 'SibSp', 'Parch', 'Fare','Embarked','Name']\n",
    "testin = titan.readdata('test.csv', 1.0, 1.0, features)\n",
    "testin['train'].describe()"
   ]
  },
  {
   "cell_type": "code",
   "execution_count": 69,
   "metadata": {
    "collapsed": false
   },
   "outputs": [
    {
     "data": {
      "text/plain": [
       "PassengerId    0.000000\n",
       "Survived            inf\n",
       "Pclass         0.000000\n",
       "Age            0.259036\n",
       "Sex            0.000000\n",
       "SibSp          0.000000\n",
       "Parch          0.000000\n",
       "Fare           0.002398\n",
       "Embarked       0.000000\n",
       "Name           0.000000\n",
       "dtype: float64"
      ]
     },
     "execution_count": 69,
     "metadata": {},
     "output_type": "execute_result"
    }
   ],
   "source": [
    "testin['train'].isnull().sum() * 1.0 / testin['train'].count()"
   ]
  },
  {
   "cell_type": "markdown",
   "metadata": {},
   "source": [
    "Unfortunately there is a small fraction of passengers in the test database missing Fare information and just like in the training set a large portion of passengers missing Age information. First I use the mapping for age from training set to fill in the missing age in the test set."
   ]
  },
  {
   "cell_type": "code",
   "execution_count": 70,
   "metadata": {
    "collapsed": false
   },
   "outputs": [],
   "source": [
    "medage = datain['train'].groupby('title')['Age'].median()\n",
    "\n",
    "tmap = {' Mr':0, ' Mrs':1, ' Miss':2, ' Mme':1, ' Master':3}\n",
    "testtitle = testin['train'].Name.apply(titan.name2title).map(tmap).fillna(4).astype(int)\n",
    "ind = testin['train'].Age.isnull()\n",
    "testin['train'].loc[ind, 'Age'] = testtitle[ind].map(medage)\n",
    "testin['train'] = testin['train'].assign(title = testtitle)\n",
    "del testin['train']['Name']"
   ]
  },
  {
   "cell_type": "code",
   "execution_count": 71,
   "metadata": {
    "collapsed": false
   },
   "outputs": [
    {
     "data": {
      "text/html": [
       "<div>\n",
       "<table border=\"1\" class=\"dataframe\">\n",
       "  <thead>\n",
       "    <tr style=\"text-align: right;\">\n",
       "      <th></th>\n",
       "      <th>PassengerId</th>\n",
       "      <th>Survived</th>\n",
       "      <th>Pclass</th>\n",
       "      <th>Age</th>\n",
       "      <th>Sex</th>\n",
       "      <th>SibSp</th>\n",
       "      <th>Parch</th>\n",
       "      <th>Fare</th>\n",
       "      <th>Embarked</th>\n",
       "      <th>title</th>\n",
       "    </tr>\n",
       "  </thead>\n",
       "  <tbody>\n",
       "    <tr>\n",
       "      <th>PassengerId</th>\n",
       "      <td>1.000000</td>\n",
       "      <td>NaN</td>\n",
       "      <td>-0.026751</td>\n",
       "      <td>-0.059113</td>\n",
       "      <td>-0.023245</td>\n",
       "      <td>0.003818</td>\n",
       "      <td>0.043080</td>\n",
       "      <td>0.008211</td>\n",
       "      <td>-0.049863</td>\n",
       "      <td>0.015789</td>\n",
       "    </tr>\n",
       "    <tr>\n",
       "      <th>Survived</th>\n",
       "      <td>NaN</td>\n",
       "      <td>NaN</td>\n",
       "      <td>NaN</td>\n",
       "      <td>NaN</td>\n",
       "      <td>NaN</td>\n",
       "      <td>NaN</td>\n",
       "      <td>NaN</td>\n",
       "      <td>NaN</td>\n",
       "      <td>NaN</td>\n",
       "      <td>NaN</td>\n",
       "    </tr>\n",
       "    <tr>\n",
       "      <th>Pclass</th>\n",
       "      <td>-0.026751</td>\n",
       "      <td>NaN</td>\n",
       "      <td>1.000000</td>\n",
       "      <td>-0.461438</td>\n",
       "      <td>-0.108615</td>\n",
       "      <td>0.001087</td>\n",
       "      <td>0.018721</td>\n",
       "      <td>-0.577147</td>\n",
       "      <td>0.031096</td>\n",
       "      <td>0.011875</td>\n",
       "    </tr>\n",
       "    <tr>\n",
       "      <th>Age</th>\n",
       "      <td>-0.059113</td>\n",
       "      <td>NaN</td>\n",
       "      <td>-0.461438</td>\n",
       "      <td>1.000000</td>\n",
       "      <td>0.000537</td>\n",
       "      <td>-0.094570</td>\n",
       "      <td>-0.038589</td>\n",
       "      <td>0.332474</td>\n",
       "      <td>0.050405</td>\n",
       "      <td>-0.307685</td>\n",
       "    </tr>\n",
       "    <tr>\n",
       "      <th>Sex</th>\n",
       "      <td>-0.023245</td>\n",
       "      <td>NaN</td>\n",
       "      <td>-0.108615</td>\n",
       "      <td>0.000537</td>\n",
       "      <td>1.000000</td>\n",
       "      <td>0.099943</td>\n",
       "      <td>0.159120</td>\n",
       "      <td>0.191514</td>\n",
       "      <td>0.126779</td>\n",
       "      <td>0.580651</td>\n",
       "    </tr>\n",
       "    <tr>\n",
       "      <th>SibSp</th>\n",
       "      <td>0.003818</td>\n",
       "      <td>NaN</td>\n",
       "      <td>0.001087</td>\n",
       "      <td>-0.094570</td>\n",
       "      <td>0.099943</td>\n",
       "      <td>1.000000</td>\n",
       "      <td>0.306895</td>\n",
       "      <td>0.171539</td>\n",
       "      <td>-0.100603</td>\n",
       "      <td>0.252831</td>\n",
       "    </tr>\n",
       "    <tr>\n",
       "      <th>Parch</th>\n",
       "      <td>0.043080</td>\n",
       "      <td>NaN</td>\n",
       "      <td>0.018721</td>\n",
       "      <td>-0.038589</td>\n",
       "      <td>0.159120</td>\n",
       "      <td>0.306895</td>\n",
       "      <td>1.000000</td>\n",
       "      <td>0.230046</td>\n",
       "      <td>-0.125164</td>\n",
       "      <td>0.218084</td>\n",
       "    </tr>\n",
       "    <tr>\n",
       "      <th>Fare</th>\n",
       "      <td>0.008211</td>\n",
       "      <td>NaN</td>\n",
       "      <td>-0.577147</td>\n",
       "      <td>0.332474</td>\n",
       "      <td>0.191514</td>\n",
       "      <td>0.171539</td>\n",
       "      <td>0.230046</td>\n",
       "      <td>1.000000</td>\n",
       "      <td>0.053588</td>\n",
       "      <td>0.150595</td>\n",
       "    </tr>\n",
       "    <tr>\n",
       "      <th>Embarked</th>\n",
       "      <td>-0.049863</td>\n",
       "      <td>NaN</td>\n",
       "      <td>0.031096</td>\n",
       "      <td>0.050405</td>\n",
       "      <td>0.126779</td>\n",
       "      <td>-0.100603</td>\n",
       "      <td>-0.125164</td>\n",
       "      <td>0.053588</td>\n",
       "      <td>1.000000</td>\n",
       "      <td>0.122205</td>\n",
       "    </tr>\n",
       "    <tr>\n",
       "      <th>title</th>\n",
       "      <td>0.015789</td>\n",
       "      <td>NaN</td>\n",
       "      <td>0.011875</td>\n",
       "      <td>-0.307685</td>\n",
       "      <td>0.580651</td>\n",
       "      <td>0.252831</td>\n",
       "      <td>0.218084</td>\n",
       "      <td>0.150595</td>\n",
       "      <td>0.122205</td>\n",
       "      <td>1.000000</td>\n",
       "    </tr>\n",
       "  </tbody>\n",
       "</table>\n",
       "</div>"
      ],
      "text/plain": [
       "             PassengerId  Survived    Pclass       Age       Sex     SibSp  \\\n",
       "PassengerId     1.000000       NaN -0.026751 -0.059113 -0.023245  0.003818   \n",
       "Survived             NaN       NaN       NaN       NaN       NaN       NaN   \n",
       "Pclass         -0.026751       NaN  1.000000 -0.461438 -0.108615  0.001087   \n",
       "Age            -0.059113       NaN -0.461438  1.000000  0.000537 -0.094570   \n",
       "Sex            -0.023245       NaN -0.108615  0.000537  1.000000  0.099943   \n",
       "SibSp           0.003818       NaN  0.001087 -0.094570  0.099943  1.000000   \n",
       "Parch           0.043080       NaN  0.018721 -0.038589  0.159120  0.306895   \n",
       "Fare            0.008211       NaN -0.577147  0.332474  0.191514  0.171539   \n",
       "Embarked       -0.049863       NaN  0.031096  0.050405  0.126779 -0.100603   \n",
       "title           0.015789       NaN  0.011875 -0.307685  0.580651  0.252831   \n",
       "\n",
       "                Parch      Fare  Embarked     title  \n",
       "PassengerId  0.043080  0.008211 -0.049863  0.015789  \n",
       "Survived          NaN       NaN       NaN       NaN  \n",
       "Pclass       0.018721 -0.577147  0.031096  0.011875  \n",
       "Age         -0.038589  0.332474  0.050405 -0.307685  \n",
       "Sex          0.159120  0.191514  0.126779  0.580651  \n",
       "SibSp        0.306895  0.171539 -0.100603  0.252831  \n",
       "Parch        1.000000  0.230046 -0.125164  0.218084  \n",
       "Fare         0.230046  1.000000  0.053588  0.150595  \n",
       "Embarked    -0.125164  0.053588  1.000000  0.122205  \n",
       "title        0.218084  0.150595  0.122205  1.000000  "
      ]
     },
     "execution_count": 71,
     "metadata": {},
     "output_type": "execute_result"
    }
   ],
   "source": [
    "testin['train'].corr()"
   ]
  },
  {
   "cell_type": "markdown",
   "metadata": {},
   "source": [
    "It seems the Fare correlates with Pclass very well, like in the training set example. As a result, we use a strategy similar to filling missing Age information. Here we use Pclass as the classifier and fill missing Fare with the median Fare from the corresponding Pclass category."
   ]
  },
  {
   "cell_type": "code",
   "execution_count": 72,
   "metadata": {
    "collapsed": false
   },
   "outputs": [],
   "source": [
    "medfare = datain['train'].groupby('Pclass')['Fare'].median()\n",
    "ind = testin['train'].Fare.isnull()\n",
    "testin['train'].loc[ind, 'Fare'] = testin['train'].Pclass[ind].map(medage)"
   ]
  },
  {
   "cell_type": "code",
   "execution_count": 78,
   "metadata": {
    "collapsed": false
   },
   "outputs": [],
   "source": [
    "Xtest = np.array(testin['train'].ix[:,2:])\n",
    "\n",
    "Xq = titan.xquad(X)\n",
    "Xtestq = titan.xquad(Xtest)\n",
    "m = Xq.shape[0]\n",
    "Xfull = titan.normdata(np.concatenate((Xq, Xtestq)))\n",
    "Xq = np.concatenate((np.ones(shape=(Xq.shape[0], 1)), Xfull[:m, :]), axis = 1)\n",
    "Xtestq = np.concatenate((np.ones(shape=(Xtestq.shape[0], 1)), Xfull[m:, :]), axis = 1)\n",
    "\n",
    "theta0 = np.zeros(shape = (Xq.shape[1], 1))  \n",
    "w = scop.fmin_l_bfgs_b(titan.lfCost, theta0, titan.lfGradient, (Xq, y, 3.0))\n",
    "\n",
    "ytest = titan.sigmoid(np.dot(Xtestq, w[0]))\n",
    "ytest[ytest > 0.5] = 1\n",
    "ytest[ytest < 0.5] = 0\n",
    "\n",
    "testin['train'].Survived = ytest.astype(int)"
   ]
  },
  {
   "cell_type": "code",
   "execution_count": 79,
   "metadata": {
    "collapsed": false
   },
   "outputs": [
    {
     "data": {
      "text/html": [
       "<div>\n",
       "<table border=\"1\" class=\"dataframe\">\n",
       "  <thead>\n",
       "    <tr style=\"text-align: right;\">\n",
       "      <th></th>\n",
       "      <th>PassengerId</th>\n",
       "      <th>Survived</th>\n",
       "      <th>Pclass</th>\n",
       "      <th>Age</th>\n",
       "      <th>Sex</th>\n",
       "      <th>SibSp</th>\n",
       "      <th>Parch</th>\n",
       "      <th>Fare</th>\n",
       "      <th>Embarked</th>\n",
       "      <th>title</th>\n",
       "    </tr>\n",
       "  </thead>\n",
       "  <tbody>\n",
       "    <tr>\n",
       "      <th>PassengerId</th>\n",
       "      <td>1.000000</td>\n",
       "      <td>0.001085</td>\n",
       "      <td>-0.026751</td>\n",
       "      <td>-0.059113</td>\n",
       "      <td>-0.023245</td>\n",
       "      <td>0.003818</td>\n",
       "      <td>0.043080</td>\n",
       "      <td>0.008851</td>\n",
       "      <td>-0.049863</td>\n",
       "      <td>0.015789</td>\n",
       "    </tr>\n",
       "    <tr>\n",
       "      <th>Survived</th>\n",
       "      <td>0.001085</td>\n",
       "      <td>1.000000</td>\n",
       "      <td>-0.174442</td>\n",
       "      <td>-0.114955</td>\n",
       "      <td>0.820616</td>\n",
       "      <td>0.031786</td>\n",
       "      <td>0.112895</td>\n",
       "      <td>0.266820</td>\n",
       "      <td>0.145265</td>\n",
       "      <td>0.712244</td>\n",
       "    </tr>\n",
       "    <tr>\n",
       "      <th>Pclass</th>\n",
       "      <td>-0.026751</td>\n",
       "      <td>-0.174442</td>\n",
       "      <td>1.000000</td>\n",
       "      <td>-0.461438</td>\n",
       "      <td>-0.108615</td>\n",
       "      <td>0.001087</td>\n",
       "      <td>0.018721</td>\n",
       "      <td>-0.577594</td>\n",
       "      <td>0.031096</td>\n",
       "      <td>0.011875</td>\n",
       "    </tr>\n",
       "    <tr>\n",
       "      <th>Age</th>\n",
       "      <td>-0.059113</td>\n",
       "      <td>-0.114955</td>\n",
       "      <td>-0.461438</td>\n",
       "      <td>1.000000</td>\n",
       "      <td>0.000537</td>\n",
       "      <td>-0.094570</td>\n",
       "      <td>-0.038589</td>\n",
       "      <td>0.326883</td>\n",
       "      <td>0.050405</td>\n",
       "      <td>-0.307685</td>\n",
       "    </tr>\n",
       "    <tr>\n",
       "      <th>Sex</th>\n",
       "      <td>-0.023245</td>\n",
       "      <td>0.820616</td>\n",
       "      <td>-0.108615</td>\n",
       "      <td>0.000537</td>\n",
       "      <td>1.000000</td>\n",
       "      <td>0.099943</td>\n",
       "      <td>0.159120</td>\n",
       "      <td>0.192348</td>\n",
       "      <td>0.126779</td>\n",
       "      <td>0.580651</td>\n",
       "    </tr>\n",
       "    <tr>\n",
       "      <th>SibSp</th>\n",
       "      <td>0.003818</td>\n",
       "      <td>0.031786</td>\n",
       "      <td>0.001087</td>\n",
       "      <td>-0.094570</td>\n",
       "      <td>0.099943</td>\n",
       "      <td>1.000000</td>\n",
       "      <td>0.306895</td>\n",
       "      <td>0.172108</td>\n",
       "      <td>-0.100603</td>\n",
       "      <td>0.252831</td>\n",
       "    </tr>\n",
       "    <tr>\n",
       "      <th>Parch</th>\n",
       "      <td>0.043080</td>\n",
       "      <td>0.112895</td>\n",
       "      <td>0.018721</td>\n",
       "      <td>-0.038589</td>\n",
       "      <td>0.159120</td>\n",
       "      <td>0.306895</td>\n",
       "      <td>1.000000</td>\n",
       "      <td>0.230462</td>\n",
       "      <td>-0.125164</td>\n",
       "      <td>0.218084</td>\n",
       "    </tr>\n",
       "    <tr>\n",
       "      <th>Fare</th>\n",
       "      <td>0.008851</td>\n",
       "      <td>0.266820</td>\n",
       "      <td>-0.577594</td>\n",
       "      <td>0.326883</td>\n",
       "      <td>0.192348</td>\n",
       "      <td>0.172108</td>\n",
       "      <td>0.230462</td>\n",
       "      <td>1.000000</td>\n",
       "      <td>0.054471</td>\n",
       "      <td>0.151458</td>\n",
       "    </tr>\n",
       "    <tr>\n",
       "      <th>Embarked</th>\n",
       "      <td>-0.049863</td>\n",
       "      <td>0.145265</td>\n",
       "      <td>0.031096</td>\n",
       "      <td>0.050405</td>\n",
       "      <td>0.126779</td>\n",
       "      <td>-0.100603</td>\n",
       "      <td>-0.125164</td>\n",
       "      <td>0.054471</td>\n",
       "      <td>1.000000</td>\n",
       "      <td>0.122205</td>\n",
       "    </tr>\n",
       "    <tr>\n",
       "      <th>title</th>\n",
       "      <td>0.015789</td>\n",
       "      <td>0.712244</td>\n",
       "      <td>0.011875</td>\n",
       "      <td>-0.307685</td>\n",
       "      <td>0.580651</td>\n",
       "      <td>0.252831</td>\n",
       "      <td>0.218084</td>\n",
       "      <td>0.151458</td>\n",
       "      <td>0.122205</td>\n",
       "      <td>1.000000</td>\n",
       "    </tr>\n",
       "  </tbody>\n",
       "</table>\n",
       "</div>"
      ],
      "text/plain": [
       "             PassengerId  Survived    Pclass       Age       Sex     SibSp  \\\n",
       "PassengerId     1.000000  0.001085 -0.026751 -0.059113 -0.023245  0.003818   \n",
       "Survived        0.001085  1.000000 -0.174442 -0.114955  0.820616  0.031786   \n",
       "Pclass         -0.026751 -0.174442  1.000000 -0.461438 -0.108615  0.001087   \n",
       "Age            -0.059113 -0.114955 -0.461438  1.000000  0.000537 -0.094570   \n",
       "Sex            -0.023245  0.820616 -0.108615  0.000537  1.000000  0.099943   \n",
       "SibSp           0.003818  0.031786  0.001087 -0.094570  0.099943  1.000000   \n",
       "Parch           0.043080  0.112895  0.018721 -0.038589  0.159120  0.306895   \n",
       "Fare            0.008851  0.266820 -0.577594  0.326883  0.192348  0.172108   \n",
       "Embarked       -0.049863  0.145265  0.031096  0.050405  0.126779 -0.100603   \n",
       "title           0.015789  0.712244  0.011875 -0.307685  0.580651  0.252831   \n",
       "\n",
       "                Parch      Fare  Embarked     title  \n",
       "PassengerId  0.043080  0.008851 -0.049863  0.015789  \n",
       "Survived     0.112895  0.266820  0.145265  0.712244  \n",
       "Pclass       0.018721 -0.577594  0.031096  0.011875  \n",
       "Age         -0.038589  0.326883  0.050405 -0.307685  \n",
       "Sex          0.159120  0.192348  0.126779  0.580651  \n",
       "SibSp        0.306895  0.172108 -0.100603  0.252831  \n",
       "Parch        1.000000  0.230462 -0.125164  0.218084  \n",
       "Fare         0.230462  1.000000  0.054471  0.151458  \n",
       "Embarked    -0.125164  0.054471  1.000000  0.122205  \n",
       "title        0.218084  0.151458  0.122205  1.000000  "
      ]
     },
     "execution_count": 79,
     "metadata": {},
     "output_type": "execute_result"
    }
   ],
   "source": [
    "testin['train'].corr()"
   ]
  },
  {
   "cell_type": "code",
   "execution_count": 80,
   "metadata": {
    "collapsed": true
   },
   "outputs": [],
   "source": [
    "testin['train'].to_csv('titanic_v1.csv', columns = ['PassengerId', 'Survived'], index = False)"
   ]
  },
  {
   "cell_type": "code",
   "execution_count": null,
   "metadata": {
    "collapsed": true
   },
   "outputs": [],
   "source": []
  }
 ],
 "metadata": {
  "kernelspec": {
   "display_name": "Python 2",
   "language": "python",
   "name": "python2"
  },
  "language_info": {
   "codemirror_mode": {
    "name": "ipython",
    "version": 2
   },
   "file_extension": ".py",
   "mimetype": "text/x-python",
   "name": "python",
   "nbconvert_exporter": "python",
   "pygments_lexer": "ipython2",
   "version": "2.7.13"
  }
 },
 "nbformat": 4,
 "nbformat_minor": 2
}
