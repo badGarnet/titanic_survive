{
 "cells": [
  {
   "cell_type": "markdown",
   "metadata": {},
   "source": [
    "This note book summarizes the results of using logistic regression to determine the whether a passenger on board of the Titanic survives or not, given their social economical class, age, sex, etc. Analysis show a passengers gender, age, and social economical class are the three most important factors (in decending order). The decision boundary between survived and not survived is potentially highly nonlinear due to the nature of the data. A simple linear function (with the inputs as is) gives slightly less than 80% accuracy on a validation set that consists 40% of the total training data. A 2nd order polynormial function can improve the accuracy to around 83%. In the model, missing age was filled by mapping the title (extracted from name) to the median age in the title group."
   ]
  },
  {
   "cell_type": "code",
   "execution_count": 1,
   "metadata": {
    "collapsed": false
   },
   "outputs": [
    {
     "data": {
      "text/html": [
       "<div>\n",
       "<table border=\"1\" class=\"dataframe\">\n",
       "  <thead>\n",
       "    <tr style=\"text-align: right;\">\n",
       "      <th></th>\n",
       "      <th>Survived</th>\n",
       "      <th>Pclass</th>\n",
       "      <th>Age</th>\n",
       "      <th>Sex</th>\n",
       "      <th>SibSp</th>\n",
       "      <th>Parch</th>\n",
       "      <th>Fare</th>\n",
       "      <th>Embarked</th>\n",
       "    </tr>\n",
       "  </thead>\n",
       "  <tbody>\n",
       "    <tr>\n",
       "      <th>count</th>\n",
       "      <td>535.000000</td>\n",
       "      <td>535.000000</td>\n",
       "      <td>424.000000</td>\n",
       "      <td>535.000000</td>\n",
       "      <td>535.000000</td>\n",
       "      <td>535.000000</td>\n",
       "      <td>535.000000</td>\n",
       "      <td>535.000000</td>\n",
       "    </tr>\n",
       "    <tr>\n",
       "      <th>mean</th>\n",
       "      <td>0.386916</td>\n",
       "      <td>2.325234</td>\n",
       "      <td>29.266509</td>\n",
       "      <td>-0.256075</td>\n",
       "      <td>0.549533</td>\n",
       "      <td>0.370093</td>\n",
       "      <td>31.716035</td>\n",
       "      <td>1.366355</td>\n",
       "    </tr>\n",
       "    <tr>\n",
       "      <th>std</th>\n",
       "      <td>0.487500</td>\n",
       "      <td>0.829477</td>\n",
       "      <td>14.434267</td>\n",
       "      <td>0.967562</td>\n",
       "      <td>1.125494</td>\n",
       "      <td>0.767702</td>\n",
       "      <td>47.259528</td>\n",
       "      <td>0.676234</td>\n",
       "    </tr>\n",
       "    <tr>\n",
       "      <th>min</th>\n",
       "      <td>0.000000</td>\n",
       "      <td>1.000000</td>\n",
       "      <td>0.750000</td>\n",
       "      <td>-1.000000</td>\n",
       "      <td>0.000000</td>\n",
       "      <td>0.000000</td>\n",
       "      <td>0.000000</td>\n",
       "      <td>-3.000000</td>\n",
       "    </tr>\n",
       "    <tr>\n",
       "      <th>25%</th>\n",
       "      <td>0.000000</td>\n",
       "      <td>2.000000</td>\n",
       "      <td>20.875000</td>\n",
       "      <td>-1.000000</td>\n",
       "      <td>0.000000</td>\n",
       "      <td>0.000000</td>\n",
       "      <td>7.925000</td>\n",
       "      <td>1.000000</td>\n",
       "    </tr>\n",
       "    <tr>\n",
       "      <th>50%</th>\n",
       "      <td>0.000000</td>\n",
       "      <td>3.000000</td>\n",
       "      <td>28.000000</td>\n",
       "      <td>-1.000000</td>\n",
       "      <td>0.000000</td>\n",
       "      <td>0.000000</td>\n",
       "      <td>14.454200</td>\n",
       "      <td>1.000000</td>\n",
       "    </tr>\n",
       "    <tr>\n",
       "      <th>75%</th>\n",
       "      <td>1.000000</td>\n",
       "      <td>3.000000</td>\n",
       "      <td>37.250000</td>\n",
       "      <td>1.000000</td>\n",
       "      <td>1.000000</td>\n",
       "      <td>0.000000</td>\n",
       "      <td>29.885400</td>\n",
       "      <td>2.000000</td>\n",
       "    </tr>\n",
       "    <tr>\n",
       "      <th>max</th>\n",
       "      <td>1.000000</td>\n",
       "      <td>3.000000</td>\n",
       "      <td>71.000000</td>\n",
       "      <td>1.000000</td>\n",
       "      <td>8.000000</td>\n",
       "      <td>5.000000</td>\n",
       "      <td>512.329200</td>\n",
       "      <td>3.000000</td>\n",
       "    </tr>\n",
       "  </tbody>\n",
       "</table>\n",
       "</div>"
      ],
      "text/plain": [
       "         Survived      Pclass         Age         Sex       SibSp       Parch  \\\n",
       "count  535.000000  535.000000  424.000000  535.000000  535.000000  535.000000   \n",
       "mean     0.386916    2.325234   29.266509   -0.256075    0.549533    0.370093   \n",
       "std      0.487500    0.829477   14.434267    0.967562    1.125494    0.767702   \n",
       "min      0.000000    1.000000    0.750000   -1.000000    0.000000    0.000000   \n",
       "25%      0.000000    2.000000   20.875000   -1.000000    0.000000    0.000000   \n",
       "50%      0.000000    3.000000   28.000000   -1.000000    0.000000    0.000000   \n",
       "75%      1.000000    3.000000   37.250000    1.000000    1.000000    0.000000   \n",
       "max      1.000000    3.000000   71.000000    1.000000    8.000000    5.000000   \n",
       "\n",
       "             Fare    Embarked  \n",
       "count  535.000000  535.000000  \n",
       "mean    31.716035    1.366355  \n",
       "std     47.259528    0.676234  \n",
       "min      0.000000   -3.000000  \n",
       "25%      7.925000    1.000000  \n",
       "50%     14.454200    1.000000  \n",
       "75%     29.885400    2.000000  \n",
       "max    512.329200    3.000000  "
      ]
     },
     "execution_count": 1,
     "metadata": {},
     "output_type": "execute_result"
    }
   ],
   "source": [
    "import scipy.optimize as scop\n",
    "import titanic_project as titan\n",
    "import numpy as np\n",
    "import matplotlib.pyplot as plt\n",
    "\n",
    "features = ['Survived', 'Pclass', 'Age', 'Sex', 'SibSp', 'Parch', 'Fare','Embarked','Name']\n",
    "datain = titan.readdata('train.csv', 0.6, 0.6, features)\n",
    "datain['train'].describe()"
   ]
  },
  {
   "cell_type": "code",
   "execution_count": 2,
   "metadata": {
    "collapsed": false
   },
   "outputs": [
    {
     "data": {
      "text/html": [
       "<div>\n",
       "<table border=\"1\" class=\"dataframe\">\n",
       "  <thead>\n",
       "    <tr style=\"text-align: right;\">\n",
       "      <th></th>\n",
       "      <th>Survived</th>\n",
       "      <th>Pclass</th>\n",
       "      <th>Age</th>\n",
       "      <th>Sex</th>\n",
       "      <th>SibSp</th>\n",
       "      <th>Parch</th>\n",
       "      <th>Fare</th>\n",
       "      <th>Embarked</th>\n",
       "    </tr>\n",
       "  </thead>\n",
       "  <tbody>\n",
       "    <tr>\n",
       "      <th>Survived</th>\n",
       "      <td>1.000000</td>\n",
       "      <td>-0.285660</td>\n",
       "      <td>-0.094232</td>\n",
       "      <td>0.559736</td>\n",
       "      <td>-0.029968</td>\n",
       "      <td>0.101782</td>\n",
       "      <td>0.210668</td>\n",
       "      <td>0.074648</td>\n",
       "    </tr>\n",
       "    <tr>\n",
       "      <th>Pclass</th>\n",
       "      <td>-0.285660</td>\n",
       "      <td>1.000000</td>\n",
       "      <td>-0.359838</td>\n",
       "      <td>-0.140481</td>\n",
       "      <td>0.085795</td>\n",
       "      <td>0.008385</td>\n",
       "      <td>-0.587926</td>\n",
       "      <td>-0.094167</td>\n",
       "    </tr>\n",
       "    <tr>\n",
       "      <th>Age</th>\n",
       "      <td>-0.094232</td>\n",
       "      <td>-0.359838</td>\n",
       "      <td>1.000000</td>\n",
       "      <td>-0.091064</td>\n",
       "      <td>-0.353861</td>\n",
       "      <td>-0.238634</td>\n",
       "      <td>0.083645</td>\n",
       "      <td>0.018236</td>\n",
       "    </tr>\n",
       "    <tr>\n",
       "      <th>Sex</th>\n",
       "      <td>0.559736</td>\n",
       "      <td>-0.140481</td>\n",
       "      <td>-0.091064</td>\n",
       "      <td>1.000000</td>\n",
       "      <td>0.069462</td>\n",
       "      <td>0.167201</td>\n",
       "      <td>0.183197</td>\n",
       "      <td>0.061273</td>\n",
       "    </tr>\n",
       "    <tr>\n",
       "      <th>SibSp</th>\n",
       "      <td>-0.029968</td>\n",
       "      <td>0.085795</td>\n",
       "      <td>-0.353861</td>\n",
       "      <td>0.069462</td>\n",
       "      <td>1.000000</td>\n",
       "      <td>0.414155</td>\n",
       "      <td>0.167069</td>\n",
       "      <td>0.021752</td>\n",
       "    </tr>\n",
       "    <tr>\n",
       "      <th>Parch</th>\n",
       "      <td>0.101782</td>\n",
       "      <td>0.008385</td>\n",
       "      <td>-0.238634</td>\n",
       "      <td>0.167201</td>\n",
       "      <td>0.414155</td>\n",
       "      <td>1.000000</td>\n",
       "      <td>0.252656</td>\n",
       "      <td>-0.072881</td>\n",
       "    </tr>\n",
       "    <tr>\n",
       "      <th>Fare</th>\n",
       "      <td>0.210668</td>\n",
       "      <td>-0.587926</td>\n",
       "      <td>0.083645</td>\n",
       "      <td>0.183197</td>\n",
       "      <td>0.167069</td>\n",
       "      <td>0.252656</td>\n",
       "      <td>1.000000</td>\n",
       "      <td>0.142913</td>\n",
       "    </tr>\n",
       "    <tr>\n",
       "      <th>Embarked</th>\n",
       "      <td>0.074648</td>\n",
       "      <td>-0.094167</td>\n",
       "      <td>0.018236</td>\n",
       "      <td>0.061273</td>\n",
       "      <td>0.021752</td>\n",
       "      <td>-0.072881</td>\n",
       "      <td>0.142913</td>\n",
       "      <td>1.000000</td>\n",
       "    </tr>\n",
       "  </tbody>\n",
       "</table>\n",
       "</div>"
      ],
      "text/plain": [
       "          Survived    Pclass       Age       Sex     SibSp     Parch  \\\n",
       "Survived  1.000000 -0.285660 -0.094232  0.559736 -0.029968  0.101782   \n",
       "Pclass   -0.285660  1.000000 -0.359838 -0.140481  0.085795  0.008385   \n",
       "Age      -0.094232 -0.359838  1.000000 -0.091064 -0.353861 -0.238634   \n",
       "Sex       0.559736 -0.140481 -0.091064  1.000000  0.069462  0.167201   \n",
       "SibSp    -0.029968  0.085795 -0.353861  0.069462  1.000000  0.414155   \n",
       "Parch     0.101782  0.008385 -0.238634  0.167201  0.414155  1.000000   \n",
       "Fare      0.210668 -0.587926  0.083645  0.183197  0.167069  0.252656   \n",
       "Embarked  0.074648 -0.094167  0.018236  0.061273  0.021752 -0.072881   \n",
       "\n",
       "              Fare  Embarked  \n",
       "Survived  0.210668  0.074648  \n",
       "Pclass   -0.587926 -0.094167  \n",
       "Age       0.083645  0.018236  \n",
       "Sex       0.183197  0.061273  \n",
       "SibSp     0.167069  0.021752  \n",
       "Parch     0.252656 -0.072881  \n",
       "Fare      1.000000  0.142913  \n",
       "Embarked  0.142913  1.000000  "
      ]
     },
     "execution_count": 2,
     "metadata": {},
     "output_type": "execute_result"
    }
   ],
   "source": [
    "datain['train'].dropna(how='any').corr()"
   ]
  },
  {
   "cell_type": "markdown",
   "metadata": {},
   "source": [
    "The correlation table shows that the most important features are the gender (Sex), social economical class (Pclass and to some extent Fare, those two features are closely correlated). Where the passenger embarked and the sibling spouse count doesn't matter too much. Age is not insignificant, however it is missing in 26% of the training records as shown here. All other features contains no NaN values in the training set."
   ]
  },
  {
   "cell_type": "code",
   "execution_count": 24,
   "metadata": {
    "collapsed": false
   },
   "outputs": [
    {
     "data": {
      "text/plain": [
       "Survived    0.000000\n",
       "Pclass      0.000000\n",
       "Age         0.261792\n",
       "Sex         0.000000\n",
       "SibSp       0.000000\n",
       "Parch       0.000000\n",
       "Fare        0.000000\n",
       "Embarked    0.000000\n",
       "Name        0.000000\n",
       "dtype: float64"
      ]
     },
     "execution_count": 24,
     "metadata": {},
     "output_type": "execute_result"
    }
   ],
   "source": [
    "datain['train'].isnull().sum() * 1.0 / datain['train'].count()"
   ]
  },
  {
   "cell_type": "markdown",
   "metadata": {},
   "source": [
    "Given the potential important of Age I attempt to correlate it to other parameters to improve the final model. The correlation table shows that Age correlates well with Pclass, SibSp, and Parch. After examining the names I find the title in the names, e.g., Mr, could also be used to correlate to age because each title group seem to have a distinct median age."
   ]
  },
  {
   "cell_type": "code",
   "execution_count": 6,
   "metadata": {
    "collapsed": false
   },
   "outputs": [],
   "source": [
    "tmap = {' Mr':0, ' Mrs':1, ' Miss':2, ' Mme':1, ' Master':3}\n",
    "title = datain['train'].Name.apply(titan.name2title).map(tmap).fillna(4).astype(int)"
   ]
  },
  {
   "cell_type": "code",
   "execution_count": 22,
   "metadata": {
    "collapsed": false
   },
   "outputs": [
    {
     "data": {
      "text/plain": [
       "array([[ 1.        , -0.31492767],\n",
       "       [-0.31492767,  1.        ]])"
      ]
     },
     "execution_count": 22,
     "metadata": {},
     "output_type": "execute_result"
    }
   ],
   "source": [
    "ind = datain['train'].Age.notnull()\n",
    "np.corrcoef(datain['train'].Age[ind], title[ind])"
   ]
  },
  {
   "cell_type": "markdown",
   "metadata": {},
   "source": [
    "The correlation coefficient matrix shows that Age and extracted title are closely related. The first model I build is to calculate Age based on Pclass, SibSp, Parch, and title."
   ]
  }
 ],
 "metadata": {
  "kernelspec": {
   "display_name": "Python 2",
   "language": "python",
   "name": "python2"
  },
  "language_info": {
   "codemirror_mode": {
    "name": "ipython",
    "version": 2
   },
   "file_extension": ".py",
   "mimetype": "text/x-python",
   "name": "python",
   "nbconvert_exporter": "python",
   "pygments_lexer": "ipython2",
   "version": "2.7.13"
  }
 },
 "nbformat": 4,
 "nbformat_minor": 2
}
