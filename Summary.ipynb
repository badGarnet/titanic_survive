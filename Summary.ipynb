{
 "cells": [
  {
   "cell_type": "markdown",
   "metadata": {},
   "source": [
    "This note book summarizes the results of using logistic regression to determine the whether a passenger on board of the Titanic survives or not, given their social economical class, age, sex, etc. Analysis show a passengers gender, age, and social economical class are the three most important factors (in decending order). The decision boundary between survived and not survived is potentially highly nonlinear due to the nature of the data. A simple linear function (with the inputs as is) gives slightly less than 80% accuracy on a validation set that consists 40% of the total training data. A 2nd order polynormial function can improve the accuracy to around 83%. "
   ]
  },
  {
   "cell_type": "code",
   "execution_count": null,
   "metadata": {
    "collapsed": true
   },
   "outputs": [],
   "source": []
  }
 ],
 "metadata": {
  "kernelspec": {
   "display_name": "Python 2",
   "language": "python",
   "name": "python2"
  },
  "language_info": {
   "codemirror_mode": {
    "name": "ipython",
    "version": 2
   },
   "file_extension": ".py",
   "mimetype": "text/x-python",
   "name": "python",
   "nbconvert_exporter": "python",
   "pygments_lexer": "ipython2",
   "version": "2.7.13"
  }
 },
 "nbformat": 4,
 "nbformat_minor": 2
}
